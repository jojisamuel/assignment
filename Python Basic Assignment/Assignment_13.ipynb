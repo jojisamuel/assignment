{
 "cells": [
  {
   "cell_type": "markdown",
   "id": "e3bb5f2d",
   "metadata": {},
   "source": [
    "# Assignment 13 Solutions"
   ]
  },
  {
   "cell_type": "markdown",
   "id": "d8aab80a",
   "metadata": {},
   "source": [
    "#### 1. What advantages do Excel spreadsheets have over CSV spreadsheets?\n",
    "**Ans:** Excel spreadsheets have several advantages over CSV (Comma Separated Values) spreadsheets:\n",
    "\n",
    "    Data organization: Excel provides a more organized way of storing data than CSV files. With Excel, you can group and organize data into different sheets and workbooks. This allows you to analyze large amounts of data easily and quickly.\n",
    "\n",
    "    Data formatting: Excel allows you to format data in different ways, such as adding colors, borders, and fonts to your data. This makes it easier to read and understand the data.\n",
    "\n",
    "    Calculations: Excel has built-in formulas and functions that allow you to perform calculations on your data. This can save you time and effort when analyzing data.\n",
    "\n",
    "    Graphs and charts: Excel has powerful graphing and charting tools that allow you to visualize data in a meaningful way. This makes it easier to communicate your findings to others.\n",
    "\n",
    "    Collaboration: Excel allows multiple users to work on the same spreadsheet simultaneously. This makes it easier to collaborate on projects and share data with others."
   ]
  },
  {
   "cell_type": "markdown",
   "id": "b66e958d",
   "metadata": {},
   "source": [
    "#### 2. What do you pass to csv.reader() and csv.writer() to create reader and writer objects?"
   ]
  },
  {
   "cell_type": "markdown",
   "id": "02350c68",
   "metadata": {},
   "source": [
    "**Ans:** To create a reader object using the csv module in Python, you need to pass a file object or an iterable object containing CSV data to the csv.reader() function. \n",
    "For example, you can pass an open file object as shown below:"
   ]
  },
  {
   "cell_type": "code",
   "execution_count": 6,
   "id": "a61bba41",
   "metadata": {},
   "outputs": [
    {
     "name": "stdout",
     "output_type": "stream",
     "text": [
      "['name', 'department', 'salary']\n",
      "['Ravi', 'HR', '5000']\n",
      "['Summit', 'Sales', '6000']\n",
      "['Kavita', 'Dev', '4000']\n"
     ]
    }
   ],
   "source": [
    "import csv\n",
    "\n",
    "with open('file.csv', 'r') as csvfile:\n",
    "    csvreader = csv.reader(csvfile)\n",
    "    for row in csvreader:\n",
    "        print(row)\n"
   ]
  },
  {
   "cell_type": "markdown",
   "id": "c3478f56",
   "metadata": {},
   "source": [
    "#### 3. What modes do File objects for reader and writer objects need to be opened in?\n",
    "**Ans:** For `csv.reader(iterable_file_object)`, the file objects needed to be opened in `read` mode `mode='r'` Whereas for `csv.writer(iterable_file_object)` the file objects needed to be opened in `write` mode `mode='w'`\n"
   ]
  },
  {
   "cell_type": "markdown",
   "id": "c2f017ec",
   "metadata": {},
   "source": [
    "#### 4. What method takes a list argument and writes it to a CSV file?\n",
    "**Ans:** csv.writer class provides two methods for writing to CSV. They are `writerow()` and `writerows().` writerow() method writes a single row at a time. Whereas writerows() method is used to write multiple rows at a time."
   ]
  },
  {
   "cell_type": "code",
   "execution_count": 8,
   "id": "3a3e46b5",
   "metadata": {},
   "outputs": [],
   "source": [
    "import csv\n",
    "\n",
    "# create a list of lists containing the data to be written to the CSV file\n",
    "data = [\n",
    "    ['John', 'Cena', 25],\n",
    "    ['Jane', 'Sone', 30],\n",
    "    ['Bob', 'John', 45]\n",
    "]\n",
    "\n",
    "# example using writerow()\n",
    "with open('output1.csv', 'w', newline='') as csvfile:\n",
    "    csvwriter = csv.writer(csvfile)\n",
    "    \n",
    "    csvwriter.writerow(['Name', 'Last Name', 'Age'])\n",
    "    \n",
    "    for row in data:\n",
    "        csvwriter.writerow(row)\n",
    "\n",
    "# example using writerows()\n",
    "with open('output2.csv', 'w', newline='') as csvfile:\n",
    "    csvwriter = csv.writer(csvfile)\n",
    "    \n",
    "    csvwriter.writerow(['Name', 'Last Name', 'Age'])\n",
    "    \n",
    "    csvwriter.writerows(data)\n"
   ]
  },
  {
   "cell_type": "markdown",
   "id": "68179164",
   "metadata": {},
   "source": [
    "#### 5. What do the keyword arguments delimiter and line terminator do?\n",
    "**Ans:** The delimiter argument specifies the character that separates the fields in the CSV file. The default delimiter is a comma (,), but you can specify a different character using the delimiter argument. For example, you can specify a tab character (\\t) as the delimiter like this:"
   ]
  },
  {
   "cell_type": "code",
   "execution_count": null,
   "id": "cc53f001",
   "metadata": {},
   "outputs": [],
   "source": [
    "import csv\n",
    "\n",
    "with open('file.csv', 'r') as csvfile:\n",
    "    csvreader = csv.reader(csvfile, delimiter='\\t')"
   ]
  },
  {
   "cell_type": "markdown",
   "id": "b67b7cf5",
   "metadata": {},
   "source": [
    "The lineterminator argument specifies the character(s) used to terminate a row in the CSV file. The default line terminator is a carriage return followed by a linefeed (\\r\\n) on Windows or just a linefeed (\\n) on Unix-based systems. You can specify a different line terminator using the lineterminator argument. For example, you can specify a newline character (\\n) as the line terminator like this:"
   ]
  },
  {
   "cell_type": "code",
   "execution_count": 9,
   "id": "a03bd352",
   "metadata": {},
   "outputs": [],
   "source": [
    "import csv\n",
    "\n",
    "with open('file.csv', 'w', newline='\\n') as csvfile:\n",
    "    csvwriter = csv.writer(csvfile)\n",
    "    \n",
    "    csvwriter.writerow(['Name', 'Age', 'Gender'])\n",
    "    csvwriter.writerow(['John', '25', 'Male'])\n",
    "    csvwriter.writerow(['Jane', '30', 'Female'])\n"
   ]
  },
  {
   "cell_type": "markdown",
   "id": "94752f89",
   "metadata": {},
   "source": [
    "#### 6. What function takes a string of JSON data and returns a Python data structure?\n",
    "**Ans:** The json module in Python provides a loads() function that takes a string of JSON data and returns a Python data structure (such as a dictionary or list) that represents the data. The name loads stands for \"load string\"."
   ]
  },
  {
   "cell_type": "code",
   "execution_count": 10,
   "id": "cf976f3f",
   "metadata": {},
   "outputs": [
    {
     "name": "stdout",
     "output_type": "stream",
     "text": [
      "{'name': 'John Smith', 'age': 30, 'city': 'New York'}\n"
     ]
    }
   ],
   "source": [
    "import json\n",
    "\n",
    "# a JSON string\n",
    "json_string = '{\"name\": \"John Smith\", \"age\": 30, \"city\": \"New York\"}'\n",
    "\n",
    "# convert the JSON string to a Python data structure\n",
    "data = json.loads(json_string)\n",
    "\n",
    "# print the data\n",
    "print(data)\n"
   ]
  },
  {
   "cell_type": "code",
   "execution_count": 15,
   "id": "0f3b807f",
   "metadata": {},
   "outputs": [
    {
     "data": {
      "text/plain": [
       "dict"
      ]
     },
     "execution_count": 15,
     "metadata": {},
     "output_type": "execute_result"
    }
   ],
   "source": [
    "type(data)"
   ]
  },
  {
   "cell_type": "markdown",
   "id": "bc39716d",
   "metadata": {},
   "source": [
    "#### 7. What function takes a Python data structure and returns a string of JSON data?\n",
    "**Ans:** `dumps()` method takes a python data structure and returns a string of JSON data"
   ]
  },
  {
   "cell_type": "code",
   "execution_count": 11,
   "id": "5125a827",
   "metadata": {},
   "outputs": [
    {
     "name": "stdout",
     "output_type": "stream",
     "text": [
      "{\"name\": \"John Smith\", \"age\": 30, \"city\": \"New York\"}\n"
     ]
    }
   ],
   "source": [
    "import json\n",
    "\n",
    "# a Python dictionary\n",
    "data = {\n",
    "    \"name\": \"John Smith\",\n",
    "    \"age\": 30,\n",
    "    \"city\": \"New York\"\n",
    "}\n",
    "\n",
    "# convert the dictionary to a JSON string\n",
    "json_string = json.dumps(data)\n",
    "\n",
    "# print the JSON string\n",
    "print(json_string)\n"
   ]
  },
  {
   "cell_type": "code",
   "execution_count": 14,
   "id": "1023d859",
   "metadata": {},
   "outputs": [
    {
     "data": {
      "text/plain": [
       "str"
      ]
     },
     "execution_count": 14,
     "metadata": {},
     "output_type": "execute_result"
    }
   ],
   "source": [
    "type(json_string)"
   ]
  },
  {
   "cell_type": "code",
   "execution_count": null,
   "id": "815c4cae",
   "metadata": {},
   "outputs": [],
   "source": []
  }
 ],
 "metadata": {
  "kernelspec": {
   "display_name": "Python 3 (ipykernel)",
   "language": "python",
   "name": "python3"
  },
  "language_info": {
   "codemirror_mode": {
    "name": "ipython",
    "version": 3
   },
   "file_extension": ".py",
   "mimetype": "text/x-python",
   "name": "python",
   "nbconvert_exporter": "python",
   "pygments_lexer": "ipython3",
   "version": "3.9.12"
  }
 },
 "nbformat": 4,
 "nbformat_minor": 5
}
