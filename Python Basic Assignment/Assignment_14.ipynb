{
 "cells": [
  {
   "cell_type": "markdown",
   "id": "bb28039f",
   "metadata": {},
   "source": [
    "# Assignment 14 Solutions"
   ]
  },
  {
   "cell_type": "markdown",
   "id": "7c6c3412",
   "metadata": {},
   "source": [
    "#### 1. What does RGBA stand for?\n",
    "**Ans:** **RGBA** stands for \"Red Green Blue Alpha\". It's a color model that is used to represent colors in digital images and graphics, particularly on computer screens. The RGBA model is an extension of the RGB color model, which represents colors using combinations of red, green, and blue. The \"alpha\" value in RGBA represents the opacity or transparency of the color, with a value of 0 representing complete transparency and a value of 1 representing complete opacity. So, an RGBA color is represented by four values: the amounts of red, green, and blue (each ranging from 0 to 255), and the alpha value (ranging from 0 to 1)."
   ]
  },
  {
   "cell_type": "markdown",
   "id": "39e9a315",
   "metadata": {},
   "source": [
    "#### 2. From the Pillow module, how do you get the RGBA value of any images?\n",
    "**Ans:** **`ImageColor.getcolor()`** gives rgba value of any image "
   ]
  },
  {
   "cell_type": "code",
   "execution_count": 1,
   "id": "99839093",
   "metadata": {},
   "outputs": [
    {
     "name": "stdout",
     "output_type": "stream",
     "text": [
      "(255, 212, 84)\n"
     ]
    }
   ],
   "source": [
    "from PIL import Image\n",
    "\n",
    "# Open the image file\n",
    "image = Image.open(\"example.png\")\n",
    "\n",
    "# Get the RGBA value of a pixel at (x=50, y=100)\n",
    "pixel_rgba = image.getpixel((50, 100))\n",
    "\n",
    "# Print the RGBA value\n",
    "print(pixel_rgba)\n"
   ]
  },
  {
   "cell_type": "markdown",
   "id": "185bf687",
   "metadata": {},
   "source": [
    "#### 3. What is a box tuple, and how does it work?\n",
    "**Ans:** A box tuple is a tuple value of four integers: the left-edge x-coordinate, the top-edge y-coordinate,the width, and the height, respectively."
   ]
  },
  {
   "cell_type": "markdown",
   "id": "2dd0185d",
   "metadata": {},
   "source": [
    "#### 4. Use your image and load in notebook then, How can you find out the width and height of an Image object?"
   ]
  },
  {
   "cell_type": "markdown",
   "id": "66a2e79c",
   "metadata": {},
   "source": [
    "**Ans:** To find out the width and height of an Image object using the Pillow module in Python, you can use the size attribute of the Image object."
   ]
  },
  {
   "cell_type": "code",
   "execution_count": 5,
   "id": "1b9e60eb",
   "metadata": {},
   "outputs": [
    {
     "name": "stdout",
     "output_type": "stream",
     "text": [
      "Width, Height -> (605, 345)\n"
     ]
    }
   ],
   "source": [
    "from PIL import Image\n",
    "pic = Image.open('example.png')\n",
    "print(f'Width, Height -> {pic.size}') "
   ]
  },
  {
   "cell_type": "markdown",
   "id": "efc289ab",
   "metadata": {},
   "source": [
    "#### 5. What method would you call to get Image object for a 100×100 image, excluding the lower-left quarter of it?"
   ]
  },
  {
   "cell_type": "code",
   "execution_count": 6,
   "id": "4a82a38a",
   "metadata": {},
   "outputs": [],
   "source": [
    "from PIL import Image\n",
    "img = Image.open('example.png')\n",
    "new_img = img.crop((0,50,50,50))"
   ]
  },
  {
   "cell_type": "markdown",
   "id": "0ffd911b",
   "metadata": {},
   "source": [
    "#### 6. After making changes to an Image object, how could you save it as an image file?"
   ]
  },
  {
   "cell_type": "code",
   "execution_count": 8,
   "id": "e5939016",
   "metadata": {},
   "outputs": [],
   "source": [
    "from PIL import Image\n",
    "pic = Image.open('example.png')\n",
    "pic.save('pix.png')"
   ]
  },
  {
   "cell_type": "markdown",
   "id": "5ad56500",
   "metadata": {},
   "source": [
    "#### 7. What module contains Pillow’s shape-drawing code?\n",
    "**Ans:** Pillows **`ImageDraw`** module contains Shape drawing methods"
   ]
  },
  {
   "cell_type": "code",
   "execution_count": 9,
   "id": "d60e0829",
   "metadata": {},
   "outputs": [],
   "source": [
    "from PIL import Image, ImageDraw\n",
    "\n",
    "# Create an Image object\n",
    "image = Image.new(mode=\"RGB\", size=(500, 500), color=(255, 255, 255))\n",
    "\n",
    "# Create an ImageDraw object\n",
    "draw = ImageDraw.Draw(image)\n",
    "\n",
    "# Draw a red rectangle\n",
    "draw.rectangle((100, 100, 300, 300), fill=(255, 0, 0))\n",
    "\n",
    "# Display the image\n",
    "image.show()"
   ]
  },
  {
   "cell_type": "markdown",
   "id": "2a09c289",
   "metadata": {},
   "source": [
    "#### 8. Image objects do not have drawing methods. What kind of object does? How do you get this kind of object?\n",
    "**Ans:** ImageDraw objects have shape-drawing methods such as `point()`, `line()`, or `rectangle()`.They are returned by passing the Image object to the `ImageDraw.Draw()` function."
   ]
  },
  {
   "cell_type": "code",
   "execution_count": 1,
   "id": "61a08aaa",
   "metadata": {},
   "outputs": [],
   "source": [
    "from PIL import Image, ImageDraw\n",
    "\n",
    "# create a new image\n",
    "image = Image.new('RGB', (500, 500), (255, 255, 255))\n",
    "\n",
    "# create an ImageDraw object\n",
    "draw = ImageDraw.Draw(image)\n",
    "\n",
    "# draw a line\n",
    "draw.line((0, 0, 500, 500), fill=(255, 0, 0), width=5)\n",
    "\n",
    "# save the image\n",
    "image.save('line.png')\n"
   ]
  },
  {
   "cell_type": "code",
   "execution_count": null,
   "id": "5b525d81",
   "metadata": {},
   "outputs": [],
   "source": []
  }
 ],
 "metadata": {
  "kernelspec": {
   "display_name": "Python 3 (ipykernel)",
   "language": "python",
   "name": "python3"
  },
  "language_info": {
   "codemirror_mode": {
    "name": "ipython",
    "version": 3
   },
   "file_extension": ".py",
   "mimetype": "text/x-python",
   "name": "python",
   "nbconvert_exporter": "python",
   "pygments_lexer": "ipython3",
   "version": "3.9.12"
  }
 },
 "nbformat": 4,
 "nbformat_minor": 5
}
