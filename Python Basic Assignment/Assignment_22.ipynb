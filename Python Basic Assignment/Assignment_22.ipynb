{
 "cells": [
  {
   "cell_type": "markdown",
   "id": "b46298c3",
   "metadata": {},
   "source": [
    "# Assignment 22 Solutions"
   ]
  },
  {
   "cell_type": "markdown",
   "id": "54d8a635",
   "metadata": {},
   "source": [
    "### 1. What is the result of the code, and explain?\n",
    "`>>> X = 'iNeuron'`  \n",
    "`>>> def func():`  \n",
    "`    print(X)`  \n",
    "`>>> func()`"
   ]
  },
  {
   "cell_type": "markdown",
   "id": "5c9645c1",
   "metadata": {},
   "source": [
    "**Ans:** The Result of this code is `iNeuron`, it's because the function intially looks for the variable `X` in its local scope,But since there is no local variable `X`, its returns the value of global variable `x` ie `iNeuron`"
   ]
  },
  {
   "cell_type": "code",
   "execution_count": 1,
   "id": "62056104",
   "metadata": {},
   "outputs": [
    {
     "name": "stdout",
     "output_type": "stream",
     "text": [
      "iNeuron\n"
     ]
    }
   ],
   "source": [
    "X = 'iNeuron'\n",
    "def func():\n",
    "    print(X)\n",
    "func()"
   ]
  },
  {
   "cell_type": "markdown",
   "id": "6e2e8315",
   "metadata": {},
   "source": [
    "### 2. What is the result of the code, and explain?\n",
    "`>>> X = 'iNeuron'`  \n",
    "`>>> def func():`  \n",
    "`X = 'NI!'`  \n",
    "`>>> func()`  \n",
    "`>>> print(X)`  "
   ]
  },
  {
   "cell_type": "markdown",
   "id": "bf6e483e",
   "metadata": {},
   "source": [
    "**Ans:** The Result of this code is `NI!`, because the function initially looks for the variable `X` in its local scope if `X` is not available then it checks for variable `X` in the global scope, Since here the `X` is present in the local scope. it prints the value `NI!`"
   ]
  },
  {
   "cell_type": "markdown",
   "id": "5d24da28",
   "metadata": {},
   "source": [
    "#### 3. What does this code print, and why?\n",
    "`>>> X = 'iNeuron'`  \n",
    "`>>> def func():`  \n",
    "`X = 'NI'`  \n",
    "`print(X)`  \n",
    "`>>> func()`  \n",
    "`>>> print(X)`  "
   ]
  },
  {
   "cell_type": "markdown",
   "id": "9f1c5217",
   "metadata": {},
   "source": [
    "**Ans:** The output of the code is `NI` and `iNeuron`. `X=NI` is in the local scope of the function `func()`. Hence the function prints the x value as  `NI`.  `X = 'iNeuron'` is in the global scope. Hence `print(X)` prints output as `iNeuron`"
   ]
  },
  {
   "cell_type": "code",
   "execution_count": 2,
   "id": "399c1c64",
   "metadata": {},
   "outputs": [
    {
     "name": "stdout",
     "output_type": "stream",
     "text": [
      "NI\n",
      "iNeuron\n"
     ]
    }
   ],
   "source": [
    "X = 'iNeuron'\n",
    "def func():\n",
    "    X = 'NI'\n",
    "    print(X)\n",
    "func()\n",
    "print(X)"
   ]
  },
  {
   "cell_type": "markdown",
   "id": "e9286004",
   "metadata": {},
   "source": [
    "### 4. What output does this code produce? Why?\n",
    "`>>> X = 'iNeuron'`   \n",
    "`>>> def func():`   \n",
    "`global X`   \n",
    "`X = 'NI'`   \n",
    "`>>> func()`   \n",
    "`>>> print(X)` "
   ]
  },
  {
   "cell_type": "markdown",
   "id": "3e815984",
   "metadata": {},
   "source": [
    "**Ans:** The output of the code is `NI`. The `global` keyword allows a variable to be accessible in the current scope. Since we are using global keyword inside the function `func`, it directly accesses the variable in `X` in global scope and changes its value to `NI`. Hence the output of the code is `NI` as shown below."
   ]
  },
  {
   "cell_type": "code",
   "execution_count": 3,
   "id": "2e0817d5",
   "metadata": {},
   "outputs": [
    {
     "name": "stdout",
     "output_type": "stream",
     "text": [
      "NI\n"
     ]
    }
   ],
   "source": [
    "X = 'iNeuron'\n",
    "def func():\n",
    "    global X\n",
    "    X = 'NI'\n",
    "func()\n",
    "print(X)"
   ]
  },
  {
   "cell_type": "markdown",
   "id": "a7f84cb7",
   "metadata": {},
   "source": [
    "### 5. What about this code—what’s the output, and why?\n",
    "`>>> X = 'iNeuron'`   \n",
    "`>>> def func():`   \n",
    "`X = 'NI'`   \n",
    "`def nested():`   \n",
    "`print(X)`   \n",
    "`nested()`   \n",
    "`>>> func()`   \n",
    "`>>> X` "
   ]
  },
  {
   "cell_type": "markdown",
   "id": "e6a08f0b",
   "metadata": {},
   "source": [
    "**Ans:** The output of the code is `NI` and `iNeuron`. Output of func() is 'NI' because it has a variable X as 'NI' in its local scope whereas Output of X is 'iNeuron' because it refers to variable X that is having global scope instead of referring to a variable having a local scope in a function."
   ]
  },
  {
   "cell_type": "code",
   "execution_count": 5,
   "id": "db023112",
   "metadata": {},
   "outputs": [
    {
     "name": "stdout",
     "output_type": "stream",
     "text": [
      "NI\n"
     ]
    },
    {
     "data": {
      "text/plain": [
       "'iNeuron'"
      ]
     },
     "execution_count": 5,
     "metadata": {},
     "output_type": "execute_result"
    }
   ],
   "source": [
    "X = 'iNeuron'\n",
    "def func():\n",
    "    X = 'NI'\n",
    "    def nested():\n",
    "        print(X)\n",
    "    nested()\n",
    "func()\n",
    "X"
   ]
  },
  {
   "cell_type": "markdown",
   "id": "c90e256e",
   "metadata": {},
   "source": [
    "### 6. How about this code: what is its output in Python 3, and explain?\n",
    "`>>> def func():`  \n",
    "`X = 'NI'`  \n",
    "`def nested():`  \n",
    "`nonlocal X`  \n",
    "`X = 'Spam'`  \n",
    "`nested()`  \n",
    "`print(X)`  \n",
    "`>>> func()`"
   ]
  },
  {
   "cell_type": "markdown",
   "id": "c4693122",
   "metadata": {},
   "source": [
    "**Ans:** The output of the code is `Spam`. `nonlocal` keyword in python is used to declare a variable as not local.Hence the statement `X = \"Spam\"` is modified in the global scope. Hence the output of `print(X)` statement is `Spam`"
   ]
  },
  {
   "cell_type": "code",
   "execution_count": 6,
   "id": "a3231933",
   "metadata": {},
   "outputs": [
    {
     "name": "stdout",
     "output_type": "stream",
     "text": [
      "Spam\n"
     ]
    }
   ],
   "source": [
    "def func():\n",
    "    X = 'NI'\n",
    "    def nested():\n",
    "        nonlocal X\n",
    "        X = 'Spam'\n",
    "    nested()\n",
    "    print(X)\n",
    "func()"
   ]
  },
  {
   "cell_type": "code",
   "execution_count": null,
   "id": "e60c1adf",
   "metadata": {},
   "outputs": [],
   "source": []
  }
 ],
 "metadata": {
  "kernelspec": {
   "display_name": "Python 3 (ipykernel)",
   "language": "python",
   "name": "python3"
  },
  "language_info": {
   "codemirror_mode": {
    "name": "ipython",
    "version": 3
   },
   "file_extension": ".py",
   "mimetype": "text/x-python",
   "name": "python",
   "nbconvert_exporter": "python",
   "pygments_lexer": "ipython3",
   "version": "3.9.12"
  }
 },
 "nbformat": 4,
 "nbformat_minor": 5
}
