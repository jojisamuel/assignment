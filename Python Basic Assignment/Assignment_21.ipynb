{
 "cells": [
  {
   "cell_type": "markdown",
   "id": "984b4513",
   "metadata": {},
   "source": [
    "# Assignment 21 Solutions"
   ]
  },
  {
   "cell_type": "markdown",
   "id": "4fe8b19e",
   "metadata": {},
   "source": [
    "#### 1. Add the current date to the text file today.txt as a string."
   ]
  },
  {
   "cell_type": "code",
   "execution_count": 1,
   "id": "c1bd5097",
   "metadata": {},
   "outputs": [
    {
     "name": "stdout",
     "output_type": "stream",
     "text": [
      "Current date '2023-12-24' has been written to 'today.txt'.\n"
     ]
    }
   ],
   "source": [
    "from datetime import datetime\n",
    "\n",
    "# Get the current date as a string (formatted as YYYY-MM-DD)\n",
    "current_date = datetime.now().strftime('%Y-%m-%d')\n",
    "\n",
    "# Write the current date to the text file\n",
    "with open('today.txt', 'w') as file:\n",
    "    file.write(current_date)\n",
    "\n",
    "print(f\"Current date '{current_date}' has been written to 'today.txt'.\")"
   ]
  },
  {
   "cell_type": "markdown",
   "id": "6cf23762",
   "metadata": {},
   "source": [
    "#### 2. Read the text file today.txt into the string today_string"
   ]
  },
  {
   "cell_type": "code",
   "execution_count": 2,
   "id": "107143ea",
   "metadata": {},
   "outputs": [
    {
     "name": "stdout",
     "output_type": "stream",
     "text": [
      "2023-12-24\n"
     ]
    }
   ],
   "source": [
    "file = open('today.txt','r')\n",
    "today_string = file.read()\n",
    "print(today_string)"
   ]
  },
  {
   "cell_type": "markdown",
   "id": "165addb6",
   "metadata": {},
   "source": [
    "#### 3. Parse the date from today_string."
   ]
  },
  {
   "cell_type": "code",
   "execution_count": 3,
   "id": "b0cad624",
   "metadata": {},
   "outputs": [
    {
     "name": "stdout",
     "output_type": "stream",
     "text": [
      "Parsed date: 2023-12-24 00:00:00\n"
     ]
    }
   ],
   "source": [
    "from datetime import datetime\n",
    "\n",
    "# Parse the date string into a datetime object\n",
    "parsed_date = datetime.strptime(today_string, '%Y-%m-%d')\n",
    "\n",
    "# Now you can work with the parsed_date as a datetime object\n",
    "print(\"Parsed date:\", parsed_date)"
   ]
  },
  {
   "cell_type": "markdown",
   "id": "664d3278",
   "metadata": {},
   "source": [
    "#### 4. List the files in your current directory"
   ]
  },
  {
   "cell_type": "code",
   "execution_count": 4,
   "id": "cbacd0e4",
   "metadata": {},
   "outputs": [
    {
     "name": "stdout",
     "output_type": "stream",
     "text": [
      "25.Programming Assignment_25.ipynb\n",
      "Assignment_21.ipynb\n",
      "Basic_Programming_Assignment_16.ipynb\n",
      "Basic_Programming_Assignment_17.ipynb\n",
      "Basic_Programming_Assignment_18.ipynb\n",
      "Basic_Programming_Assignment_19.ipynb\n",
      "Basic_Programming_Assignment_20.ipynb\n",
      "Basic_Programming_Assignment_21.ipynb\n",
      "Basic_Programming_Assignment_22.ipynb\n",
      "Basic_Programming_Assignment_23.ipynb\n",
      "Basic_Programming_Assignment_24.ipynb\n",
      "today.txt\n",
      "Untitled.ipynb\n",
      "Untitled1.ipynb\n",
      "Basic_Programming_Assignment_10-checkpoint.ipynb\n",
      "Basic_Programming_Assignment_11-checkpoint.ipynb\n",
      "Basic_Programming_Assignment_12-checkpoint.ipynb\n",
      "Basic_Programming_Assignment_14-checkpoint.ipynb\n",
      "Basic_Programming_Assignment_15-checkpoint.ipynb\n",
      "Basic_Programming_Assignment_16-checkpoint.ipynb\n",
      "Basic_Programming_Assignment_17-checkpoint.ipynb\n",
      "Basic_Programming_Assignment_18-checkpoint.ipynb\n",
      "Basic_Programming_Assignment_19-checkpoint.ipynb\n",
      "Basic_Programming_Assignment_20-checkpoint.ipynb\n",
      "Basic_Programming_Assignment_21-checkpoint.ipynb\n",
      "Basic_Programming_Assignment_22-checkpoint.ipynb\n",
      "Basic_Programming_Assignment_23-checkpoint.ipynb\n",
      "Basic_Programming_Assignment_24-checkpoint.ipynb\n",
      "Untitled-checkpoint.ipynb\n",
      "Untitled1-checkpoint.ipynb\n"
     ]
    }
   ],
   "source": [
    "import os\n",
    "for folders, subfolders, files in os.walk(os.getcwd()):\n",
    "    for file in files:\n",
    "        print(file)"
   ]
  },
  {
   "cell_type": "markdown",
   "id": "291a203b",
   "metadata": {},
   "source": [
    "#### 5. Create a list of all of the files in your parent directory (minimum five files should be available)."
   ]
  },
  {
   "cell_type": "code",
   "execution_count": 5,
   "id": "efe9618b",
   "metadata": {},
   "outputs": [
    {
     "data": {
      "text/plain": [
       "['.ipynb_checkpoints',\n",
       " '25.Programming Assignment_25.ipynb',\n",
       " 'Assignment_21.ipynb',\n",
       " 'Basic_Programming_Assignment_16.ipynb',\n",
       " 'Basic_Programming_Assignment_17.ipynb',\n",
       " 'Basic_Programming_Assignment_18.ipynb',\n",
       " 'Basic_Programming_Assignment_19.ipynb',\n",
       " 'Basic_Programming_Assignment_20.ipynb',\n",
       " 'Basic_Programming_Assignment_21.ipynb',\n",
       " 'Basic_Programming_Assignment_22.ipynb',\n",
       " 'Basic_Programming_Assignment_23.ipynb',\n",
       " 'Basic_Programming_Assignment_24.ipynb',\n",
       " 'today.txt',\n",
       " 'Untitled.ipynb',\n",
       " 'Untitled1.ipynb']"
      ]
     },
     "execution_count": 5,
     "metadata": {},
     "output_type": "execute_result"
    }
   ],
   "source": [
    "import os \n",
    "os.listdir()"
   ]
  },
  {
   "cell_type": "markdown",
   "id": "203dd9fe",
   "metadata": {},
   "source": [
    "#### 6. Use multiprocessing to create three separate processes. Make each one wait a random number of seconds between one and five, print the current time, and then exit."
   ]
  },
  {
   "cell_type": "code",
   "execution_count": 6,
   "id": "d2de7929",
   "metadata": {},
   "outputs": [
    {
     "name": "stderr",
     "output_type": "stream",
     "text": [
      "2023-12-24 10:26:39,541 - MainProcess - All processes have finished.\n"
     ]
    }
   ],
   "source": [
    "import multiprocessing\n",
    "import time\n",
    "import random\n",
    "from datetime import datetime\n",
    "import logging\n",
    "\n",
    "# Configure logging\n",
    "logging.basicConfig(\n",
    "    level=logging.INFO,\n",
    "    format='%(asctime)s - %(processName)s - %(message)s'\n",
    ")\n",
    "\n",
    "def worker():\n",
    "    # Generate a random sleep time between 1 and 5 seconds\n",
    "    sleep_time = random.uniform(1, 5)\n",
    "\n",
    "    # Wait for the random time\n",
    "    time.sleep(sleep_time)\n",
    "\n",
    "    # Print the current time after waiting\n",
    "    current_time = datetime.now().strftime('%Y-%m-%d %H:%M:%S')\n",
    "    logging.info(f\"Waited for {sleep_time:.2f} seconds. Current time: {current_time}\")\n",
    "\n",
    "if __name__ == '__main__':\n",
    "    # Create three separate processes\n",
    "    processes = [multiprocessing.Process(target=worker) for _ in range(3)]\n",
    "\n",
    "    # Start each process\n",
    "    for process in processes:\n",
    "        process.start()\n",
    "\n",
    "    # Wait for all processes to finish\n",
    "    for process in processes:\n",
    "        process.join()\n",
    "\n",
    "    logging.info(\"All processes have finished.\")\n",
    "\n"
   ]
  },
  {
   "cell_type": "markdown",
   "id": "71d07e78",
   "metadata": {},
   "source": [
    "#### 7. Create a date object of your day of birth."
   ]
  },
  {
   "cell_type": "code",
   "execution_count": 7,
   "id": "b3e67c1c",
   "metadata": {},
   "outputs": [
    {
     "name": "stdout",
     "output_type": "stream",
     "text": [
      "Date of birth: 1990-01-01 00:00:00\n"
     ]
    }
   ],
   "source": [
    "from datetime import datetime\n",
    "\n",
    "birth_date = datetime(1990, 1, 1)\n",
    "\n",
    "print(\"Date of birth:\", birth_date)"
   ]
  },
  {
   "cell_type": "markdown",
   "id": "e5775db9",
   "metadata": {},
   "source": [
    "#### 8. What day of the week was your day of birth?"
   ]
  },
  {
   "cell_type": "code",
   "execution_count": 8,
   "id": "65b6ae43",
   "metadata": {},
   "outputs": [
    {
     "data": {
      "text/plain": [
       "'Monday'"
      ]
     },
     "execution_count": 8,
     "metadata": {},
     "output_type": "execute_result"
    }
   ],
   "source": [
    "from datetime import datetime\n",
    "\n",
    "birth_date.strftime(\"%A\")"
   ]
  },
  {
   "cell_type": "markdown",
   "id": "abe779de",
   "metadata": {},
   "source": [
    "#### 9. When will you be (or when were you) 10,000 days old?"
   ]
  },
  {
   "cell_type": "code",
   "execution_count": 10,
   "id": "f534e5bf",
   "metadata": {},
   "outputs": [
    {
     "name": "stdout",
     "output_type": "stream",
     "text": [
      "Birth date: 1990-01-01\n",
      "Date when 10,000 days old: 2017-05-19\n"
     ]
    }
   ],
   "source": [
    "from datetime import datetime, timedelta\n",
    "\n",
    "# Calculate the date when the person will be 10,000 days old\n",
    "ten_thousand_days_later = birth_date + timedelta(days=10000)\n",
    "\n",
    "print(\"Birth date:\", birth_date.strftime('%Y-%m-%d'))\n",
    "print(\"Date when 10,000 days old:\", ten_thousand_days_later.strftime('%Y-%m-%d'))\n"
   ]
  }
 ],
 "metadata": {
  "kernelspec": {
   "display_name": "Python 3 (ipykernel)",
   "language": "python",
   "name": "python3"
  },
  "language_info": {
   "codemirror_mode": {
    "name": "ipython",
    "version": 3
   },
   "file_extension": ".py",
   "mimetype": "text/x-python",
   "name": "python",
   "nbconvert_exporter": "python",
   "pygments_lexer": "ipython3",
   "version": "3.10.9"
  }
 },
 "nbformat": 4,
 "nbformat_minor": 5
}
