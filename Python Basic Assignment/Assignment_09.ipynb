{
 "cells": [
  {
   "cell_type": "markdown",
   "id": "33986085",
   "metadata": {},
   "source": [
    "# Assignment 9 Solutions"
   ]
  },
  {
   "cell_type": "markdown",
   "id": "34c2670a",
   "metadata": {},
   "source": [
    "#### 1. To what does a relative path refer ?\n",
    "**Ans:**  Relative path means the path of a certain file relative to the current working directory.\n",
    "   \n",
    "   For example, if the current working directory is C:\\PythonProjects\\Tutorials, the path.py file’s relative path would be \\Paths\\paths.py which is shorter and easier to use than the absolute path C:\\PythonProjects\\Tutorials\\Paths\\paths.py.\n",
    "\n",
    "The absolute path of a file remains the same everywhere, but the relative path changes depending upon the current working directory"
   ]
  },
  {
   "cell_type": "markdown",
   "id": "1c205889",
   "metadata": {},
   "source": [
    "#### 2. Where does an absolute path start with your Operating System ?\n",
    "**Ans:** In Linux based systems the absolute path starts with **`/`**. Where as in Windows based systems absolute path starts with **`C:`**\n"
   ]
  },
  {
   "cell_type": "markdown",
   "id": "bde95205",
   "metadata": {},
   "source": [
    "#### 3. What does the functions `os.getcwd()` and `os.chdir()` do ?\n",
    "**Ans:** `os.getcwd()` method tells us the location of current working directory (CWD) whereas `os.chdir()` method in Python used to change the current working directory to specified path. These functions are similar to linux commands `pwd` and `cd`"
   ]
  },
  {
   "cell_type": "code",
   "execution_count": 3,
   "id": "cf942eba",
   "metadata": {},
   "outputs": [
    {
     "name": "stdout",
     "output_type": "stream",
     "text": [
      "C:\\Users\\tester\\Documents\\iNeuron\n",
      "C:\\Users\\tester\\Documents\\ineuron assignment\n"
     ]
    }
   ],
   "source": [
    "import os\n",
    "print(os.getcwd()) # Prints the current Working Directory\n",
    "path = r'C:\\Users\\tester\\Documents\\ineuron assignment'\n",
    "os.chdir(path)\n",
    "print(os.getcwd())"
   ]
  },
  {
   "cell_type": "markdown",
   "id": "65e48bc7",
   "metadata": {},
   "source": [
    " #### 4. What are `.` and `..`  folders ?\n",
    "**Ans:** `.` Represents the Current Directory Whereas `..` Represents the Parent Directory of the Current Directory  \n",
    "**For Example:** \n",
    "if the below path is my absolute path:  \n",
    "`C:\\Users\\tester\\Documents\\ineuron assignment`  \n",
    "Then `.` represents the path `C:\\Users\\tester\\Documents\\ineuron assignment`  \n",
    "Where as `..` represents the path `C:\\Users\\tester\\Documents\\`"
   ]
  },
  {
   "cell_type": "markdown",
   "id": "f38d0b12",
   "metadata": {},
   "source": [
    "#### 5. In `C:\\bacon\\eggs\\spam.txt` which part is the dir name and which part is the base name ?\n",
    "**Ans:** For `C:\\bacon\\eggs\\spam.txt`  \n",
    "The dir name is `C:\\\\bacon\\\\eggs`  \n",
    "The Base name is `spam.txt`"
   ]
  },
  {
   "cell_type": "code",
   "execution_count": 4,
   "id": "8abb1d4e",
   "metadata": {},
   "outputs": [
    {
     "name": "stdout",
     "output_type": "stream",
     "text": [
      "C:\\bacon\\eggs\n",
      "spam.txt\n"
     ]
    }
   ],
   "source": [
    "import os\n",
    "path = r'C:\\bacon\\eggs\\spam.txt'\n",
    "print(os.path.dirname(path))\n",
    "print(os.path.basename(path))"
   ]
  },
  {
   "cell_type": "markdown",
   "id": "00d73d9d",
   "metadata": {},
   "source": [
    "#### 6. What are the three `mode` arguments that can be passed to the `open()` function ?\n",
    "**Ans:** A file can be Accessed in python using `open()` function. open function takes two arguments filename and mode of operation (optional). if mode is not provided the default mode of opening is read mode   \n",
    "So, the syntax being: **`open(filename, mode)`**\n",
    "* **`'r'`** – Read Mode: This is the default mode for open(). The file is opened and a pointer is positioned at the beginning of the file’s content.\n",
    "* **`'r+'`** – Read/Write Mode: Use this mode if you need to simultaneously read and write to a file.\n",
    "* **`'w'`** – Write Mode: Using this mode will overwrite any existing content in a file. If the given file does not exist, a new one will be created. \n",
    "* **`'a'`** – Append Mode: With this mode the user can append the data without overwriting any already existing data in the file. \n",
    "* **`'a+'`** – Append and Read Mode: In this mode you can read and append the data without overwriting the original file.\n",
    "* **`'x'`** – Exclusive Creating Mode: This mode is for the sole purpose of creating new files. Use this mode if you know the file to be written doesn’t exist beforehand."
   ]
  },
  {
   "cell_type": "markdown",
   "id": "27726327",
   "metadata": {},
   "source": [
    "#### 7. What happens if an existing file is opened in write mode ?\n",
    "**Ans:** The w creates a new file or truncates an existing file, then opens it for writing; the file pointer position at the beginning of the file."
   ]
  },
  {
   "cell_type": "markdown",
   "id": "181ea011",
   "metadata": {},
   "source": [
    "#### 8. How do you tell the difference between `read()` and `readlines()` ?\n",
    "**Ans:** \n",
    "Python `readline()` method will return a line from the file when called.\n",
    "\n",
    "`readlines()` method will return all the lines in a file in the format of a `list` where each element is a line in the file."
   ]
  },
  {
   "cell_type": "markdown",
   "id": "58ece704",
   "metadata": {},
   "source": [
    "#### 9. What data structure does a shelf value resemble ?\n",
    "**Ans:** Shelf contains key and values which resembles dictionary-like object"
   ]
  },
  {
   "cell_type": "code",
   "execution_count": null,
   "id": "b94b3c98",
   "metadata": {},
   "outputs": [],
   "source": []
  }
 ],
 "metadata": {
  "kernelspec": {
   "display_name": "Python 3 (ipykernel)",
   "language": "python",
   "name": "python3"
  },
  "language_info": {
   "codemirror_mode": {
    "name": "ipython",
    "version": 3
   },
   "file_extension": ".py",
   "mimetype": "text/x-python",
   "name": "python",
   "nbconvert_exporter": "python",
   "pygments_lexer": "ipython3",
   "version": "3.9.12"
  }
 },
 "nbformat": 4,
 "nbformat_minor": 5
}
