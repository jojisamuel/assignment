{
 "cells": [
  {
   "cell_type": "markdown",
   "id": "78a44a46",
   "metadata": {},
   "source": [
    "# Assignment 4 Solutions"
   ]
  },
  {
   "cell_type": "markdown",
   "id": "fe6cc511",
   "metadata": {},
   "source": [
    "#### 1.What exactly is `[]`?\n",
    "**Ans**: The empty list represented by `[]` is a list that contains no items. This is similar to `''` which represents an empty string"
   ]
  },
  {
   "cell_type": "code",
   "execution_count": 2,
   "id": "1fe6a806",
   "metadata": {},
   "outputs": [
    {
     "name": "stdout",
     "output_type": "stream",
     "text": [
      "Values of a: []\n",
      "Type of a: <class 'list'>\n",
      "Size of a: 0\n"
     ]
    }
   ],
   "source": [
    "# Python program to declare empty list\n",
    "\n",
    "a = []    # list is declared\n",
    "\n",
    "print(\"Values of a:\", a)\n",
    "print(\"Type of a:\", type(a))\n",
    "print(\"Size of a:\", len(a))"
   ]
  },
  {
   "cell_type": "markdown",
   "id": "598a83ec",
   "metadata": {},
   "source": [
    "#### 2.In a list of values stored in a variable called spam, how would you assign the value 'hello' as the third value? (Assume [2, 4, 6, 8, 10] are in spam.) \n",
    "\n",
    "**Ans:** `spam[2]='hello'` (Note: Lists follows zero based indexing)"
   ]
  },
  {
   "cell_type": "code",
   "execution_count": 4,
   "id": "dfc9a9e4",
   "metadata": {},
   "outputs": [
    {
     "name": "stdout",
     "output_type": "stream",
     "text": [
      "[2, 4, 6, 8, 10]\n",
      "[2, 4, 'hello', 8, 10]\n"
     ]
    }
   ],
   "source": [
    "spam=[2,4,6,8,10]\n",
    "print(spam)\n",
    "spam[2]='hello' #List uses zero based indexing\n",
    "print(spam)"
   ]
  },
  {
   "cell_type": "markdown",
   "id": "5bfa3b69",
   "metadata": {},
   "source": [
    "## Let's pretend the spam includes the list ['a','b','c',d'] for the next three queries."
   ]
  },
  {
   "cell_type": "markdown",
   "id": "cbd0259c",
   "metadata": {},
   "source": [
    "#### 3. What is the value of `spam[int(int('3'*2)//11)]` ?\n",
    "**Ans:** `'d'`\n",
    "('3' * 2 is the string '33', which is passed to int() before being divided by 11.\n",
    "     This eventually evaluates to 3, `spam[3]` is equal to `d`.)"
   ]
  },
  {
   "cell_type": "code",
   "execution_count": 8,
   "id": "d4ee11df",
   "metadata": {},
   "outputs": [
    {
     "data": {
      "text/plain": [
       "'d'"
      ]
     },
     "execution_count": 8,
     "metadata": {},
     "output_type": "execute_result"
    }
   ],
   "source": [
    "spam=['a','b','c','d']\n",
    "spam[int(int('3'*2)//11)]"
   ]
  },
  {
   "cell_type": "markdown",
   "id": "cf7e3025",
   "metadata": {},
   "source": [
    "#### 4. What is the value of spam[-1]?\n",
    "**Ans:** `'d'` (Lists support Negative indexing, Hence `spam[-1]` returns `'d'` (last item of the list))\n",
    "                "
   ]
  },
  {
   "cell_type": "code",
   "execution_count": 10,
   "id": "fc699475",
   "metadata": {},
   "outputs": [
    {
     "data": {
      "text/plain": [
       "'d'"
      ]
     },
     "execution_count": 10,
     "metadata": {},
     "output_type": "execute_result"
    }
   ],
   "source": [
    "spam=['a','b','c','d']\n",
    "spam[-1]"
   ]
  },
  {
   "cell_type": "markdown",
   "id": "88bfce63",
   "metadata": {},
   "source": [
    "#### 5. What is the value of spam[:2]?\n",
    "**Ans:** `spam[:2]` returns all elements in the list spam from 0 to 2 excluding 2"
   ]
  },
  {
   "cell_type": "code",
   "execution_count": 12,
   "id": "54e43260",
   "metadata": {},
   "outputs": [
    {
     "name": "stdout",
     "output_type": "stream",
     "text": [
      "['a', 'b', 'c', 'd']\n",
      "['a', 'b']\n"
     ]
    }
   ],
   "source": [
    "print(spam)\n",
    "print(spam[:2])"
   ]
  },
  {
   "cell_type": "markdown",
   "id": "0d046fa4",
   "metadata": {},
   "source": [
    "## Let's pretend bacon has the list [3.14,'cat',11,'cat',True] for the next three question"
   ]
  },
  {
   "cell_type": "markdown",
   "id": "f841e9aa",
   "metadata": {},
   "source": [
    "#### 6. What is the value of bacon.index('cat')?"
   ]
  },
  {
   "cell_type": "code",
   "execution_count": 21,
   "id": "b275e21b",
   "metadata": {},
   "outputs": [
    {
     "name": "stdout",
     "output_type": "stream",
     "text": [
      "bacon.index('cat') -> 1\n"
     ]
    }
   ],
   "source": [
    "bacon=[3.14,'cat',11,'cat',True]\n",
    "print(\"bacon.index('cat') ->\",bacon.index('cat'))"
   ]
  },
  {
   "cell_type": "markdown",
   "id": "29a7547b",
   "metadata": {},
   "source": [
    "#### 7. How does bacon.append(99) change the look of the list value in bacon?\n",
    "**Ans:** The `append` method adds new elements to the end of the list"
   ]
  },
  {
   "cell_type": "code",
   "execution_count": 22,
   "id": "5fec3331",
   "metadata": {},
   "outputs": [
    {
     "name": "stdout",
     "output_type": "stream",
     "text": [
      "[3.14, 'cat', 11, 'cat', True]\n",
      "[3.14, 'cat', 11, 'cat', True, 99]\n"
     ]
    }
   ],
   "source": [
    "print(bacon)\n",
    "bacon.append(99) # appends 99 to the end of the list\n",
    "print(bacon)"
   ]
  },
  {
   "cell_type": "markdown",
   "id": "fbc8749b",
   "metadata": {},
   "source": [
    "#### 8. How does bacon.remove('cat') change the look of the list in bacon?\n",
    "**Ans:** The `remove` method removes the first occurence of the element in the list"
   ]
  },
  {
   "cell_type": "code",
   "execution_count": 23,
   "id": "8619bcd1",
   "metadata": {},
   "outputs": [
    {
     "name": "stdout",
     "output_type": "stream",
     "text": [
      "[3.14, 'cat', 11, 'cat', True, 99]\n",
      "[3.14, 11, 'cat', True, 99]\n"
     ]
    }
   ],
   "source": [
    "print(bacon)\n",
    "bacon.remove('cat')\n",
    "print(bacon)"
   ]
  },
  {
   "cell_type": "markdown",
   "id": "d0432eed",
   "metadata": {},
   "source": [
    "#### 9. What are the list concatenation and list replication operations?\n",
    "**Ans:** The operator for list concatenation is `+`, while the operator for replication is `*`. (This is the same as for strings.)"
   ]
  },
  {
   "cell_type": "code",
   "execution_count": 9,
   "id": "d7b693aa",
   "metadata": {},
   "outputs": [
    {
     "name": "stdout",
     "output_type": "stream",
     "text": [
      "list concatenation :  ['A', 'B', 'C', 'D', 'E', 'X', 'Y', 'Z']\n",
      "List Replication   :  ['X', 'Y', 'Z', 'X', 'Y', 'Z']\n"
     ]
    }
   ],
   "source": [
    "# Example\n",
    "list_1 = ['A','B','C','D','E']\n",
    "list_2 = ['X','Y','Z']\n",
    "print('list concatenation : ',(list_1 + list_2)) # List Concatenation\n",
    "print('List Replication   : ',list_2*2) # List Replication"
   ]
  },
  {
   "cell_type": "markdown",
   "id": "b82888b1",
   "metadata": {},
   "source": [
    "#### 10. What is the difference between the list method append() and insert()?\n",
    "**Ans:** While append() will add values only to the end of a list, insert() can add them anywhere in the list."
   ]
  },
  {
   "cell_type": "code",
   "execution_count": 11,
   "id": "ecf29ec8",
   "metadata": {},
   "outputs": [
    {
     "name": "stdout",
     "output_type": "stream",
     "text": [
      "[1, 2, 3, 4, 5, 6]\n"
     ]
    }
   ],
   "source": [
    "list = [1,2,3,4,5]\n",
    "list.append(6)    #APPEND\n",
    "print(list)"
   ]
  },
  {
   "cell_type": "code",
   "execution_count": 12,
   "id": "2271e6ba",
   "metadata": {},
   "outputs": [
    {
     "name": "stdout",
     "output_type": "stream",
     "text": [
      "[1, 2, '6', 3, 4, 5]\n"
     ]
    }
   ],
   "source": [
    "list = [1,2,3,4,5]\n",
    "list.insert(2,'6')  #INSERT\n",
    "print(list)"
   ]
  },
  {
   "cell_type": "markdown",
   "id": "979a38a0",
   "metadata": {},
   "source": [
    "#### 11. What are the two methods for removing items from a list?\n",
    "**Ans:** The `del` statement and the `remove()` method are two ways to remove values from a list"
   ]
  },
  {
   "cell_type": "code",
   "execution_count": 16,
   "id": "c09d584d",
   "metadata": {},
   "outputs": [
    {
     "data": {
      "text/plain": [
       "[1, 2, 2, 3, 4, 5]"
      ]
     },
     "execution_count": 16,
     "metadata": {},
     "output_type": "execute_result"
    }
   ],
   "source": [
    "num = [1, 2, 3, 2, 3, 4, 5]\n",
    "del num[2]   # use del\n",
    "num"
   ]
  },
  {
   "cell_type": "code",
   "execution_count": 17,
   "id": "aad83199",
   "metadata": {},
   "outputs": [
    {
     "data": {
      "text/plain": [
       "[1, 2, 2, 3, 4, 5]"
      ]
     },
     "execution_count": 17,
     "metadata": {},
     "output_type": "execute_result"
    }
   ],
   "source": [
    "num1 = [1, 2, 3, 2, 3, 4, 5]\n",
    "num1.remove(3)    # use remove()\n",
    "num1"
   ]
  },
  {
   "cell_type": "markdown",
   "id": "9c61aac2",
   "metadata": {},
   "source": [
    "#### 12. Describe how list values and string values are identical.\n",
    "**Ans:** Both lists and strings can be passed to `len()` function, have indexes and slices, be used in `for` loops, be concatenated or replicated, and be used with the `in` and `not in` operators."
   ]
  },
  {
   "cell_type": "markdown",
   "id": "3c84e0c1",
   "metadata": {},
   "source": [
    "#### 13. What's the difference between tuples and lists?\n",
    "**Ans:** "
   ]
  },
  {
   "cell_type": "markdown",
   "id": "4e0df69f",
   "metadata": {},
   "source": [
    "<table>\n",
    "<th> </th><th>List</th><th>Tuple</th></tr>\n",
    "<tbody>\n",
    "<tr class=\"odd\">\n",
    "<td>Type</td>\n",
    "<td>List is mutable.</td>\n",
    "<td>Tuple is immutable.</td>\n",
    "</tr>\n",
    "<tr class=\"even\">\n",
    "<td>Iteration</td>\n",
    "<td>List iteration is slower and is time consuming.</td>\n",
    "<td>Tuple iteration is faster.</td>\n",
    "</tr>\n",
    "<tr class=\"odd\">\n",
    "<td>Appropriate for</td>\n",
    "<td>List is useful for insertion and deletion operations.</td>\n",
    "<td>Tuple is useful for readonly operations like accessing elements.</td>\n",
    "</tr>\n",
    "<tr class=\"even\">\n",
    "<td>Memory Consumption</td>\n",
    "<td>List consumes more memory.</td>\n",
    "<td>Tuples consumes less memory.</td>\n",
    "</tr>\n",
    "<tr class=\"odd\">\n",
    "<td>Methods</td>\n",
    "<td>List provides many in-built methods.</td>\n",
    "<td>Tuples have less in-built methods.</td>\n",
    "</tr>\n",
    "<tr class=\"even\">\n",
    "<td>Error prone</td>\n",
    "<td>List operations are more error prone.</td>\n",
    "<td>Tuples operations are safe.</td>\n",
    "</tr>\n",
    "</tbody>\n",
    "</table>"
   ]
  },
  {
   "cell_type": "markdown",
   "id": "8071ea6b",
   "metadata": {},
   "source": [
    "#### 14. How do you type a tuple value that only contains the integer 42?\n",
    "**Ans:**(42,) (The trailing comma is mandatory. otherwise its considered as a int by python Interpreter)"
   ]
  },
  {
   "cell_type": "code",
   "execution_count": 5,
   "id": "c7ea1e1a",
   "metadata": {},
   "outputs": [
    {
     "name": "stdout",
     "output_type": "stream",
     "text": [
      "tup1=(42) --> <class 'int'>\n",
      "tup2=(42,) --> <class 'tuple'>\n"
     ]
    }
   ],
   "source": [
    "tup1=(42)\n",
    "tup2=(42,)\n",
    "print('tup1=(42) -->',type(tup1))\n",
    "print('tup2=(42,) -->',type(tup2))"
   ]
  },
  {
   "cell_type": "markdown",
   "id": "f55c2a4d",
   "metadata": {},
   "source": [
    "#### 15. How do you get a list value's tuple form? How do you get a tuple value's list form?\n",
    "**Ans:** The tuple() and list() functions, respectively are used to convert a list to tuple and vice versa"
   ]
  },
  {
   "cell_type": "markdown",
   "id": "2db5140c",
   "metadata": {},
   "source": [
    "#### 16. Variables that &quot;contain&quot; list values are not necessarily lists themselves. Instead, what do they contain?\n",
    "**Ans**: They contain references to list values."
   ]
  },
  {
   "cell_type": "markdown",
   "id": "f1c42c1c",
   "metadata": {},
   "source": [
    "#### 17. How do you distinguish between copy.copy() and copy.deepcopy()?\n",
    "**Ans:** The `copy.copy()` function will do a shallow copy of a list, while the `copy.deepcopy()` function will do a deep copy of a list. That is, only `copy.deepcopy()` will duplicate any lists inside the list."
   ]
  },
  {
   "cell_type": "code",
   "execution_count": 12,
   "id": "5c5ee977",
   "metadata": {},
   "outputs": [
    {
     "name": "stdout",
     "output_type": "stream",
     "text": [
      "Old list: [[1, 1, 1], ['BB', 2, 2], [3, 3, 3]]\n",
      "New list: [[1, 1, 1], ['BB', 2, 2], [3, 3, 3]]\n"
     ]
    }
   ],
   "source": [
    "#Example of copy.copy()\n",
    "import copy\n",
    "\n",
    "old_list = [[1, 1, 1], [2, 2, 2], [3, 3, 3]]\n",
    "new_list = copy.copy(old_list)\n",
    "\n",
    "old_list[1][0] = 'BB'    #when you change any nested objects in old_list, the changes appear in new_list.\n",
    "\n",
    "print(\"Old list:\", old_list)\n",
    "print(\"New list:\", new_list)"
   ]
  },
  {
   "cell_type": "code",
   "execution_count": 10,
   "id": "b95b721b",
   "metadata": {},
   "outputs": [
    {
     "name": "stdout",
     "output_type": "stream",
     "text": [
      "Old list: [[1, 1, 1], ['BB', 2, 2], [3, 3, 3]]\n",
      "New list: [[1, 1, 1], [2, 2, 2], [3, 3, 3]]\n"
     ]
    }
   ],
   "source": [
    "#Example of copy.deepcopy()\n",
    "import copy\n",
    "\n",
    "old_list = [[1, 1, 1], [2, 2, 2], [3, 3, 3]]\n",
    "new_list = copy.deepcopy(old_list)\n",
    "\n",
    "old_list[1][0] = 'BB'  \n",
    "#if you make changes to any nested objects in original object old_list, we will see no changes to the copy new_list.\n",
    "\n",
    "print(\"Old list:\", old_list)\n",
    "print(\"New list:\", new_list)"
   ]
  },
  {
   "cell_type": "code",
   "execution_count": null,
   "id": "8b965abf",
   "metadata": {},
   "outputs": [],
   "source": []
  }
 ],
 "metadata": {
  "kernelspec": {
   "display_name": "Python 3 (ipykernel)",
   "language": "python",
   "name": "python3"
  },
  "language_info": {
   "codemirror_mode": {
    "name": "ipython",
    "version": 3
   },
   "file_extension": ".py",
   "mimetype": "text/x-python",
   "name": "python",
   "nbconvert_exporter": "python",
   "pygments_lexer": "ipython3",
   "version": "3.9.12"
  }
 },
 "nbformat": 4,
 "nbformat_minor": 5
}
