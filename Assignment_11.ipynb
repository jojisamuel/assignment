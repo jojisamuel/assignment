{
 "cells": [
  {
   "cell_type": "markdown",
   "id": "0c9e9aab",
   "metadata": {},
   "source": [
    "# Assignment 11 Solutions"
   ]
  },
  {
   "cell_type": "markdown",
   "id": "0162b0f7",
   "metadata": {},
   "source": [
    "#### 1. Create an assert statement that throws an AssertionError if the variable spam is a negative integer."
   ]
  },
  {
   "cell_type": "code",
   "execution_count": 1,
   "id": "e6f5b282",
   "metadata": {},
   "outputs": [
    {
     "ename": "AssertionError",
     "evalue": "Variable Spam should not be a -ve number",
     "output_type": "error",
     "traceback": [
      "\u001b[1;31m---------------------------------------------------------------------------\u001b[0m",
      "\u001b[1;31mAssertionError\u001b[0m                            Traceback (most recent call last)",
      "Input \u001b[1;32mIn [1]\u001b[0m, in \u001b[0;36m<cell line: 2>\u001b[1;34m()\u001b[0m\n\u001b[0;32m      1\u001b[0m spam \u001b[38;5;241m=\u001b[39m \u001b[38;5;241m-\u001b[39m\u001b[38;5;241m10\u001b[39m\n\u001b[1;32m----> 2\u001b[0m \u001b[38;5;28;01massert\u001b[39;00m spam \u001b[38;5;241m>\u001b[39m\u001b[38;5;241m=\u001b[39m\u001b[38;5;241m0\u001b[39m, \u001b[38;5;124m'\u001b[39m\u001b[38;5;124mVariable Spam should not be a -ve number\u001b[39m\u001b[38;5;124m'\u001b[39m\n",
      "\u001b[1;31mAssertionError\u001b[0m: Variable Spam should not be a -ve number"
     ]
    }
   ],
   "source": [
    "spam = -10\n",
    "assert spam >=0, 'Variable Spam should not be a -ve number'"
   ]
  },
  {
   "cell_type": "markdown",
   "id": "5a065f8d",
   "metadata": {},
   "source": [
    "#### 2. Write an assert statement that triggers an AssertionError if the variables eggs and bacon contain strings that are the same as each other, even if their cases are different (that is, 'hello' and 'hello' are considered the same, and 'goodbye' and 'GOODbye' are also considered the same)."
   ]
  },
  {
   "cell_type": "code",
   "execution_count": 3,
   "id": "72b4d992",
   "metadata": {},
   "outputs": [],
   "source": [
    "def raise_assert(egg,bacon):\n",
    "    egg = egg.upper()\n",
    "    bacon = bacon.upper()\n",
    "    assert not(egg == bacon), 'Eggs/Bacon should not be same, which are same now'"
   ]
  },
  {
   "cell_type": "code",
   "execution_count": 4,
   "id": "eaf13fbe",
   "metadata": {},
   "outputs": [
    {
     "ename": "AssertionError",
     "evalue": "Eggs/Bacon should not be same, which are same now",
     "output_type": "error",
     "traceback": [
      "\u001b[1;31m---------------------------------------------------------------------------\u001b[0m",
      "\u001b[1;31mAssertionError\u001b[0m                            Traceback (most recent call last)",
      "Input \u001b[1;32mIn [4]\u001b[0m, in \u001b[0;36m<cell line: 1>\u001b[1;34m()\u001b[0m\n\u001b[1;32m----> 1\u001b[0m \u001b[43mraise_assert\u001b[49m\u001b[43m(\u001b[49m\u001b[38;5;124;43m'\u001b[39;49m\u001b[38;5;124;43mhello\u001b[39;49m\u001b[38;5;124;43m'\u001b[39;49m\u001b[43m,\u001b[49m\u001b[38;5;124;43m'\u001b[39;49m\u001b[38;5;124;43mHELLO\u001b[39;49m\u001b[38;5;124;43m'\u001b[39;49m\u001b[43m)\u001b[49m\n",
      "Input \u001b[1;32mIn [3]\u001b[0m, in \u001b[0;36mraise_assert\u001b[1;34m(egg, bacon)\u001b[0m\n\u001b[0;32m      2\u001b[0m egg \u001b[38;5;241m=\u001b[39m egg\u001b[38;5;241m.\u001b[39mupper()\n\u001b[0;32m      3\u001b[0m bacon \u001b[38;5;241m=\u001b[39m bacon\u001b[38;5;241m.\u001b[39mupper()\n\u001b[1;32m----> 4\u001b[0m \u001b[38;5;28;01massert\u001b[39;00m \u001b[38;5;129;01mnot\u001b[39;00m(egg \u001b[38;5;241m==\u001b[39m bacon), \u001b[38;5;124m'\u001b[39m\u001b[38;5;124mEggs/Bacon should not be same, which are same now\u001b[39m\u001b[38;5;124m'\u001b[39m\n",
      "\u001b[1;31mAssertionError\u001b[0m: Eggs/Bacon should not be same, which are same now"
     ]
    }
   ],
   "source": [
    "raise_assert('hello','HELLO')"
   ]
  },
  {
   "cell_type": "code",
   "execution_count": 5,
   "id": "9289ae52",
   "metadata": {},
   "outputs": [
    {
     "ename": "AssertionError",
     "evalue": "Eggs/Bacon should not be same, which are same now",
     "output_type": "error",
     "traceback": [
      "\u001b[1;31m---------------------------------------------------------------------------\u001b[0m",
      "\u001b[1;31mAssertionError\u001b[0m                            Traceback (most recent call last)",
      "Input \u001b[1;32mIn [5]\u001b[0m, in \u001b[0;36m<cell line: 1>\u001b[1;34m()\u001b[0m\n\u001b[1;32m----> 1\u001b[0m \u001b[43mraise_assert\u001b[49m\u001b[43m(\u001b[49m\u001b[38;5;124;43m'\u001b[39;49m\u001b[38;5;124;43mgoodbye\u001b[39;49m\u001b[38;5;124;43m'\u001b[39;49m\u001b[43m,\u001b[49m\u001b[38;5;124;43m'\u001b[39;49m\u001b[38;5;124;43mGOODbye\u001b[39;49m\u001b[38;5;124;43m'\u001b[39;49m\u001b[43m)\u001b[49m\n",
      "Input \u001b[1;32mIn [3]\u001b[0m, in \u001b[0;36mraise_assert\u001b[1;34m(egg, bacon)\u001b[0m\n\u001b[0;32m      2\u001b[0m egg \u001b[38;5;241m=\u001b[39m egg\u001b[38;5;241m.\u001b[39mupper()\n\u001b[0;32m      3\u001b[0m bacon \u001b[38;5;241m=\u001b[39m bacon\u001b[38;5;241m.\u001b[39mupper()\n\u001b[1;32m----> 4\u001b[0m \u001b[38;5;28;01massert\u001b[39;00m \u001b[38;5;129;01mnot\u001b[39;00m(egg \u001b[38;5;241m==\u001b[39m bacon), \u001b[38;5;124m'\u001b[39m\u001b[38;5;124mEggs/Bacon should not be same, which are same now\u001b[39m\u001b[38;5;124m'\u001b[39m\n",
      "\u001b[1;31mAssertionError\u001b[0m: Eggs/Bacon should not be same, which are same now"
     ]
    }
   ],
   "source": [
    "raise_assert('goodbye','GOODbye')"
   ]
  },
  {
   "cell_type": "markdown",
   "id": "8762fb8e",
   "metadata": {},
   "source": [
    "#### 3. Create an assert statement that throws an AssertionError every time."
   ]
  },
  {
   "cell_type": "code",
   "execution_count": 6,
   "id": "90315686",
   "metadata": {},
   "outputs": [
    {
     "ename": "AssertionError",
     "evalue": "Always Shows Assertion Error",
     "output_type": "error",
     "traceback": [
      "\u001b[1;31m---------------------------------------------------------------------------\u001b[0m",
      "\u001b[1;31mAssertionError\u001b[0m                            Traceback (most recent call last)",
      "Input \u001b[1;32mIn [6]\u001b[0m, in \u001b[0;36m<cell line: 3>\u001b[1;34m()\u001b[0m\n\u001b[0;32m      1\u001b[0m \u001b[38;5;28;01mdef\u001b[39;00m \u001b[38;5;21massert_always\u001b[39m():\n\u001b[0;32m      2\u001b[0m     \u001b[38;5;28;01massert\u001b[39;00m \u001b[38;5;28;01mFalse\u001b[39;00m, \u001b[38;5;124m'\u001b[39m\u001b[38;5;124mAlways Shows Assertion Error\u001b[39m\u001b[38;5;124m'\u001b[39m\n\u001b[1;32m----> 3\u001b[0m \u001b[43massert_always\u001b[49m\u001b[43m(\u001b[49m\u001b[43m)\u001b[49m\n",
      "Input \u001b[1;32mIn [6]\u001b[0m, in \u001b[0;36massert_always\u001b[1;34m()\u001b[0m\n\u001b[0;32m      1\u001b[0m \u001b[38;5;28;01mdef\u001b[39;00m \u001b[38;5;21massert_always\u001b[39m():\n\u001b[1;32m----> 2\u001b[0m     \u001b[38;5;28;01massert\u001b[39;00m \u001b[38;5;28;01mFalse\u001b[39;00m, \u001b[38;5;124m'\u001b[39m\u001b[38;5;124mAlways Shows Assertion Error\u001b[39m\u001b[38;5;124m'\u001b[39m\n",
      "\u001b[1;31mAssertionError\u001b[0m: Always Shows Assertion Error"
     ]
    }
   ],
   "source": [
    "def assert_always():\n",
    "    assert False, 'Always Shows Assertion Error'\n",
    "assert_always()"
   ]
  },
  {
   "cell_type": "markdown",
   "id": "b7f56f69",
   "metadata": {},
   "source": [
    "#### 4. What are the two lines that must be present in your software in order to call logging.debug()?"
   ]
  },
  {
   "cell_type": "code",
   "execution_count": 18,
   "id": "1a9e6986",
   "metadata": {},
   "outputs": [],
   "source": [
    "import logging\n",
    "logging.basicConfig(filename = 'applicatn_log',level=logging.DEBUG, format=' %(asctime)s - %(levelname)s - %(message)s')"
   ]
  },
  {
   "cell_type": "markdown",
   "id": "f5bbd685",
   "metadata": {},
   "source": [
    "#### 5. What are the two lines that your program must have in order to have logging.debug() send a logging message to a file named programLog.txt?"
   ]
  },
  {
   "cell_type": "code",
   "execution_count": 1,
   "id": "b977a8ed",
   "metadata": {},
   "outputs": [],
   "source": [
    "import logging\n",
    "logging.basicConfig(filename = 'programLog.txt',level=logging.DEBUG, format=' %(asctime)s - %(levelname)s - %(message)s')\n",
    "logging.debug(\"Data Inserted Successfully\")\n",
    "logging.debug('Connection Closed Successfully')"
   ]
  },
  {
   "cell_type": "code",
   "execution_count": 2,
   "id": "94291c02",
   "metadata": {},
   "outputs": [
    {
     "name": "stdout",
     "output_type": "stream",
     "text": [
      " 2023-04-22 15:42:24,433 - DEBUG - Data Inserted Successfully\n",
      "\n",
      " 2023-04-22 15:42:24,433 - DEBUG - Connection Closed Successfully\n",
      "\n"
     ]
    }
   ],
   "source": [
    "file = open(\"./programLog.txt\",\"r\")\n",
    "for record in file.readlines():\n",
    "    print(record)"
   ]
  },
  {
   "cell_type": "markdown",
   "id": "c68d91af",
   "metadata": {},
   "source": [
    "#### 6. What are the five levels of logging?\n",
    "**Ans:** The Python logging module defines five levels of logging, listed below in order of increasing severity:\n",
    "\n",
    "    DEBUG: Detailed information, typically of interest only when diagnosing problems.\n",
    "    INFO: Confirmation that things are working as expected.\n",
    "    WARNING: An indication that something unexpected or potentially problematic happened, or indicative of some problem in the near future (e.g., ‘disk space low’). The software is still working as expected.\n",
    "    ERROR: Due to a more serious problem, the software has not been able to perform some function.\n",
    "    CRITICAL: A very serious error, indicating that the program itself may be unable to continue running."
   ]
  },
  {
   "cell_type": "markdown",
   "id": "d2c84f71",
   "metadata": {},
   "source": [
    "#### 7. What line of code would you add to your software to disable all logging messages?"
   ]
  },
  {
   "cell_type": "code",
   "execution_count": 40,
   "id": "c475bd12",
   "metadata": {},
   "outputs": [],
   "source": [
    "logging.disable = True"
   ]
  },
  {
   "cell_type": "markdown",
   "id": "1a731463",
   "metadata": {},
   "source": [
    "#### 8. Why is using logging messages better than using print() to display the same message?\n",
    "**Ans:** \n",
    "\n",
    "Logging has different levels of severity that allows you to display log messages according to the level you want. A print statement does not give you that flexibility\n",
    "\n",
    "Logging allows you to direct the log messages to separate files that can then be used for post analysis while the same is not easily available with print statement"
   ]
  },
  {
   "cell_type": "markdown",
   "id": "8616cb8d",
   "metadata": {},
   "source": [
    "#### 9. What are the differences between the Step Over, Step In, and Step Out buttons in the debugger?\n",
    "**Ans:** The Differences between Step Over, Step In, Step Out buttons in debugger are:\n",
    "1. Step in  -  Step In button will cause the debugger to execute the next line of code and then pause again.\n",
    "2. Step Over - Step Over button will execute the next line of code, similar to the Step In button. However, if the next line of code is a function call, the Step Over button will “step over” the code in the function. The function’s code will be executed at full speed, and the debugger will pause as soon as the function call returns.         \n",
    "3. Step out  - Step Out button will cause the debugger to execute lines of code at full speed until it returns from the current function. "
   ]
  },
  {
   "cell_type": "markdown",
   "id": "25783ac6",
   "metadata": {},
   "source": [
    "#### 10. After you click Continue, when will the debugger stop ?\n",
    "**Ans:** When you click \"Continue\" in a debugger, it will continue executing your code until it hits the next breakpoint or the end of the program. If there are no breakpoints set, the debugger will simply continue executing until the program completes or hits an unhandled exception."
   ]
  },
  {
   "cell_type": "markdown",
   "id": "966e93dc",
   "metadata": {},
   "source": [
    "#### 11. What is the concept of a breakpoint?\n",
    "**Ans:** A breakpoint is a feature in Python's built-in debugger (pdb) that allows you to pause the execution of your code at a specific point and examine the state of your program at that point. When the program is paused at a breakpoint, you can inspect variables, step through the code line-by-line, and even modify the values of variables to see how your program behaves under different conditions."
   ]
  },
  {
   "cell_type": "code",
   "execution_count": null,
   "id": "8357827f",
   "metadata": {},
   "outputs": [],
   "source": []
  }
 ],
 "metadata": {
  "kernelspec": {
   "display_name": "Python 3 (ipykernel)",
   "language": "python",
   "name": "python3"
  },
  "language_info": {
   "codemirror_mode": {
    "name": "ipython",
    "version": 3
   },
   "file_extension": ".py",
   "mimetype": "text/x-python",
   "name": "python",
   "nbconvert_exporter": "python",
   "pygments_lexer": "ipython3",
   "version": "3.9.12"
  }
 },
 "nbformat": 4,
 "nbformat_minor": 5
}
