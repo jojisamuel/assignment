{
 "cells": [
  {
   "cell_type": "markdown",
   "id": "18e4ac25",
   "metadata": {},
   "source": [
    "# Basic_Programming_Assignment_01 Solutions"
   ]
  },
  {
   "cell_type": "markdown",
   "id": "db6be899",
   "metadata": {},
   "source": [
    "#### 1. Write a Python program to print 'Hello Python' ?"
   ]
  },
  {
   "cell_type": "code",
   "execution_count": 2,
   "id": "f34b998f",
   "metadata": {},
   "outputs": [
    {
     "name": "stdout",
     "output_type": "stream",
     "text": [
      "Hello Python\n"
     ]
    }
   ],
   "source": [
    "print('Hello Python')"
   ]
  },
  {
   "cell_type": "markdown",
   "id": "bef46b05",
   "metadata": {},
   "source": [
    "#### 2. Write a Python program to do arithmetic operations addition and division ?"
   ]
  },
  {
   "cell_type": "code",
   "execution_count": 3,
   "id": "cc599b0f",
   "metadata": {},
   "outputs": [
    {
     "name": "stdout",
     "output_type": "stream",
     "text": [
      "Enter first number: 20\n",
      "Enter second number: 10\n",
      "The sum of 20.0 and 10.0 is 30.0\n",
      "The division of 20.0 and 10.0 is 2.0\n"
     ]
    }
   ],
   "source": [
    "# Python Program to Perform arithmetic operations addition and division\n",
    "a = float(input(\"Enter first number: \"))\n",
    "b = float(input(\"Enter second number: \"))\n",
    "\n",
    "# Addition of two numbers\n",
    "sum = a + b \n",
    "# Division of two numbers\n",
    "division = a / b\n",
    "\n",
    "# Displaying output\n",
    "print(\"The sum of {0} and {1} is {2}\" .format(a, b, sum))\n",
    "print(\"The division of {0} and {1} is {2}\" .format(a, b, division))"
   ]
  },
  {
   "cell_type": "markdown",
   "id": "f8270b0d",
   "metadata": {},
   "source": [
    "#### 3. Write a Python program to find the area of a triangle ?"
   ]
  },
  {
   "cell_type": "code",
   "execution_count": 10,
   "id": "18dadef4",
   "metadata": {},
   "outputs": [
    {
     "name": "stdout",
     "output_type": "stream",
     "text": [
      "Enter first side: 5\n",
      "Enter second side: 6\n",
      "Enter third side: 7\n",
      "The area of the triangle is  14.696938456699069\n"
     ]
    }
   ],
   "source": [
    "\"\"\"The area of a triangle with 3 sides of different measures can be calculated using Heron’s formula.\n",
    "s = (a+b+c)/2\n",
    "area = √(s(s-a)*(s-b)*(s-c))       \"\"\"\n",
    "\n",
    "a = float(input('Enter first side: '))\n",
    "b = float(input('Enter second side: '))\n",
    "c = float(input('Enter third side: '))\n",
    "\n",
    "# calculate the semi-perimeter\n",
    "s = (a + b + c) / 2\n",
    "\n",
    "# calculate the area\n",
    "area = (s*(s-a)*(s-b)*(s-c)) ** 0.5\n",
    "print('The area of the triangle is ',area)"
   ]
  },
  {
   "cell_type": "markdown",
   "id": "e72ad42e",
   "metadata": {},
   "source": [
    "#### 4. Write a Python program to swap two variables ?"
   ]
  },
  {
   "cell_type": "code",
   "execution_count": 20,
   "id": "dd614b5a",
   "metadata": {},
   "outputs": [
    {
     "name": "stdout",
     "output_type": "stream",
     "text": [
      "Before swapping -> x= 5  y= 10\n",
      "After swapping  -> x= 10  y= 5\n"
     ]
    }
   ],
   "source": [
    "x=5\n",
    "y=10\n",
    "print('Before swapping ->','x=',x,' y=', y)\n",
    "x,y=y,x\n",
    "print('After swapping  ->','x=',x,' y=',y)"
   ]
  },
  {
   "cell_type": "markdown",
   "id": "b6a63930",
   "metadata": {},
   "source": [
    "#### 5. Write a Python program to generate a random number ?"
   ]
  },
  {
   "cell_type": "code",
   "execution_count": 22,
   "id": "d35c0ea1",
   "metadata": {},
   "outputs": [
    {
     "name": "stdout",
     "output_type": "stream",
     "text": [
      "16\n"
     ]
    }
   ],
   "source": [
    "# Program to generate a random number between 0 and 100\n",
    "\n",
    "import random\n",
    "print(random.randint(0,100))"
   ]
  }
 ],
 "metadata": {
  "kernelspec": {
   "display_name": "Python 3 (ipykernel)",
   "language": "python",
   "name": "python3"
  },
  "language_info": {
   "codemirror_mode": {
    "name": "ipython",
    "version": 3
   },
   "file_extension": ".py",
   "mimetype": "text/x-python",
   "name": "python",
   "nbconvert_exporter": "python",
   "pygments_lexer": "ipython3",
   "version": "3.9.12"
  }
 },
 "nbformat": 4,
 "nbformat_minor": 5
}
