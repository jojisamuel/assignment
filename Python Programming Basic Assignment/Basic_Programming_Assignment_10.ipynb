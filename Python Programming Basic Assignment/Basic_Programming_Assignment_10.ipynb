{
 "cells": [
  {
   "cell_type": "markdown",
   "id": "0753e292",
   "metadata": {},
   "source": [
    "# Assignment 10 Solutions"
   ]
  },
  {
   "cell_type": "markdown",
   "id": "d6f96d38",
   "metadata": {},
   "source": [
    "#### 1.Write a Python Program to find sum of elements in a list ?"
   ]
  },
  {
   "cell_type": "code",
   "execution_count": 14,
   "id": "1fbea5b2",
   "metadata": {},
   "outputs": [
    {
     "name": "stdout",
     "output_type": "stream",
     "text": [
      "Enter value: 4\n",
      "Enter value: 5\n",
      "Enter value: 6\n",
      "Enter value: 3\n",
      "Enter value: \n",
      "LIST : [4, 5, 6, 3]\n",
      "The sum of all list elements is :  18\n"
     ]
    }
   ],
   "source": [
    "import functools   \n",
    "try:\n",
    "    my_list = []\n",
    "    while True:\n",
    "        my_list.append(int(input(\"Enter value: \")))\n",
    "except:\n",
    "    print(f'LIST : {my_list}')\n",
    "    print(f'The sum of all list elements is :  {functools.reduce(lambda a,b : a+b, my_list)}') "
   ]
  },
  {
   "cell_type": "markdown",
   "id": "35ff9c7c",
   "metadata": {},
   "source": [
    "### 2.Write a Python Program to multiply all numbers in the list ?"
   ]
  },
  {
   "cell_type": "code",
   "execution_count": 15,
   "id": "d77e77e6",
   "metadata": {},
   "outputs": [
    {
     "name": "stdout",
     "output_type": "stream",
     "text": [
      "Enter value: 2\n",
      "Enter value: 3\n",
      "Enter value: 4\n",
      "Enter value: 5\n",
      "Enter value: 6\n",
      "Enter value: \n",
      "LIST : [2, 3, 4, 5, 6]\n",
      "The Multiplication of all list elements is :  720\n"
     ]
    }
   ],
   "source": [
    "import functools   \n",
    "try:\n",
    "    my_list = []\n",
    "    while True:\n",
    "        my_list.append(int(input(\"Enter value: \")))\n",
    "except:\n",
    "    print(f'LIST : {my_list}')\n",
    "    print(f'The Multiplication of all list elements is :  {functools.reduce(lambda a,b : a*b, my_list)}') "
   ]
  },
  {
   "cell_type": "markdown",
   "id": "0561967b",
   "metadata": {},
   "source": [
    "### 3. Write a Python Program to find smallest number in the list ?"
   ]
  },
  {
   "cell_type": "code",
   "execution_count": 17,
   "id": "3e9863eb",
   "metadata": {},
   "outputs": [
    {
     "name": "stdout",
     "output_type": "stream",
     "text": [
      "Enter value: 1\n",
      "Enter value: 3\n",
      "Enter value: 6\n",
      "Enter value: 8\n",
      "Enter value: 9\n",
      "Enter value: \n",
      "LIST : [1, 3, 6, 8, 9]\n",
      "The Smallest Element in [1, 3, 6, 8, 9] is 1\n"
     ]
    }
   ],
   "source": [
    "try:\n",
    "    my_list = []\n",
    "    while True:\n",
    "        my_list.append(int(input(\"Enter value: \")))\n",
    "except:\n",
    "    print(f'The Smallest Element in {my_list} is {sorted(my_list)[0]}')"
   ]
  },
  {
   "cell_type": "markdown",
   "id": "0684d2e6",
   "metadata": {},
   "source": [
    "### 4. Write a Python Program to find largest number in the list ?"
   ]
  },
  {
   "cell_type": "code",
   "execution_count": 19,
   "id": "c1984a1c",
   "metadata": {},
   "outputs": [
    {
     "name": "stdout",
     "output_type": "stream",
     "text": [
      "Enter value: 5\n",
      "Enter value: 7\n",
      "Enter value: 8\n",
      "Enter value: 99\n",
      "Enter value: 001\n",
      "Enter value: 66\n",
      "Enter value: \n",
      "The Largest Element in [5, 7, 8, 99, 1, 66] is 99\n"
     ]
    }
   ],
   "source": [
    "try:\n",
    "    my_list = []\n",
    "    while True:\n",
    "        my_list.append(int(input(\"Enter value: \")))\n",
    "except:\n",
    "    print(f'The Largest Element in {my_list} is {sorted(my_list, reverse=True)[0]}')\n"
   ]
  },
  {
   "cell_type": "markdown",
   "id": "ef882ac4",
   "metadata": {},
   "source": [
    "### 5. Write a Python Program to find second largest number in the list ?"
   ]
  },
  {
   "cell_type": "code",
   "execution_count": 20,
   "id": "ca2c5e29",
   "metadata": {},
   "outputs": [
    {
     "name": "stdout",
     "output_type": "stream",
     "text": [
      "Enter value: 3\n",
      "Enter value: 55\n",
      "Enter value: 77\n",
      "Enter value: 88\n",
      "Enter value: 99\n",
      "Enter value: \n",
      "The Largest Element in [3, 55, 77, 88, 99] is 88\n"
     ]
    }
   ],
   "source": [
    "try:\n",
    "    my_list = []\n",
    "    while True:\n",
    "        my_list.append(int(input(\"Enter value: \")))\n",
    "except:\n",
    "    print(f'The Largest Element in {my_list} is {sorted(my_list, reverse=True)[1]}')"
   ]
  },
  {
   "cell_type": "markdown",
   "id": "ee185d52",
   "metadata": {},
   "source": [
    "### 6. Write a Python Program to find N largest elements in the list ?"
   ]
  },
  {
   "cell_type": "code",
   "execution_count": 21,
   "id": "e2c518fa",
   "metadata": {},
   "outputs": [
    {
     "name": "stdout",
     "output_type": "stream",
     "text": [
      "Enter Nth largest value4\n",
      "Enter list value: 22\n",
      "Enter list value: 11\n",
      "Enter list value: 34\n",
      "Enter list value: 34\n",
      "Enter list value: 67\n",
      "Enter list value: 45\n",
      "Enter list value: \n",
      "The 4th Largest Element in [22, 11, 34, 34, 67, 45] is 22\n"
     ]
    }
   ],
   "source": [
    "a=int(input(\"Enter Nth largest value\"))\n",
    "try:\n",
    "    my_list = []\n",
    "    while True:\n",
    "        my_list.append(int(input(\"Enter list value: \")))\n",
    "except:\n",
    "    print(f'The {a}th Largest Element in {my_list} is {sorted(my_list, reverse=True)[a]}')"
   ]
  },
  {
   "cell_type": "markdown",
   "id": "7f5a2b91",
   "metadata": {},
   "source": [
    "### 7. Write a Python Program to find even numbers in the list ?"
   ]
  },
  {
   "cell_type": "code",
   "execution_count": 25,
   "id": "e9b0d19a",
   "metadata": {},
   "outputs": [
    {
     "name": "stdout",
     "output_type": "stream",
     "text": [
      "Enter the No of elements in a list: 5\n",
      "Enter a Element: 33\n",
      "Enter a Element: 44\n",
      "Enter a Element: 66\n",
      "Enter a Element: 7\n",
      "Enter a Element: 8\n",
      "The Even Elements in [33, 44, 66, 7, 8] are [44, 66, 8]\n"
     ]
    }
   ],
   "source": [
    "def evenNoInList():\n",
    "    num = int(input('Enter the No of elements in a list: '))\n",
    "    my_list = []\n",
    "    even_list = []\n",
    "    for i in range(num):\n",
    "        my_list.append(int(input('Enter a Element: ')))\n",
    "    for j in my_list:\n",
    "        if j%2 == 0:\n",
    "            even_list.append(j)\n",
    "    print(f'The Even Elements in {my_list} are {even_list}')\n",
    "\n",
    "evenNoInList()"
   ]
  },
  {
   "cell_type": "markdown",
   "id": "a5d3f862",
   "metadata": {},
   "source": [
    "### 8. Write a Python Program to find odd numbers in the list ?"
   ]
  },
  {
   "cell_type": "code",
   "execution_count": 27,
   "id": "101d0718",
   "metadata": {},
   "outputs": [
    {
     "name": "stdout",
     "output_type": "stream",
     "text": [
      "Enter the No of elements in a list: 5\n",
      "Enter a Element: 33\n",
      "Enter a Element: 44\n",
      "Enter a Element: 66\n",
      "Enter a Element: 7\n",
      "Enter a Element: 8\n",
      "The Even Elements in [33, 44, 66, 7, 8] are [33, 7]\n"
     ]
    }
   ],
   "source": [
    "def oddNoInList():\n",
    "    num = int(input('Enter the No of elements in a list: '))\n",
    "    my_list = []\n",
    "    odd_list = []\n",
    "    for i in range(num):\n",
    "        my_list.append(int(input('Enter a Element: ')))\n",
    "    for j in my_list:\n",
    "        if j%2 != 0:\n",
    "            odd_list.append(j)\n",
    "    print(f'The Even Elements in {my_list} are {odd_list}')\n",
    "\n",
    "oddNoInList()"
   ]
  },
  {
   "cell_type": "markdown",
   "id": "f97fa7ea",
   "metadata": {},
   "source": [
    "### 9. Write a Python Program to remove empty list from list ?"
   ]
  },
  {
   "cell_type": "code",
   "execution_count": 33,
   "id": "193a2ef1",
   "metadata": {},
   "outputs": [
    {
     "name": "stdout",
     "output_type": "stream",
     "text": [
      "Enter all elements of the list: [1,2,4,[],3,4]\n",
      "There is an Empty list in [1, 2, 4, [], 3, 4] at Position 3\n",
      "The List after removing [] is [1, 2, 4, 3, 4]\n"
     ]
    }
   ],
   "source": [
    "def checkEmptyList():\n",
    "    my_list = eval(input('Enter all elements of the list: '))\n",
    "    if [] in my_list:\n",
    "        print(f'There is an Empty list in {my_list} at Position {my_list.index([])}')\n",
    "        my_list.remove([])\n",
    "        print(f'The List after removing [] is {my_list}')\n",
    "    else:\n",
    "        print(f'There is no [] List in the list {my_list}')\n",
    "        \n",
    "checkEmptyList()"
   ]
  },
  {
   "cell_type": "markdown",
   "id": "1a5b1f91",
   "metadata": {},
   "source": [
    "### 10. Write a Python Program to Cloning or Copying a list ?"
   ]
  },
  {
   "cell_type": "code",
   "execution_count": 34,
   "id": "55882ca5",
   "metadata": {},
   "outputs": [
    {
     "name": "stdout",
     "output_type": "stream",
     "text": [
      "Enter a list[2,4,5,6,34,5]\n",
      "[2, 4, 5, 6, 34, 5] 2774712449600\n",
      "[2, 4, 5, 6, 34, 5] 2774715156352\n"
     ]
    }
   ],
   "source": [
    "import copy\n",
    "\n",
    "def cloneList():\n",
    "    my_list = eval(input('Enter a list'))\n",
    "    print(my_list, id(my_list))\n",
    "    cloned_list = my_list.copy()\n",
    "    print(cloned_list, id(cloned_list))\n",
    "\n",
    "cloneList()"
   ]
  },
  {
   "cell_type": "markdown",
   "id": "37e5e6bd",
   "metadata": {},
   "source": [
    "### 11. Write a Python Program to count occurences of an element in a list ?"
   ]
  },
  {
   "cell_type": "code",
   "execution_count": 36,
   "id": "8a5e7b52",
   "metadata": {},
   "outputs": [
    {
     "name": "stdout",
     "output_type": "stream",
     "text": [
      "Enter the elements of the list: [2,4,5,2,45,67,7]\n",
      "Enter the element to find: 2\n",
      "There are 2 occurences of 2 in [2, 4, 5, 2, 45, 67, 7]\n"
     ]
    }
   ],
   "source": [
    "def checkOccurence():\n",
    "    my_list = eval(input('Enter the elements of the list: '))\n",
    "    num = eval(input('Enter the element to find: '))\n",
    "    count = 0\n",
    "    if num in my_list:\n",
    "        for i in my_list:\n",
    "            if i == num:\n",
    "                count = count+1\n",
    "    print(f'There are {count} occurences of {num} in {my_list}')\n",
    "    \n",
    "checkOccurence()"
   ]
  },
  {
   "cell_type": "code",
   "execution_count": null,
   "id": "2735c69b",
   "metadata": {},
   "outputs": [],
   "source": []
  }
 ],
 "metadata": {
  "kernelspec": {
   "display_name": "Python 3 (ipykernel)",
   "language": "python",
   "name": "python3"
  },
  "language_info": {
   "codemirror_mode": {
    "name": "ipython",
    "version": 3
   },
   "file_extension": ".py",
   "mimetype": "text/x-python",
   "name": "python",
   "nbconvert_exporter": "python",
   "pygments_lexer": "ipython3",
   "version": "3.9.12"
  }
 },
 "nbformat": 4,
 "nbformat_minor": 5
}
