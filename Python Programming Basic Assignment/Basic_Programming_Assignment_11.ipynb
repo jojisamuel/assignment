{
 "cells": [
  {
   "cell_type": "markdown",
   "id": "e9523fbb",
   "metadata": {},
   "source": [
    "# Assignment 11 Solutions"
   ]
  },
  {
   "cell_type": "markdown",
   "id": "267b6b8f",
   "metadata": {},
   "source": [
    "### 1. Write a Python program to find words which are greater than given length k ?"
   ]
  },
  {
   "cell_type": "code",
   "execution_count": 1,
   "id": "d3ec10f6",
   "metadata": {},
   "outputs": [
    {
     "name": "stdout",
     "output_type": "stream",
     "text": [
      "Enter the string: Write a Python program to find words which are greater than given length k\n",
      "Enter the length of the string: 5\n",
      "Python,program,greater,length\n"
     ]
    }
   ],
   "source": [
    "def checkLengthOfString():\n",
    "    in_string = input(\"Enter the string: \")\n",
    "    in_length = int(input('Enter the length of the string: '))\n",
    "    out_string = []\n",
    "    for string in in_string.split(\" \"):\n",
    "        if len(string) > in_length:\n",
    "            out_string.append(string)\n",
    "    print(','.join(out_string))\n",
    "\n",
    "checkLengthOfString()"
   ]
  },
  {
   "cell_type": "markdown",
   "id": "3711485d",
   "metadata": {},
   "source": [
    "### 2. Write a Python program for removing i-th character from a string ?"
   ]
  },
  {
   "cell_type": "code",
   "execution_count": 4,
   "id": "f7fccd01",
   "metadata": {},
   "outputs": [
    {
     "name": "stdout",
     "output_type": "stream",
     "text": [
      "Enter the String: Assignment\n",
      "Enter the ith Character: 5\n",
      "OUTPUT STRING : Assigment\n"
     ]
    }
   ],
   "source": [
    "def removeCharacter():\n",
    "    in_string = input(\"Enter the String: \")\n",
    "    in_char_num = int(input(\"Enter the ith Character: \"))\n",
    "    out_string = ''\n",
    "    for ele in range(len(in_string)):\n",
    "        if ele != in_char_num:\n",
    "            out_string = out_string + in_string[ele]\n",
    "    print(f'OUTPUT STRING : {out_string}')\n",
    "    \n",
    "removeCharacter()"
   ]
  },
  {
   "cell_type": "markdown",
   "id": "845ba790",
   "metadata": {},
   "source": [
    "### 3. Write a Python program to split and join a string ?"
   ]
  },
  {
   "cell_type": "code",
   "execution_count": 5,
   "id": "fd82df54",
   "metadata": {},
   "outputs": [
    {
     "name": "stdout",
     "output_type": "stream",
     "text": [
      "Enter the string: INeuron Full Stack Data Science Assignment\n",
      "Split String: ['INeuron', 'Full', 'Stack', 'Data', 'Science', 'Assignment']\n",
      "Join String: INeuron Full Stack Data Science Assignment\n"
     ]
    }
   ],
   "source": [
    "def splitJoinString():\n",
    "    in_string = input('Enter the string: ')\n",
    "    print(f\"Split String: {in_string.split(' ')}\")\n",
    "    print(f\"Join String: {' '.join(in_string.split(' '))}\")\n",
    "\n",
    "splitJoinString()"
   ]
  },
  {
   "cell_type": "markdown",
   "id": "ee642cdf",
   "metadata": {},
   "source": [
    "### 4. Write a Python to check if a given string is binary string or not ?"
   ]
  },
  {
   "cell_type": "code",
   "execution_count": 7,
   "id": "6d04b29e",
   "metadata": {},
   "outputs": [
    {
     "name": "stdout",
     "output_type": "stream",
     "text": [
      "Enter the string: 102012\n",
      "102012 is not a binary string\n"
     ]
    }
   ],
   "source": [
    "def checkBinary():\n",
    "    in_string = input('Enter the string: ')\n",
    "    stnum = 0\n",
    "    for ele in in_string:\n",
    "        if ele in ['0','1']:\n",
    "            stnum = 1\n",
    "            continue\n",
    "        else:\n",
    "            stnum = 0\n",
    "            break\n",
    "    statement = 'is a binary string' if stnum == 1 else 'is not a binary string' \n",
    "    print(f'{in_string} {statement}')\n",
    "\n",
    "checkBinary()"
   ]
  },
  {
   "cell_type": "code",
   "execution_count": 8,
   "id": "938ccfc2",
   "metadata": {},
   "outputs": [
    {
     "name": "stdout",
     "output_type": "stream",
     "text": [
      "Enter the string: 1010001\n",
      "1010001 is a binary string\n"
     ]
    }
   ],
   "source": [
    "checkBinary()"
   ]
  },
  {
   "cell_type": "markdown",
   "id": "d22e2622",
   "metadata": {},
   "source": [
    "### 5. Write a Python program to find uncommon words from two Strings ?"
   ]
  },
  {
   "cell_type": "code",
   "execution_count": 9,
   "id": "be223e06",
   "metadata": {},
   "outputs": [
    {
     "name": "stdout",
     "output_type": "stream",
     "text": [
      "Enter the String 1: Data Science\n",
      "Enter the String 2: Data Analyst\n",
      "{'Science', 'Analyst'}\n"
     ]
    }
   ],
   "source": [
    "def unCommonWords():\n",
    "    string_1 = set(input(\"Enter the String 1: \").split(' '))\n",
    "    string_2 = set(input(\"Enter the String 2: \").split(' '))\n",
    "    out_string = (string_1.union(string_2)).difference(string_1.intersection(string_2))\n",
    "    print(out_string)\n",
    "\n",
    "unCommonWords()"
   ]
  },
  {
   "cell_type": "markdown",
   "id": "a077bda5",
   "metadata": {},
   "source": [
    "### 6. Write a Python to find all duplicate characters in string ?"
   ]
  },
  {
   "cell_type": "code",
   "execution_count": 10,
   "id": "6116a494",
   "metadata": {},
   "outputs": [
    {
     "name": "stdout",
     "output_type": "stream",
     "text": [
      "Enter the string: INeuron Full Stack Data Science Assignment\n",
      "Duplicate characters are: ['e', ' ', 's', 'i', 'n', 'S', 'u', 'l', 'a', 't', 'c']\n"
     ]
    }
   ],
   "source": [
    "def duplicateChars():\n",
    "    in_string = input('Enter the string: ')\n",
    "    non_duplicate_list = []\n",
    "    duplicate_list = []\n",
    "    for ele in in_string:\n",
    "        if ele not in non_duplicate_list:\n",
    "            non_duplicate_list.append(ele)\n",
    "        else:\n",
    "            duplicate_list.append(ele)\n",
    "    print(f'Duplicate characters are: {list(set(duplicate_list))}')\n",
    "        \n",
    "duplicateChars()"
   ]
  },
  {
   "cell_type": "markdown",
   "id": "e14912b1",
   "metadata": {},
   "source": [
    "### 7. Write a Python Program to check if a string contains any special character?"
   ]
  },
  {
   "cell_type": "code",
   "execution_count": 11,
   "id": "b51b221d",
   "metadata": {},
   "outputs": [
    {
     "name": "stdout",
     "output_type": "stream",
     "text": [
      "Enter the string: my email is is 123@gmail.com\n",
      "There are 1 of Special Characters in my email is is 123@gmail.com which are ['@']\n"
     ]
    }
   ],
   "source": [
    "def checkSpecialChar():\n",
    "    spl_chars = '[@_!#$%^&*()<>?/\\|}{~:]'\n",
    "    num = input('Enter the string: ')\n",
    "    count = 0\n",
    "    char_list = []\n",
    "    for ele in num:\n",
    "        if ele in spl_chars:\n",
    "            char_list.append(ele)\n",
    "            count = count+1\n",
    "    print(f'There are {count} of Special Characters in {num} which are {char_list}')\n",
    "            \n",
    "        \n",
    "checkSpecialChar()"
   ]
  },
  {
   "cell_type": "code",
   "execution_count": 12,
   "id": "18713643",
   "metadata": {},
   "outputs": [
    {
     "name": "stdout",
     "output_type": "stream",
     "text": [
      "Enter the string: Programming Assignment\n",
      "There are 0 of Special Characters in Programming Assignment which are []\n"
     ]
    }
   ],
   "source": [
    "checkSpecialChar()"
   ]
  },
  {
   "cell_type": "code",
   "execution_count": null,
   "id": "e05c260f",
   "metadata": {},
   "outputs": [],
   "source": []
  }
 ],
 "metadata": {
  "kernelspec": {
   "display_name": "Python 3 (ipykernel)",
   "language": "python",
   "name": "python3"
  },
  "language_info": {
   "codemirror_mode": {
    "name": "ipython",
    "version": 3
   },
   "file_extension": ".py",
   "mimetype": "text/x-python",
   "name": "python",
   "nbconvert_exporter": "python",
   "pygments_lexer": "ipython3",
   "version": "3.9.12"
  }
 },
 "nbformat": 4,
 "nbformat_minor": 5
}
