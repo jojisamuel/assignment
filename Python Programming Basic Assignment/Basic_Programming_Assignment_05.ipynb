{
 "cells": [
  {
   "cell_type": "markdown",
   "id": "9c9845c6",
   "metadata": {},
   "source": [
    "# Assignment 5 Solutions"
   ]
  },
  {
   "cell_type": "markdown",
   "id": "c41b7229",
   "metadata": {},
   "source": [
    "#### 1. Write a Python Program to find LCM ?"
   ]
  },
  {
   "cell_type": "code",
   "execution_count": 2,
   "id": "efdeddb9",
   "metadata": {},
   "outputs": [
    {
     "name": "stdout",
     "output_type": "stream",
     "text": [
      "Enter first number:22\n",
      "Enter second number:5\n",
      "The L.C.M. is 110\n"
     ]
    }
   ],
   "source": [
    "# Python Program to find the L.C.M. of two numbers\n",
    "\n",
    "def lcmCal(x, y):\n",
    "\n",
    "   # choose the greater number\n",
    "   if x > y:\n",
    "       greater = x\n",
    "   else:\n",
    "       greater = y\n",
    "\n",
    "   while(True):\n",
    "       if((greater % x == 0) and (greater % y == 0)):\n",
    "           lcm = greater\n",
    "           break\n",
    "       greater += 1\n",
    "\n",
    "   return lcm\n",
    "\n",
    "num1 = int(input(\"Enter first number:\"))\n",
    "num2 = int(input(\"Enter second number:\"))\n",
    "\n",
    "print(\"The L.C.M. is\", lcmCal(num1, num2))"
   ]
  },
  {
   "cell_type": "markdown",
   "id": "c5ffa9f2",
   "metadata": {},
   "source": [
    "#### 2. Write a Python Program to find HCF ?"
   ]
  },
  {
   "cell_type": "code",
   "execution_count": 1,
   "id": "68f6e489",
   "metadata": {},
   "outputs": [
    {
     "name": "stdout",
     "output_type": "stream",
     "text": [
      "Enter first number:90\n",
      "Enter second number:70\n",
      "The H.C.F. is 10\n"
     ]
    }
   ],
   "source": [
    "# Python program to find H.C.F of two numbers\n",
    "\n",
    "def hcfCal(x, y):\n",
    "\n",
    "# choose the smaller number\n",
    "    if x > y:\n",
    "        smaller = y\n",
    "    else:\n",
    "        smaller = x\n",
    "    for i in range(1, smaller+1):\n",
    "        if((x % i == 0) and (y % i == 0)):\n",
    "            hcf = i \n",
    "    return hcf\n",
    "\n",
    "num1 = int(input(\"Enter first number:\"))\n",
    "num2 = int(input(\"Enter second number:\"))\n",
    "\n",
    "print(\"The H.C.F. is\", hcfCal(num1, num2))"
   ]
  },
  {
   "cell_type": "markdown",
   "id": "67f2b51c",
   "metadata": {},
   "source": [
    "#### 3. Write a Python Program to Convert Decimal to Binary, Octal and Hexadecimal ?"
   ]
  },
  {
   "cell_type": "code",
   "execution_count": 3,
   "id": "9b785212",
   "metadata": {},
   "outputs": [
    {
     "name": "stdout",
     "output_type": "stream",
     "text": [
      "Enter a Number : 21\n",
      "Binary Number -> 0b10101\n",
      "Octal Number -> 0o25\n",
      "Hexadecimal Number -> 0x15\n"
     ]
    }
   ],
   "source": [
    "def decimalConversion(num):\n",
    "    \n",
    "    print(f'Binary Number -> {bin(num)}')\n",
    "    print(f'Octal Number -> {oct(num)}')    \n",
    "    print(f'Hexadecimal Number -> {hex(num)}')    \n",
    "\n",
    "num=int(input(\"Enter a Number : \"))\n",
    "decimalConversion(num)"
   ]
  },
  {
   "cell_type": "markdown",
   "id": "99c406a8",
   "metadata": {},
   "source": [
    "#### 4. Write a Python Program to Find the ASCII value of  a Character ?"
   ]
  },
  {
   "cell_type": "code",
   "execution_count": 4,
   "id": "e0a109f0",
   "metadata": {},
   "outputs": [
    {
     "name": "stdout",
     "output_type": "stream",
     "text": [
      "Enter a Character: w\n",
      "Ascii Character of w is 119\n"
     ]
    }
   ],
   "source": [
    "def charToAscii():\n",
    "    char = input('Enter a Character: ')\n",
    "    if len(char) > 1:\n",
    "        print('Please Enter a Single Character')\n",
    "    else:\n",
    "        print(f'Ascii Character of {char} is {ord(char)}')\n",
    "\n",
    "charToAscii()"
   ]
  },
  {
   "cell_type": "markdown",
   "id": "e33de1bb",
   "metadata": {},
   "source": [
    "#### 5. Write a Python Program to Make a Simple Calculator with 4 Basic Mathematical operations ?"
   ]
  },
  {
   "cell_type": "code",
   "execution_count": 5,
   "id": "02b5ec67",
   "metadata": {},
   "outputs": [
    {
     "name": "stdout",
     "output_type": "stream",
     "text": [
      "Select operation.\n",
      "1.Add\n",
      "2.Subtract\n",
      "3.Multiply\n",
      "4.Divide\n",
      "Enter choice(1/2/3/4): 3\n",
      "Enter first number: 11\n",
      "Enter second number: 52\n",
      "11.0 * 52.0 = 572.0\n",
      "Let's do next calculation? (yes/no): yes\n",
      "Enter choice(1/2/3/4): 1\n",
      "Enter first number: 44\n",
      "Enter second number: 99\n",
      "44.0 + 99.0 = 143.0\n",
      "Let's do next calculation? (yes/no): no\n"
     ]
    }
   ],
   "source": [
    "# a simple calculator\n",
    "\n",
    "def add(x, y):\n",
    "    return x + y\n",
    "\n",
    "def subtract(x, y):\n",
    "    return x - y\n",
    "\n",
    "def multiply(x, y):\n",
    "    return x * y\n",
    "\n",
    "def divide(x, y):\n",
    "    return x / y\n",
    "\n",
    "\n",
    "print(\"Select operation.\")\n",
    "print(\"1.Add\")\n",
    "print(\"2.Subtract\")\n",
    "print(\"3.Multiply\")\n",
    "print(\"4.Divide\")\n",
    "\n",
    "while True:\n",
    "    # take input from the user\n",
    "    choice = input(\"Enter choice(1/2/3/4): \")\n",
    "\n",
    "    # check if choice is one of the four options\n",
    "    if choice in ('1', '2', '3', '4'):\n",
    "        num1 = float(input(\"Enter first number: \"))\n",
    "        num2 = float(input(\"Enter second number: \"))\n",
    "\n",
    "        if choice == '1':\n",
    "            print(num1, \"+\", num2, \"=\", add(num1, num2))\n",
    "\n",
    "        elif choice == '2':\n",
    "            print(num1, \"-\", num2, \"=\", subtract(num1, num2))\n",
    "\n",
    "        elif choice == '3':\n",
    "            print(num1, \"*\", num2, \"=\", multiply(num1, num2))\n",
    "\n",
    "        elif choice == '4':\n",
    "            print(num1, \"/\", num2, \"=\", divide(num1, num2))\n",
    "        \n",
    "        # check if user wants another calculation\n",
    "        # break the while loop if answer is no\n",
    "        next_calculation = input(\"Let's do next calculation? (yes/no): \")\n",
    "        if next_calculation == \"no\":\n",
    "          break\n",
    "    \n",
    "    else:\n",
    "        print(\"Invalid Input\")"
   ]
  },
  {
   "cell_type": "code",
   "execution_count": null,
   "id": "28f3250e",
   "metadata": {},
   "outputs": [],
   "source": []
  }
 ],
 "metadata": {
  "kernelspec": {
   "display_name": "Python 3 (ipykernel)",
   "language": "python",
   "name": "python3"
  },
  "language_info": {
   "codemirror_mode": {
    "name": "ipython",
    "version": 3
   },
   "file_extension": ".py",
   "mimetype": "text/x-python",
   "name": "python",
   "nbconvert_exporter": "python",
   "pygments_lexer": "ipython3",
   "version": "3.9.12"
  }
 },
 "nbformat": 4,
 "nbformat_minor": 5
}
