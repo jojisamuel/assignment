{
 "cells": [
  {
   "cell_type": "markdown",
   "metadata": {},
   "source": [
    "#### 1. Why are functions advantageous to have in your programs?\n",
    "\n",
    "**Ans:** The advantages of using functions are:\n",
    "\n",
    "      • Avoid repetition of codes.\n",
    "      • Increases program readability.\n",
    "      • Divide a complex problem into simpler ones.\n",
    "      • Reduces chances of error. \n",
    "      • Modifying a program becomes easier by using function.\n",
    "    "
   ]
  },
  {
   "cell_type": "markdown",
   "metadata": {},
   "source": [
    "#### 2. When does the code in a function run: when it&#39;s specified or when it&#39;s called?\n",
    "**Ans:** The code in a function executes when the function is called"
   ]
  },
  {
   "cell_type": "markdown",
   "metadata": {},
   "source": [
    "#### 3. What statement creates a function?\n",
    "**Ans:** \n",
    "\n",
    "     Syntax of function:\n",
    "     \n",
    "        def function_name(parameters):\n",
    "            \"\"\"docstring\"\"\"\n",
    "            statement(s)\n",
    "                \n",
    "    • Keyword def that marks the start of the function header.\n",
    "    • A function name to uniquely identify the function. \n",
    "    • Parameters (arguments) through which we pass values to a function. They are optional.\n",
    "    • A colon (:) to mark the end of the function header.\n",
    "    • Optional documentation string (docstring) to describe what the function does.\n",
    "    • An optional return statement to return a value from the function"
   ]
  },
  {
   "cell_type": "markdown",
   "metadata": {},
   "source": [
    "#### 4. What is the difference between a function and a function call?\n",
    "**Ans:**  \n",
    "\n",
    "    • A function is a block of code that does a particular operation and returns a result. A function call means invoking or calling that function.  \n",
    "\n",
    "    •  the function definition should always be present before the function call\n"
   ]
  },
  {
   "cell_type": "markdown",
   "metadata": {},
   "source": [
    "#### 5. How many global scopes are there in a Python program? How many local scopes?\n",
    "**Ans:** There's only one global Python scope per program execution. This scope remains in existence until the program terminates and all its names are forgotten.  \n",
    " Local scopes are created at function call, not at function definition, so we can have as many different local scopes as function calls.\n",
    "\n"
   ]
  },
  {
   "cell_type": "markdown",
   "metadata": {},
   "source": [
    "#### 6. What happens to variables in a local scope when the function call returns?\n",
    "**Ans:**  When a function returns, the local scope is destroyed/de-allocated and all the variables in it are forgotten."
   ]
  },
  {
   "cell_type": "markdown",
   "metadata": {},
   "source": [
    "#### 7. What is the concept of a return value? Is it possible to have a return value in an expression?\n",
    "**Ans:** A return statement is used to end the execution of the function call and “returns” the result to the caller code.  \n",
    "     Yes we can use that value in a math expression or any other kind of expression in which the value has a logical or coherent meaning\n"
   ]
  },
  {
   "cell_type": "markdown",
   "metadata": {},
   "source": [
    "#### 8. If a function does not have a return statement, what is the return value of a call to that function?\n",
    "**Ans:** `NONE`. We can omit the return value of a function and use a bare return without a return value and we can also omit the entire return statement. In both cases, the return value will be None."
   ]
  },
  {
   "cell_type": "markdown",
   "metadata": {},
   "source": [
    "#### 9. How do you make a function variable refer to the global variable?\n",
    "**Ans:** If we want to refer to a global variable in a function, you can use the `global` keyword to declare which variables are global."
   ]
  },
  {
   "cell_type": "markdown",
   "metadata": {},
   "source": [
    "#### 10. What is the data type of None?\n",
    "**Ans:** `NoneType`"
   ]
  },
  {
   "cell_type": "code",
   "execution_count": 2,
   "metadata": {},
   "outputs": [
    {
     "data": {
      "text/plain": [
       "NoneType"
      ]
     },
     "execution_count": 2,
     "metadata": {},
     "output_type": "execute_result"
    }
   ],
   "source": [
    "a=None\n",
    "type(a)"
   ]
  },
  {
   "cell_type": "markdown",
   "metadata": {},
   "source": [
    "#### 11. What does the sentence import areallyourpetsnamederic do?\n",
    "**Ans:** That import statement imports a module named areallyourpetsnamederic"
   ]
  },
  {
   "cell_type": "markdown",
   "metadata": {},
   "source": [
    "#### 12. If you had a bacon() feature in a spam module, what would you call it after importing spam?\n",
    "**Ans:** This function can be called with `spam.bacon()`"
   ]
  },
  {
   "cell_type": "markdown",
   "metadata": {},
   "source": [
    "#### 13. What can you do to save a programme from crashing if it encounters an error?\n",
    "**Ans:** We can manage any exceptions by placing this code in a `try:` … `except:` … block:"
   ]
  },
  {
   "cell_type": "markdown",
   "metadata": {},
   "source": [
    "#### 14. What is the purpose of the try clause? What is the purpose of the except clause?\n",
    "**Ans:** The try block lets you test a block of code for errors.\n",
    "         The except block lets you handle the error."
   ]
  },
  {
   "cell_type": "code",
   "execution_count": 3,
   "metadata": {},
   "outputs": [
    {
     "name": "stdout",
     "output_type": "stream",
     "text": [
      "This code NOT be running because of name 'ww' is not defined\n"
     ]
    }
   ],
   "source": [
    "try:\n",
    "    a=ww\n",
    "    print('This code be running') # your code here\n",
    "except Exception as e:\n",
    "    print('This code NOT be running because of', e)"
   ]
  },
  {
   "cell_type": "code",
   "execution_count": 5,
   "metadata": {},
   "outputs": [
    {
     "name": "stdout",
     "output_type": "stream",
     "text": [
      "This code be running\n"
     ]
    }
   ],
   "source": [
    "try:\n",
    "    a='ww'\n",
    "    print('This code be running') # your code here\n",
    "except Exception as e:\n",
    "    print('This code NOT be running because of', e)"
   ]
  },
  {
   "cell_type": "code",
   "execution_count": null,
   "metadata": {},
   "outputs": [],
   "source": []
  }
 ],
 "metadata": {
  "kernelspec": {
   "display_name": "Python 3",
   "language": "python",
   "name": "python3"
  },
  "language_info": {
   "codemirror_mode": {
    "name": "ipython",
    "version": 3
   },
   "file_extension": ".py",
   "mimetype": "text/x-python",
   "name": "python",
   "nbconvert_exporter": "python",
   "pygments_lexer": "ipython3",
   "version": "3.7.6"
  }
 },
 "nbformat": 4,
 "nbformat_minor": 4
}
