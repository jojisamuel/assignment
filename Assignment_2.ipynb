{
 "cells": [
  {
   "cell_type": "markdown",
   "id": "fbf2bde7",
   "metadata": {},
   "source": [
    "#### 1.What are the two values of the boolean data types? how do you write them ?\n",
    "**Ans**: `True` and `False` are the two values of the boolen data types.\n",
    "In numeric contexts they behave like the integers 0 and 1, respectively.\n",
    "T & F should be in capital with the rest of the word in lowercase (True , False)"
   ]
  },
  {
   "cell_type": "code",
   "execution_count": 1,
   "id": "00c249ed",
   "metadata": {},
   "outputs": [
    {
     "name": "stdout",
     "output_type": "stream",
     "text": [
      "True <class 'bool'>\n",
      "False <class 'bool'>\n"
     ]
    }
   ],
   "source": [
    "a=True\n",
    "b=False\n",
    "print(a,type(a))\n",
    "print(b,type(b))"
   ]
  },
  {
   "cell_type": "markdown",
   "id": "a17743ca",
   "metadata": {},
   "source": [
    "#### 2. What are the three different types of Boolean operators?\n",
    "**Ans**: The three different types of Boolean operators in python are:-\n",
    "        \n",
    "    The AND operator (&& or \"and\")\n",
    "    The OR operator (|| or \"or\")\n",
    "    The NOT operator (not)\n"
   ]
  },
  {
   "cell_type": "code",
   "execution_count": 5,
   "id": "a27c7fa3",
   "metadata": {},
   "outputs": [
    {
     "name": "stdout",
     "output_type": "stream",
     "text": [
      "False\n",
      "True\n",
      "False\n"
     ]
    }
   ],
   "source": [
    "a=1000\n",
    "b=2000\n",
    "print(a>200 and b>2000) # Example of boolean AND\n",
    "print(a>200 or b>2000) # Example of boolean OR\n",
    "print(not(a>100)) # Example of boolean NOT"
   ]
  },
  {
   "cell_type": "markdown",
   "id": "61079d16",
   "metadata": {},
   "source": [
    "#### 3. Make a list of each Boolean operator's truth tables (i.e. every possible combination of Boolean values for the operator and what it evaluate)\n",
    "**Ans:** The Truth tables for the boolean tables are as follows:  \n",
    "* **Truth Table for `and` operator**  \n",
    "    \n",
    "    \n",
    " <table align=\"left\">\n",
    "  <tr><td>True<td><td>True<td><td> True <td><tr>\n",
    "    <tr><td>True<td><td>False<td><td> False <td><tr>\n",
    "        <tr><td>False<td><td>True<td><td> False <td><tr>\n",
    "            <tr><td>False<td><td>False<td><td> False<td><tr>\n",
    "                <table>\n",
    " "
   ]
  },
  {
   "cell_type": "markdown",
   "id": "49252283",
   "metadata": {},
   "source": [
    "   \n",
    "* **Truth Table for `or` operator**  \n",
    "\n",
    "<table align=\"left\">\n",
    "  <tr><td>True<td><td>True<td><td> True <td><tr>\n",
    "    <tr><td>True<td><td>False<td><td> True <td><tr>\n",
    "        <tr><td>False<td><td>True<td><td> True <td><tr>\n",
    "            <tr><td>False<td><td>False<td><td> False<td><tr>\n",
    "                <table>\n"
   ]
  },
  {
   "cell_type": "markdown",
   "id": "dc08de9e",
   "metadata": {},
   "source": [
    "  \n",
    "    \n",
    "* **Truth Table for `not` operator**    \n",
    "\n",
    "  <table align=\"left\">\n",
    "  <tr><td>not True<td><td>False<td><tr>\n",
    "  <tr><td>not False<td><td>True<td><tr>\n",
    "        \n",
    "               "
   ]
  },
  {
   "cell_type": "markdown",
   "id": "8fa9f968",
   "metadata": {},
   "source": [
    "#### 4. What are the values of the following expressions ?\n",
    "* (5 > 4) and (3 == 5)  \n",
    "* not (5 > 4)  \n",
    "* (5 > 4) or (3 == 5)  \n",
    "* not ((5 > 4) or (3 == 5))  \n",
    "* (True and True) and (True == False)  \n",
    "* (not False) or (not True)  "
   ]
  },
  {
   "cell_type": "code",
   "execution_count": 12,
   "id": "01253723",
   "metadata": {},
   "outputs": [
    {
     "data": {
      "text/plain": [
       "False"
      ]
     },
     "execution_count": 12,
     "metadata": {},
     "output_type": "execute_result"
    }
   ],
   "source": [
    "(5 > 4) and (3 == 5) "
   ]
  },
  {
   "cell_type": "code",
   "execution_count": 13,
   "id": "dff09d0c",
   "metadata": {},
   "outputs": [
    {
     "data": {
      "text/plain": [
       "False"
      ]
     },
     "execution_count": 13,
     "metadata": {},
     "output_type": "execute_result"
    }
   ],
   "source": [
    "not (5 > 4)"
   ]
  },
  {
   "cell_type": "code",
   "execution_count": 14,
   "id": "efa62381",
   "metadata": {},
   "outputs": [
    {
     "data": {
      "text/plain": [
       "True"
      ]
     },
     "execution_count": 14,
     "metadata": {},
     "output_type": "execute_result"
    }
   ],
   "source": [
    "(5 > 4) or (3 == 5) "
   ]
  },
  {
   "cell_type": "code",
   "execution_count": 15,
   "id": "0e9346c2",
   "metadata": {},
   "outputs": [
    {
     "data": {
      "text/plain": [
       "False"
      ]
     },
     "execution_count": 15,
     "metadata": {},
     "output_type": "execute_result"
    }
   ],
   "source": [
    "not ((5 > 4) or (3 == 5))"
   ]
  },
  {
   "cell_type": "code",
   "execution_count": 16,
   "id": "734e47cf",
   "metadata": {},
   "outputs": [
    {
     "data": {
      "text/plain": [
       "False"
      ]
     },
     "execution_count": 16,
     "metadata": {},
     "output_type": "execute_result"
    }
   ],
   "source": [
    "(True and True) and (True == False) "
   ]
  },
  {
   "cell_type": "code",
   "execution_count": 17,
   "id": "ac467e4c",
   "metadata": {},
   "outputs": [
    {
     "data": {
      "text/plain": [
       "True"
      ]
     },
     "execution_count": 17,
     "metadata": {},
     "output_type": "execute_result"
    }
   ],
   "source": [
    "(not False) or (not True) "
   ]
  },
  {
   "cell_type": "markdown",
   "id": "c93053bd",
   "metadata": {},
   "source": [
    "#### 5. What are the six comparison operators?\n",
    "**Ans:**  The Six Comparision Operators available in python are:  \n",
    "`==` , `!=` , `<` , `>` , `<=` , `=>`"
   ]
  },
  {
   "cell_type": "markdown",
   "id": "fd815c00",
   "metadata": {},
   "source": [
    "#### 6. How do you tell the difference between the equal to and assignment operators? Describe a condition and when you would use one? \n",
    "**Ans:** `==` is the equal to operator that compares two values and evaluates to a Boolean, while `=` is that assignment operator that stores a value in a variable."
   ]
  },
  {
   "cell_type": "code",
   "execution_count": 19,
   "id": "d4483a52",
   "metadata": {},
   "outputs": [
    {
     "name": "stdout",
     "output_type": "stream",
     "text": [
      "True\n"
     ]
    }
   ],
   "source": [
    "a=5 # Assigning operator that stores 5 value in a variable a\n",
    "if a==5:  #comparing values of a varible value and 5\n",
    "    print(a==5)  "
   ]
  },
  {
   "cell_type": "markdown",
   "id": "b4f6333e",
   "metadata": {},
   "source": [
    "#### 7. Identify the three blocks in this code:\n",
    "spam = 0  \n",
    "if spam == 10:  \n",
    "print('eggs')  \n",
    "if spam > 5:  \n",
    "print('bacon')  \n",
    "else:  \n",
    "print('ham')  \n",
    "print('spam')  \n",
    "print('spam')\n",
    "\n",
    "**Ans**: In Python, code block refers to a collection of code that is in the same block or indent. This is most commonly found in classes, functions, and loops."
   ]
  },
  {
   "cell_type": "code",
   "execution_count": 23,
   "id": "8a53a92e",
   "metadata": {},
   "outputs": [
    {
     "name": "stdout",
     "output_type": "stream",
     "text": [
      "ham\n",
      "spam\n",
      "spam\n"
     ]
    }
   ],
   "source": [
    "spam = 0\n",
    "if spam == 10:\n",
    "    print('eggs')       # block #1\n",
    "if spam > 5:\n",
    "    print('bacon')      # block #2\n",
    "else:\n",
    "    print('ham')        # block #3\n",
    "print('spam')\n",
    "print('spam')"
   ]
  },
  {
   "cell_type": "markdown",
   "id": "669feef8",
   "metadata": {},
   "source": [
    "#### 8. Write code that prints Hello if 1 is stored in spam, prints Howdy if 2 is stored in spam, and prints Greetings! if anything else is stored in spam."
   ]
  },
  {
   "cell_type": "code",
   "execution_count": 24,
   "id": "85bdb567",
   "metadata": {},
   "outputs": [
    {
     "name": "stdout",
     "output_type": "stream",
     "text": [
      "Hello\n",
      "Howdy\n",
      "Greetings\n"
     ]
    }
   ],
   "source": [
    "def spam_code(spam):\n",
    "    if spam==1:\n",
    "        print('Hello')\n",
    "    elif spam==2:\n",
    "        print('Howdy')\n",
    "    else:\n",
    "        print('Greetings')\n",
    "        \n",
    "spam_code(1) \n",
    "spam_code(2)\n",
    "spam_code(3)"
   ]
  },
  {
   "cell_type": "markdown",
   "id": "cf56494d",
   "metadata": {},
   "source": [
    "#### 9.If your programme is stuck in an endless loop, what keys you’ll press?\n",
    "**Ans:** Press `Ctrl-c` to stop a program stuck in an infinite loop"
   ]
  },
  {
   "cell_type": "markdown",
   "id": "61251eb5",
   "metadata": {},
   "source": [
    "#### 10. How can you tell the difference between break and continue?\n",
    "**Ans:** The `break` statement will move the execution outside the loop if break condition is satisfied. Whereas the `continue` statement will move the execution to the start of the loop."
   ]
  },
  {
   "cell_type": "code",
   "execution_count": 28,
   "id": "9d9a7c99",
   "metadata": {},
   "outputs": [
    {
     "name": "stdout",
     "output_type": "stream",
     "text": [
      "a\n",
      "s\n",
      "s\n",
      "i\n",
      "The end\n"
     ]
    }
   ],
   "source": [
    "# Use of break statement inside the loop\n",
    "for val in \"assignment\":\n",
    "    if val == \"g\":\n",
    "        break\n",
    "    print(val)\n",
    "print(\"The end\")\n",
    "\n",
    "# we iterate through the \"assignment\" sequence. We check if the letter is g, upon which we break from the loop"
   ]
  },
  {
   "cell_type": "code",
   "execution_count": 30,
   "id": "ba98a32c",
   "metadata": {},
   "outputs": [
    {
     "name": "stdout",
     "output_type": "stream",
     "text": [
      "a\n",
      "s\n",
      "s\n",
      "i\n",
      "n\n",
      "m\n",
      "e\n",
      "n\n",
      "t\n",
      "The end\n"
     ]
    }
   ],
   "source": [
    "# Program to show the use of continue statement inside loops\n",
    "for val in \"assignment\":\n",
    "    if val == \"g\":\n",
    "        continue\n",
    "    print(val)\n",
    "print(\"The end\")\n"
   ]
  },
  {
   "cell_type": "markdown",
   "id": "fb77af19",
   "metadata": {},
   "source": [
    "#### 11. In a for loop, what is the difference between range(10), range(0, 10), and range(0, 10, 1)?\n",
    "**Ans:** The Differences are as follows:-  \n",
    "1. The _**range(10)**_ call range from 0 to 9 (but not include 10)  \n",
    "2. The _**range (0,10)**_ explicitly tells the loop to start at 0  \n",
    "3. The _**range(0,10,1)**_ explicitly tells the loop to increase the variable by 1 on each iteration   "
   ]
  },
  {
   "cell_type": "markdown",
   "id": "98555d04",
   "metadata": {},
   "source": [
    "#### 12. Write a short program that prints the numbers 1 to 10 using a for loop. Then write an equivalent program that prints the numbers 1 to 10 using a while loop ? "
   ]
  },
  {
   "cell_type": "code",
   "execution_count": 41,
   "id": "ca35dbd9",
   "metadata": {},
   "outputs": [
    {
     "name": "stdout",
     "output_type": "stream",
     "text": [
      "---------- Using For Loop ----------\n",
      "1 2 3 4 5 6 7 8 9 10 \n",
      "\n",
      "---------- Using While Loop ----------\n",
      "1 2 3 4 5 6 7 8 9 10 "
     ]
    }
   ],
   "source": [
    "print('-'*10,'Using For Loop','-'*10)\n",
    "for i in range(1,11):\n",
    "    print(i, end=\" \")\n",
    "print('\\n')\n",
    "\n",
    "print('-'*10,'Using While Loop','-'*10) \n",
    "i=1\n",
    "while i<=10:\n",
    "    print(i, end=\" \")\n",
    "    i+=1"
   ]
  },
  {
   "cell_type": "markdown",
   "id": "9551cca7",
   "metadata": {},
   "source": [
    "#### 13. If you had a function named bacon() inside a module named spam, how would you call it after importing spam ?\n",
    "**Ans:** This function can be called with `spam.bacon()`"
   ]
  },
  {
   "cell_type": "code",
   "execution_count": null,
   "id": "a45ae8b2",
   "metadata": {},
   "outputs": [],
   "source": []
  }
 ],
 "metadata": {
  "kernelspec": {
   "display_name": "Python 3 (ipykernel)",
   "language": "python",
   "name": "python3"
  },
  "language_info": {
   "codemirror_mode": {
    "name": "ipython",
    "version": 3
   },
   "file_extension": ".py",
   "mimetype": "text/x-python",
   "name": "python",
   "nbconvert_exporter": "python",
   "pygments_lexer": "ipython3",
   "version": "3.9.12"
  }
 },
 "nbformat": 4,
 "nbformat_minor": 5
}
