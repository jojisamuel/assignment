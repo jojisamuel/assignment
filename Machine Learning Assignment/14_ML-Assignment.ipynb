{
 "cells": [
  {
   "cell_type": "markdown",
   "id": "b2aa57f2",
   "metadata": {},
   "source": [
    "# Assignment 14 Solutions"
   ]
  },
  {
   "cell_type": "markdown",
   "id": "111120c6",
   "metadata": {},
   "source": [
    "##### 1. What is the concept of supervised learning? What is the significance of the name ?"
   ]
  },
  {
   "cell_type": "markdown",
   "id": "397884b3",
   "metadata": {},
   "source": [
    "**Ans:** Supervised learning is a type of machine learning where an algorithm learns from a labeled dataset, consisting of input-output pairs. The algorithm is trained to predict output labels based on input data, adjusting its parameters to minimize the difference between predicted and true labels. The significance of the name \"supervised learning\" lies in the guidance provided by labeled examples, acting as a supervisor during the learning process. This approach allows the algorithm to generalize and make predictions on new, unseen data by leveraging learned patterns from the labeled training set."
   ]
  },
  {
   "cell_type": "markdown",
   "id": "4ae857d4",
   "metadata": {},
   "source": [
    "##### 2. In the hospital sector, offer an example of supervised learning ?"
   ]
  },
  {
   "cell_type": "markdown",
   "id": "dda9f6d4",
   "metadata": {},
   "source": [
    "**Ans:** In the hospital sector, a common example of supervised learning involves using machine learning algorithms to predict medical conditions based on patient data. For instance, in the case of diabetes prediction, a dataset with labeled patient records (indicating the presence or absence of diabetes) is used to train a supervised learning model. This model learns patterns and relationships between patient features (e.g., age, BMI, blood pressure) and the medical condition. After training, the model is evaluated and, if reliable, applied to new patient data for predicting the likelihood of diabetes. This application aids healthcare professionals in early detection and intervention, contributing to more accurate diagnoses."
   ]
  },
  {
   "cell_type": "markdown",
   "id": "c981ac1e",
   "metadata": {},
   "source": [
    "##### 3. Give three supervised learning examples ?"
   ]
  },
  {
   "cell_type": "markdown",
   "id": "08e74d1e",
   "metadata": {},
   "source": [
    "**Ans:** Example of Supervised Learning Algorithms are:\n",
    "- Linear Regression.\n",
    "- Nearest Neighbor.\n",
    "- Gaussian Naive Bayes.\n",
    "- Decision Trees.\n",
    "- Support Vector Machine (SVM)\n",
    "- Random Forest."
   ]
  },
  {
   "cell_type": "markdown",
   "id": "07ab2a64",
   "metadata": {},
   "source": [
    "##### 4. In supervised learning, what are classification and regression ?"
   ]
  },
  {
   "cell_type": "markdown",
   "id": "84be079f",
   "metadata": {},
   "source": [
    "**Ans:** Fundamentally, classification is about predicting a label and regression is about predicting a quantity. That classification is the problem of predicting a discrete class label output for an example. That regression is the problem of predicting a continuous quantity output for an example."
   ]
  },
  {
   "cell_type": "markdown",
   "id": "0be2162e",
   "metadata": {},
   "source": [
    "##### 5. Give some popular classification algorithms as examples ?"
   ]
  },
  {
   "cell_type": "markdown",
   "id": "b3b5e11c",
   "metadata": {},
   "source": [
    "**Ans:** Popular algorithms that can be used for multi-class classification include: \n",
    "- k-Nearest Neighbors\n",
    "- Decision Trees.\n",
    "- Naive Bayes"
   ]
  },
  {
   "cell_type": "markdown",
   "id": "a96163dd",
   "metadata": {},
   "source": [
    "##### 6. Briefly describe the SVM model ?"
   ]
  },
  {
   "cell_type": "markdown",
   "id": "e2398e09",
   "metadata": {},
   "source": [
    "**Ans:** A support vector machine (SVM) is a supervised machine learning model that uses classification algorithms for two-group classification problems. After giving an SVM model sets of labeled training data for each category, they're able to categorize new text."
   ]
  },
  {
   "cell_type": "markdown",
   "id": "6b3b649e",
   "metadata": {},
   "source": [
    "##### 7. In SVM, what is the cost of misclassification ?"
   ]
  },
  {
   "cell_type": "markdown",
   "id": "4018c29b",
   "metadata": {},
   "source": [
    "**Ans:** In cost-sensitive learning instead of each instance being either correctly or incorrectly classified, each class (or instance) is given a misclassification cost. Thus, instead of trying to optimize the accuracy, the problem is then to minimize the total misclassification cost."
   ]
  },
  {
   "cell_type": "markdown",
   "id": "54020cf8",
   "metadata": {},
   "source": [
    "##### 8. In the SVM model, define Support Vectors ?"
   ]
  },
  {
   "cell_type": "markdown",
   "id": "130acaa5",
   "metadata": {},
   "source": [
    "**Ans:** Support vectors are data points that are closer to the hyperplane and influence the position and orientation of the hyperplane. Using these support vectors, we maximize the margin of the classifier. Deleting the support vectors will change the position of the hyperplane. These are the points that help us build our SVM."
   ]
  },
  {
   "cell_type": "markdown",
   "id": "9db681d1",
   "metadata": {},
   "source": [
    "##### 9. In the SVM model, define the kernel ?"
   ]
  },
  {
   "cell_type": "markdown",
   "id": "2d56a9dd",
   "metadata": {},
   "source": [
    "**Ans:** SVM algorithms use a set of mathematical functions that are defined as the kernel. The function of kernel is to take data as input and transform it into the required form. These functions can be different types. For example linear, nonlinear, polynomial, radial basis function (RBF), and sigmoid."
   ]
  },
  {
   "cell_type": "markdown",
   "id": "5b686929",
   "metadata": {},
   "source": [
    "##### 10. What are the factors that influence SVM's effectiveness ?"
   ]
  },
  {
   "cell_type": "markdown",
   "id": "ff033749",
   "metadata": {},
   "source": [
    "**Ans:** SVM or Support Vector Machine is a linear model for classification and regression problems. It can solve linear and non-linear problems and work well for many practical problems. The idea of SVM is simple: The algorithm creates a line or a hyperplane which separates the data into classes."
   ]
  },
  {
   "cell_type": "markdown",
   "id": "3e636eaf",
   "metadata": {},
   "source": [
    "##### 11. What are the benefits of using the SVM model ?"
   ]
  },
  {
   "cell_type": "markdown",
   "id": "b5ed07d2",
   "metadata": {},
   "source": [
    "**Ans:** SVM works relatively well when there is a clear margin of separation between classes. SVM is more effective in high dimensional spaces. SVM is effective in cases where the number of dimensions is greater than the number of samples.SVM is relatively memory efficient."
   ]
  },
  {
   "cell_type": "markdown",
   "id": "64feb7de",
   "metadata": {},
   "source": [
    "##### 12.  What are the drawbacks of using the SVM model ?"
   ]
  },
  {
   "cell_type": "markdown",
   "id": "34c3bd36",
   "metadata": {},
   "source": [
    "**Ans:** SVM algorithm is not suitable for large data sets. SVM does not perform very well when the data set has more noise i.e. target classes are overlapping. In cases where the number of features for each data point exceeds the number of  training data samples, the SVM will underperform."
   ]
  },
  {
   "cell_type": "markdown",
   "id": "bcec9c51",
   "metadata": {},
   "source": [
    "##### 13. Notes should be written on\n",
    "1. The kNN algorithm has a validation flaw.\n",
    "2. In the kNN algorithm, the k value is chosen.\n",
    "3. A decision tree with inductive bias"
   ]
  },
  {
   "cell_type": "markdown",
   "id": "9b271402",
   "metadata": {},
   "source": [
    "**Ans:** The Short notes on below topics is:\n",
    "- **The kNN algorithm has a validation flaw.**\n",
    "The relatively low accuracy of kNN is caused by several factors. One of them is that every characteristic of the method has the same result on calculating distance. The solution of this problem is to give weight to each data characteristic.\n",
    "- **In the kNN algorithm, the k value is chosen.**\n",
    "The optimal K value usually found is the square root of N, where N is the total number of samples. Use an error plot or accuracy plot to find the most favorable K value. KNN performs well with multi-label classes, but you must be aware of the outliers.\n",
    "- **A decision tree with inductive bias**\n",
    "Shorter trees are preferred over longer ones. Trees that place high information gain attributes close to the root are preferred over those that do not."
   ]
  },
  {
   "cell_type": "markdown",
   "id": "5830b034",
   "metadata": {},
   "source": [
    "##### 14. What are some of the benefits of the kNN algorithm ?"
   ]
  },
  {
   "cell_type": "markdown",
   "id": "90a19b86",
   "metadata": {},
   "source": [
    "**Ans:** Some Advantages of KNN are:\n",
    "- Quick calculation time.\n",
    "- Simple algorithm – to interpret.\n",
    "- Versatile – useful for regression and classification.\n",
    "- High accuracy – you do not need to compare with better-supervised learning models."
   ]
  },
  {
   "cell_type": "markdown",
   "id": "00d2525e",
   "metadata": {},
   "source": [
    "##### 15. What are some of the kNN algorithm's drawbacks ?"
   ]
  },
  {
   "cell_type": "markdown",
   "id": "f2db68b8",
   "metadata": {},
   "source": [
    "**Ans:** Some Disadvantages of KNN are:\n",
    "- Accuracy depends on the quality of the data.\n",
    "- With large data, the prediction stage might be slow.\n",
    "- Sensitive to the scale of the data and irrelevant features.\n",
    "- Require high memory – need to store all of the training data.\n",
    "- Given that it stores all of the training, it can be computationally expensive."
   ]
  },
  {
   "cell_type": "markdown",
   "id": "abb583d7",
   "metadata": {},
   "source": [
    "##### 16. Explain the decision tree algorithm in a few words ?"
   ]
  },
  {
   "cell_type": "markdown",
   "id": "3590b9e3",
   "metadata": {},
   "source": [
    "**Ans:** A decision tree is a graphical representation of all the possible solutions to a decision based on certain conditions. Tree models where the target variable can take a finite set of values are called classification trees and target variable can take continuous values (numbers) are called regression trees."
   ]
  },
  {
   "cell_type": "markdown",
   "id": "3a7bb76f",
   "metadata": {},
   "source": [
    "##### 17. What is the difference between a node and a leaf in a decision tree ?"
   ]
  },
  {
   "cell_type": "markdown",
   "id": "2b066b40",
   "metadata": {},
   "source": [
    "**Ans:** A decision tree is a flowchart-like structure in which each internal node represents a \"test\" on an attribute  (e.g. whether a coin flip comes up heads or tails), each branch represents the outcome of the test, and each leaf node represents a class label (decision taken after computing all attributes)."
   ]
  },
  {
   "cell_type": "markdown",
   "id": "d75f2f0e",
   "metadata": {},
   "source": [
    "##### 18. What is a decision tree's entropy ?"
   ]
  },
  {
   "cell_type": "markdown",
   "id": "a16c4feb",
   "metadata": {},
   "source": [
    "**Ans:** Entropy helps us to build an appropriate decision tree for selecting the best splitter. Entropy can be defined as a measure of the purity of the sub split. Entropy always lies between 0 to 1. The entropy of any split can be calculate by this formula."
   ]
  },
  {
   "cell_type": "markdown",
   "id": "8dcb9419",
   "metadata": {},
   "source": [
    "##### 19. In a decision tree, define knowledge gain ?"
   ]
  },
  {
   "cell_type": "markdown",
   "id": "c6734f8f",
   "metadata": {},
   "source": [
    "**Ans:** Information gain is the reduction in entropy or surprise by transforming a dataset and is often used in training decision trees.Information gain is calculated by comparing the entropy of the dataset before and after a transformation."
   ]
  },
  {
   "cell_type": "markdown",
   "id": "69a6ac5d",
   "metadata": {},
   "source": [
    "##### 20. Choose three advantages of the decision tree approach and write them down ?"
   ]
  },
  {
   "cell_type": "markdown",
   "id": "17a727a3",
   "metadata": {},
   "source": [
    "**Ans:**  Advantages of Decision Trees : \n",
    "- Easy to read and interpret. One of the advantages of decision trees is that their outputs are easy to read and interpret without requiring statistical knowledge.\n",
    "- Easy to prepare.\n",
    "- Less data cleaning required."
   ]
  },
  {
   "cell_type": "markdown",
   "id": "093ca2a6",
   "metadata": {},
   "source": [
    "##### 21. Make a list of three flaws in the decision tree process ?"
   ]
  },
  {
   "cell_type": "markdown",
   "id": "c10f88d4",
   "metadata": {},
   "source": [
    "**Ans:** \n",
    " Three flaws in the decision tree process:- \n",
    "\n",
    "1. **Overfitting:**\n",
    "   - Decision trees can be prone to overfitting, especially when they become too complex. Overfitting occurs when a tree captures noise or specific patterns in the training data that may not generalize well to new, unseen data. This can lead to poor performance on the test set.\n",
    "\n",
    "2. **Instability to Small Variations:**\n",
    "   - Decision trees are sensitive to small variations in the training data. A slight change in the data or the addition/removal of a few data points may result in a significantly different tree structure. This instability can make decision trees less robust and more susceptible to variations in the dataset.\n",
    "\n",
    "3. **Bias Towards Dominant Classes:**\n",
    "   - In scenarios where one class significantly dominates the others in the dataset (class imbalance), decision trees may exhibit a bias towards the dominant class. The algorithm tends to make predictions in favor of the majority class, potentially neglecting the minority class and leading to suboptimal performance for the underrepresented class.\n"
   ]
  },
  {
   "cell_type": "markdown",
   "id": "b0d80780",
   "metadata": {},
   "source": [
    "##### 22. Briefly describe the random forest model ?"
   ]
  },
  {
   "cell_type": "markdown",
   "id": "f5468db2",
   "metadata": {},
   "source": [
    "**Ans:** Random Forest is an ensemble learning technique that combines the predictions of multiple decision trees to enhance accuracy and robustness. It involves constructing independent decision trees through randomization techniques like bootstrap sampling and feature selection. During prediction, each tree contributes to the outcome, and the final prediction is determined by a majority vote (for classification) or averaging (for regression). Random Forest is known for its robustness, generalization ability, and efficiency in handling large datasets. It is widely used across various domains and provides insights into feature importance."
   ]
  }
 ],
 "metadata": {
  "kernelspec": {
   "display_name": "Python 3 (ipykernel)",
   "language": "python",
   "name": "python3"
  },
  "language_info": {
   "codemirror_mode": {
    "name": "ipython",
    "version": 3
   },
   "file_extension": ".py",
   "mimetype": "text/x-python",
   "name": "python",
   "nbconvert_exporter": "python",
   "pygments_lexer": "ipython3",
   "version": "3.10.9"
  }
 },
 "nbformat": 4,
 "nbformat_minor": 5
}
