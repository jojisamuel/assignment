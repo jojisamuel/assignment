{
 "cells": [
  {
   "cell_type": "markdown",
   "id": "b2aa57f2",
   "metadata": {},
   "source": [
    "# Assignment 13 Solutions"
   ]
  },
  {
   "cell_type": "markdown",
   "id": "111120c6",
   "metadata": {},
   "source": [
    "#### 1. Provide an example of the concepts of Prior, Posterior, and Likelihood ?"
   ]
  },
  {
   "cell_type": "markdown",
   "id": "0c431899",
   "metadata": {},
   "source": [
    "**Ans** In the context of medical testing for a rare disease:\n",
    "\n",
    "    Prior Probability (P(D)): This is the initial likelihood of having the disease before considering any new information. It is based on the prevalence of the disease in the population.\n",
    "\n",
    "    Likelihood (P(T|D)): This represents the probability of obtaining a specific test result given the actual presence of the disease. It considers both true positive and true negative rates.\n",
    "\n",
    "    Posterior Probability (P(D|T)): This is the updated probability of having the disease after taking the test result into account. It is calculated using Bayes' Theorem, considering the prior probability, likelihood, and the probability of obtaining the test result."
   ]
  },
  {
   "cell_type": "markdown",
   "id": "4ae857d4",
   "metadata": {},
   "source": [
    "##### 2. What role does Bayes' theorem play in the concept learning principle ?"
   ]
  },
  {
   "cell_type": "markdown",
   "id": "f1d4ec53",
   "metadata": {},
   "source": [
    "**Ans** In the concept learning principle, Bayes' theorem is pivotal for updating beliefs in hypotheses. It involves:\n",
    "\n",
    "    Prior Probability (Prior): Initial belief in a hypothesis.\n",
    "    Likelihood: Probability of observed evidence given the hypothesis.\n",
    "    Posterior Probability (Posterior): Updated belief after considering new evidence.\n",
    "\n",
    "Bayes' theorem mathematically formalizes this update process, allowing for iterative refinement of hypotheses as new data is incorporated. This aligns with the concept learning principle, where beliefs about concepts are adjusted based on observed evidence, promoting more accurate understanding over time."
   ]
  },
  {
   "cell_type": "markdown",
   "id": "c981ac1e",
   "metadata": {},
   "source": [
    "##### 3. Offer an example of how the Nave Bayes classifier is used in real life ?"
   ]
  },
  {
   "cell_type": "markdown",
   "id": "56039e82",
   "metadata": {},
   "source": [
    "**Ans** The Naive Bayes classifier is commonly used in real life for tasks such as email spam filtering. In this application:\n",
    "\n",
    "    Data Collection: Gather a labeled dataset of spam and non-spam emails.\n",
    "\n",
    "    Feature Extraction: Extract relevant features, like word frequencies, from the emails.\n",
    "\n",
    "    Training the Classifier: Use the dataset to train the Naive Bayes classifier, which learns the probability distribution of features for spam and non-spam emails.\n",
    "\n",
    "    Testing and Classification: Apply the trained classifier to new emails, calculating the probability of spam based on observed features and classifying emails accordingly.\n",
    "\n",
    "    Iterative Refinement: Continuously refine the model based on user feedback and additional data to improve its accuracy over time."
   ]
  },
  {
   "cell_type": "markdown",
   "id": "07ab2a64",
   "metadata": {},
   "source": [
    "##### 4. Can the Nave Bayes classifier be used on continuous numeric data? If so, how can you go about doing it ?"
   ]
  },
  {
   "cell_type": "markdown",
   "id": "4b9cddb4",
   "metadata": {},
   "source": [
    "**Ans:** The Gaussian Naive Bayes classifier is a variation of the Naive Bayes algorithm designed for handling continuous numeric data. Here's a summary of the key steps:\n",
    "\n",
    "    Assumption of Normal Distribution:\n",
    "        Assume that the continuous features follow a Gaussian (normal) distribution.\n",
    "\n",
    "    Calculate Mean and Variance:\n",
    "        For each class, compute the mean (μμ) and variance (σ2σ2) of each feature in the training set.\n",
    "\n",
    "    Probability Density Function (PDF):\n",
    "        Use the Gaussian distribution parameters to calculate the probability density function (PDF) for each feature within each class.\n",
    "\n",
    "    Bayes' Theorem:\n",
    "        Apply Bayes' theorem to calculate the posterior probability of each class given the observed feature values, combining probabilities across all features.\n",
    "\n",
    "    Decision Rule:\n",
    "        Classify the new data point into the class with the highest posterior probability."
   ]
  },
  {
   "cell_type": "markdown",
   "id": "0be2162e",
   "metadata": {},
   "source": [
    "##### 5. What are Bayesian Belief Networks, and how do they work? What are their applications? Are they capable of resolving a wide range of issues ?"
   ]
  },
  {
   "cell_type": "markdown",
   "id": "e579396a",
   "metadata": {},
   "source": [
    "**Ans:** Bayesian Belief Networks (BBNs) are probabilistic graphical models that use directed acyclic graphs to represent and model the probabilistic relationships among variables. They work by propagating probabilities through the graph, allowing for efficient inference and decision-making under uncertainty. BBNs find applications in medical diagnosis, risk assessment, finance, fault diagnosis, natural language processing, and environmental modeling. While they are flexible and powerful, their effectiveness depends on accurate modeling and knowledge elicitation."
   ]
  },
  {
   "cell_type": "markdown",
   "id": "a96163dd",
   "metadata": {},
   "source": [
    "##### 6. Passengers are checked in an airport screening system to see if there is an intruder. Let I be the random variable that indicates whether someone is an intruder I = 1) or not I = 0), and A be the variable that indicates alarm I = 0). If an intruder is detected with probability P(A = 1|I = 1) = 0.98 and a non-intruder is detected with probability P(A = 1|I = 0) = 0.001, an alarm will be triggered, implying the error factor. The likelihood of an intruder in the passenger population is P(I = 1) = 0.00001. What are the chances that an alarm would be triggered when an individual is actually an intruder ?"
   ]
  },
  {
   "cell_type": "markdown",
   "id": "ed9c56cc",
   "metadata": {},
   "source": [
    "**Ans:** \n",
    "\n",
    "P(A = 1|I = 1) = 0.98\n",
    "\n",
    "P(A = 1|I = 0) = 0.001\n",
    "\n",
    "P(I = 1) = 0.00001\n",
    "\n",
    "P(I=1|A=1) = P(A=1|I= 1)P(I=1)/(P(A=1|I=1)P(I=1)+P(A=1|I=0)*P(T=0))\n",
    "\n",
    "Or,\n",
    "\n",
    "0.98000001/(0.98000001+0.001*(1−0.00001))\n",
    "\n",
    "which comes out as 0.0097.\n"
   ]
  },
  {
   "cell_type": "markdown",
   "id": "6b3b649e",
   "metadata": {},
   "source": [
    "##### 7. An antibiotic resistance test (random variable T) has 1% false positives (i.e., 1% of those who are not immune to an antibiotic display a positive result in the test) and 5% false negatives (i.e., 1% of those who are not resistant to an antibiotic show a positive result in the test) (i.e. 5 percent of those actually resistant to an antibiotic test negative). Assume that 2% of those who were screened were antibiotic-resistant. Calculate the likelihood that a person who tests positive is actually immune (random variable D) ?"
   ]
  },
  {
   "cell_type": "markdown",
   "id": "5b1f099b",
   "metadata": {},
   "source": [
    "**Ans:** \n",
    "\n",
    "\n",
    "P(Antibiotic resistant) = 0.02\n",
    "\n",
    "P(Not antibiotic resistant) = 0.98\n",
    "\n",
    "P(Test resulted positive| Not Antibiotic resistant) = 0.01\n",
    "\n",
    "P(Test resulted negative| Antibiotic resistant) = 0.05\n",
    "\n",
    "For P(Antibiotic resistant| Test resulted positive)\n",
    "\n",
    "P(Test resulted positive| Antibiotic resistant)P(Antibiotic resistant)/(P(Test resulted positive| Antibiotic resistant)P(Antibiotic resistant)+P(Test resulted positive| Not Antibiotic resistant)P(Not antibiotic resistant))\n",
    "\n",
    "(1-0.05)0.02/((1-0.05)0.02 + 0.01*0.98)\n",
    "\n",
    "which comes out to be 0.6597"
   ]
  },
  {
   "cell_type": "markdown",
   "id": "54020cf8",
   "metadata": {},
   "source": [
    "##### 8. In order to prepare for the test, a student knows that there will be one question in the exam that is either form A, B, or C. The chances of getting an A, B, or C on the exam are 30 percent, 20%, and 50 percent, respectively. During the planning, the student solved 9 of 10 type A problems, 2 of 10 type B problems, and 6 of 10 type C problems.\n",
    "1. What is the likelihood that the student can solve the exam problem?\n",
    "2. Given the student's solution, what is the likelihood that the problem was of form A?"
   ]
  },
  {
   "cell_type": "markdown",
   "id": "abfe79fb",
   "metadata": {},
   "source": [
    "**Ans:** \n",
    "P(A) = 0.3\n",
    "\n",
    "P(B) = 0.2\n",
    "\n",
    "P(C) = 0.5\n",
    "\n",
    "P(Student solved| problem A) = 0.9\n",
    "\n",
    "P(Student solved| problem B) = 0.2\n",
    "\n",
    "P(Student solved| problem C) = 0.6\n",
    "\n",
    "For P(Student solved problem),\n",
    "\n",
    "P(Student solved| problem A)P(A)+P(Student solved| problem B)P(B)+P(Student solved| problem C)P(C)\n",
    "\n",
    "0.90.3+0.20.2+0.6*0.5\n",
    "\n",
    "which comes out as 0.61\n",
    "\n",
    "    Given the student's solution, what is the likelihood that the problem was of form A?\n",
    "\n",
    "For, P(Problem was A| given it was solved)\n",
    "\n",
    "P(Student solved| problem A)P(A)/(P(Student solved problem))\n",
    "\n",
    "0.9*0.3/(0.61)\n",
    "\n",
    "which is 0.427"
   ]
  },
  {
   "cell_type": "markdown",
   "id": "9db681d1",
   "metadata": {},
   "source": [
    "##### 9. A bank installs a CCTV system to track and photograph incoming customers. Despite the constant influx of customers, we divide the timeline into 5 minute bins. There may be a customer coming into the bank with a 5% chance in each 5-minute time period, or there may be no customer (again, for simplicity, we assume that either there is 1 customer or none, not the case of multiple customers). If there is a client, the CCTV will detect them with a 99 percent probability. If there is no customer, the camera can take a false photograph with a 10% chance of detecting movement from other objects.\n",
    "1. How many customers come into the bank on a daily basis (10 hours)?\n",
    "2. On a daily basis, how many fake photographs (photographs taken when there is no customer) and how many missed photographs (photographs taken when there is a customer) are there?\n",
    "3. Explain likelihood that there is a customer if there is a photograph?"
   ]
  },
  {
   "cell_type": "markdown",
   "id": "7834f75c",
   "metadata": {},
   "source": [
    "**Ans:** \n",
    "\n",
    "\n",
    "   1.How many customers come into the bank on a daily basis (10 hours)?\n",
    "\n",
    "\n",
    "P(Customer coming into the bank in each 5-minute time period) = 0.05 Since each hour has 12 5-minute time period, then there will be a total of 10*12 = 120 5-min time periods per day.\n",
    "\n",
    "Therefore, 120*0.05 = 6 customers can come into the bank on a daily basis.\n",
    "\n",
    "    On a daily basis, how many fake photographs (photographs taken when there is no customer) and how many missed photographs (photographs taken when there is a customer) are there?\n",
    "\n",
    "Given,\n",
    "\n",
    "P(If there is no customer, the camera takes a false photograph) = 0.1\n",
    "\n",
    "P(If there is a client, the CCTV will detect them) = 0.99\n",
    "\n",
    "For fake photographs,\n",
    "\n",
    "(120 - 6)*0.1 = 11.4 or 11 fake photographs.\n",
    "\n",
    "For missed photographs,\n",
    "\n",
    "6*0.1 = 0.6 or 60% of the times.\n",
    "\n",
    "    Explain likelihood that there is a customer if there is a photograph?\n",
    "\n",
    "\n",
    "P(If there is a client, the CCTV will detect them) = 0.99\n",
    "\n",
    "P(Customer) = 0.05\n",
    "\n",
    "For, P(Customer is there| Photo is taken)\n",
    "\n",
    "0.990.05/((0.990.5)+0.1(1-0.05))\n",
    "\n",
    "which is 0.34"
   ]
  },
  {
   "cell_type": "markdown",
   "id": "5b686929",
   "metadata": {},
   "source": [
    "##### 10. Create the conditional probability table associated with the node Won Toss in the Bayesian Belief network to represent the conditional independence assumptions of the Nave Bayes classifier for the match winning prediction problem in Section 6.4.4.?"
   ]
  },
  {
   "cell_type": "markdown",
   "id": "e829b94c",
   "metadata": {},
   "source": [
    "**Ans:** "
   ]
  },
  {
   "cell_type": "markdown",
   "id": "92193081",
   "metadata": {},
   "source": [
    "| Won Toss | Match Won | Probability |\n",
    "|----------|-----------|-------------|\n",
    "| Heads    | Win       | 0.6         |\n",
    "| Heads    | Lose      | 0.4         |\n",
    "| Tails    | Win       | 0.3         |\n",
    "| Tails    | Lose      | 0.7         |\n"
   ]
  }
 ],
 "metadata": {
  "kernelspec": {
   "display_name": "Python 3 (ipykernel)",
   "language": "python",
   "name": "python3"
  },
  "language_info": {
   "codemirror_mode": {
    "name": "ipython",
    "version": 3
   },
   "file_extension": ".py",
   "mimetype": "text/x-python",
   "name": "python",
   "nbconvert_exporter": "python",
   "pygments_lexer": "ipython3",
   "version": "3.10.9"
  }
 },
 "nbformat": 4,
 "nbformat_minor": 5
}
