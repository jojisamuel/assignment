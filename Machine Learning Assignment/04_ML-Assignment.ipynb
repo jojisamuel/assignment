{
 "cells": [
  {
   "cell_type": "markdown",
   "id": "b2aa57f2",
   "metadata": {},
   "source": [
    "# Assignment 04 Solutions"
   ]
  },
  {
   "cell_type": "markdown",
   "id": "5f4c3ef3",
   "metadata": {},
   "source": [
    "##### 1. What are the key tasks involved in getting ready to work with machine learning modeling ?"
   ]
  },
  {
   "cell_type": "markdown",
   "id": "c359b60e",
   "metadata": {},
   "source": [
    "Ans: The Key Tasks involved in getting ready to work with Machine learning Modelling are:\n",
    "1. Data collection: Defining the problem and assembling a dataset.\n",
    "2. Data preparation: Preparing your data.\n",
    "3. Choosing a Model\n",
    "4. Training the Model: Developing a model that does better than a baseline.\n",
    "5. Evaluating the Model: Choosing a measure of success. Deciding on an evaluation protocol.\n",
    "6. Parameter tuning: Scaling up: developing a model that overfits.Regularizing your model and tuning your parameters.\n",
    "7. Prediction or Inference."
   ]
  },
  {
   "cell_type": "markdown",
   "id": "0bdf36f2",
   "metadata": {},
   "source": [
    "##### 2. What are the different forms of data used in machine learning ? Give a specific example for each of them ?"
   ]
  },
  {
   "attachments": {},
   "cell_type": "markdown",
   "id": "0368a26d",
   "metadata": {},
   "source": [
    "**Ans:** **Forms of Data in Machine Learning:**\n",
    "\n",
    "1. **Structured Data:**\n",
    "   - **Example:** A database table of customer information with columns like 'Name,' 'Age,' and 'Purchase History.'\n",
    "\n",
    "2. **Unstructured Data:**\n",
    "   - **Example:** Text documents, images, or audio files without a predefined data model.\n",
    "\n",
    "3. **Semi-Structured Data:**\n",
    "   - **Example:** JSON or XML files that have a flexible structure with some level of organization.\n",
    "\n",
    "4. **Temporal Data:**\n",
    "   - **Example:** Time-series data, such as stock prices over days, with a chronological sequence.\n",
    "\n",
    "5. **Spatial Data:**\n",
    "   - **Example:** Geographic data, like maps or satellite images, incorporating location information.\n",
    "\n",
    "6. **Categorical Data:**\n",
    "   - **Example:** Gender, where categories are 'Male' and 'Female.'\n",
    "\n",
    "7. **Numerical Data:**\n",
    "   - **Example:** Sensor readings, financial values, or any data represented by numbers.\n",
    "\n",
    "8. **Text Data:**\n",
    "   - **Example:** Customer reviews, social media posts, or articles.\n",
    "\n",
    "9. **Image Data:**\n",
    "   - **Example:** Pixel values representing images in computer vision tasks.\n",
    "\n",
    "10. **Audio Data:**\n",
    "    - **Example:** Sound waveforms used in speech recognition or music analysis.\n"
   ]
  },
  {
   "cell_type": "markdown",
   "id": "8da3a03a",
   "metadata": {},
   "source": [
    "##### 3. Distinguish between :\n",
    "1. Numeric vs. categorical attributes\n",
    "2. Feature selection vs. dimensionality reduction"
   ]
  },
  {
   "cell_type": "markdown",
   "id": "9a4a0e93",
   "metadata": {},
   "source": [
    "**Ans:** The following are the differences between:\n",
    "\n",
    "**Numeric vs. Categorical Attributes:**\n",
    "\n",
    "1. **Numeric Attributes:**\n",
    "   - **Definition:** Represented by numerical values, usually continuous or discrete.\n",
    "   - **Example:** Age, income, temperature.\n",
    "   - **Characteristics:** Allow for mathematical operations like addition, subtraction, and averaging.\n",
    "\n",
    "2. **Categorical Attributes:**\n",
    "   - **Definition:** Represented by categories or labels without inherent numerical meaning.\n",
    "   - **Example:** Gender, color, city names.\n",
    "   - **Characteristics:** Often used to represent qualitative differences, and mathematical operations are not meaningful.\n",
    "\n",
    "---\n",
    "\n",
    "**Feature Selection vs. Dimensionality Reduction:**\n",
    "\n",
    "1. **Feature Selection:**\n",
    "   - **Definition:** Involves choosing a subset of relevant features from the original set.\n",
    "   - **Objective:** Improve model performance, reduce overfitting, and enhance interpretability.\n",
    "   - **Methods:** Filter methods, wrapper methods, and embedded methods.\n",
    "   - **Example:** Selecting the most important variables from a dataset.\n",
    "\n",
    "2. **Dimensionality Reduction:**\n",
    "   - **Definition:** Involves transforming the data into a lower-dimensional space.\n",
    "   - **Objective:** Address the curse of dimensionality, speed up learning algorithms, and visualize data.\n",
    "   - **Methods:** Principal Component Analysis (PCA), t-Distributed Stochastic Neighbor Embedding (t-SNE).\n",
    "   - **Example:** Reducing a dataset with numerous variables to a few principal components.\n"
   ]
  },
  {
   "cell_type": "markdown",
   "id": "416b863d",
   "metadata": {},
   "source": [
    "##### 4. Make quick notes on any two of the following ?\n",
    "1. The histogram\n",
    "2. Use a scatter plot\n",
    "3. PCA (Personal Computer Aid)"
   ]
  },
  {
   "cell_type": "markdown",
   "id": "0382f659",
   "metadata": {},
   "source": [
    "**Ans:**\n",
    "\n",
    "**The Histogram:**\n",
    "- **Definition:** A graphical representation of the distribution of a dataset. It divides data into bins and displays the frequency or probability of data falling into each bin.\n",
    "- **Use Cases:** Analyzing data distribution, identifying patterns, and detecting outliers.\n",
    "- **Components:** Bins (intervals), frequencies or probabilities, bars.\n",
    "- **Advantages:** Provides insights into data distribution, helps in identifying central tendency and spread.\n",
    "\n",
    "**Use a Scatter Plot:**\n",
    "- **Definition:** A two-dimensional data visualization that uses dots to represent individual data points. Each dot's position is determined by the values of two variables.\n",
    "- **Use Cases:** Visualizing relationships between two continuous variables, identifying patterns, and detecting outliers.\n",
    "- **Components:** Data points, x-axis, y-axis, possibly a trendline.\n",
    "- **Advantages:** Clearly displays relationships between variables, effective for identifying correlations or clusters.\n",
    "\n",
    "**PCA (Principal Component Analysis):**\n",
    "- **Definition:** A dimensionality reduction technique that transforms high-dimensional data into a lower-dimensional space by identifying principal components.\n",
    "- **Use Cases:** Reducing the number of variables, addressing multicollinearity, and preparing data for machine learning.\n",
    "- **Components:** Principal components, eigenvectors, eigenvalues.\n",
    "- **Advantages:** Simplifies complex data, retains important information, helps in visualization, and improves model efficiency.\n"
   ]
  },
  {
   "cell_type": "markdown",
   "id": "986de4b3",
   "metadata": {},
   "source": [
    "##### 5. Why is it necessary to investigate data? Is there a discrepancy in how qualitative and quantitative data are explored ?"
   ]
  },
  {
   "cell_type": "markdown",
   "id": "8234c6ef",
   "metadata": {},
   "source": [
    "**Ans:** Data investigation is crucial for understanding patterns, detecting outliers, ensuring data quality, and informing modeling decisions. Qualitative data exploration focuses on categorical attributes, utilizing techniques like frequency counts and bar charts to understand category distribution. Quantitative data exploration, dealing with numeric attributes, employs histograms, box plots, and scatter plots to analyze distribution characteristics, central tendency, and relationships. Despite differences in focus, both types benefit from summary statistics and visualizations for comprehensive analysis. The primary goal is to gain insights into the data's characteristics and guide subsequent analytical and modeling steps"
   ]
  },
  {
   "cell_type": "markdown",
   "id": "3d354a55",
   "metadata": {},
   "source": [
    "##### 6. What are the various histogram shapes? What exactly are ‘bins' ?"
   ]
  },
  {
   "cell_type": "markdown",
   "id": "32e38cf9",
   "metadata": {},
   "source": [
    "**Ans:** **Histogram Shapes:**\n",
    "\n",
    "1. **Normal (Gaussian) Distribution:**\n",
    "   - Symmetric bell-shaped curve, with data concentrated around the mean.\n",
    "\n",
    "2. **Skewed Right (Positively Skewed) Distribution:**\n",
    "   - Long tail extends to the right, indicating more values on the left side.\n",
    "\n",
    "3. **Skewed Left (Negatively Skewed) Distribution:**\n",
    "   - Long tail extends to the left, indicating more values on the right side.\n",
    "\n",
    "4. **Bimodal Distribution:**\n",
    "   - Two distinct peaks, suggesting two different groups or processes.\n",
    "\n",
    "5. **Uniform Distribution:**\n",
    "   - Flat and consistent, indicating an even distribution of values.\n",
    "\n",
    "**Bins:**\n",
    "Bins in a histogram are intervals or ranges into which the data is divided. The x-axis of the histogram represents these bins, and the y-axis represents the frequency or count of data points falling into each bin. Choosing an appropriate number of bins is essential for accurately representing the data's distribution. Too few bins can oversimplify, while too many bins can obscure underlying patterns."
   ]
  },
  {
   "cell_type": "markdown",
   "id": "e4b25fc0",
   "metadata": {},
   "source": [
    "##### 7. How do we deal with data outliers ?"
   ]
  },
  {
   "cell_type": "markdown",
   "id": "e682d8f5",
   "metadata": {},
   "source": [
    "**Ans:** ## Handling Data Outliers\n",
    "\n",
    "#### Detection:\n",
    "\n",
    "- **Statistical methods:** Identify outliers using metrics like z-scores, interquartile range (IQR), or boxplots.\n",
    "- **Visualization:** Explore unusual data points through scatterplots, histograms, or other visualizations.\n",
    "\n",
    "#### Handling:\n",
    "\n",
    "- **Removal:** Consider removing outliers if they are errors or irrelevant to the analysis.\n",
    "- **Transformation:** Cap or adjust extreme values to mitigate their impact on the model.\n",
    "- **Robust methods:** Use algorithms less sensitive to outliers, such as robust estimators or quantile regression.\n",
    "- **Imputation:** Replace outliers with imputed values based on other data points.\n",
    "- **Investigation:** Analyze outliers to understand their origin and potential impact on the model.\n",
    "\n",
    "#### Considerations:\n",
    "\n",
    "- **Context matters:** Outliers might provide valuable insights in specific situations.\n",
    "- **Balance information loss:** Removing or modifying outliers can lead to information loss.\n",
    "- **Impact on model performance:** Evaluate how different approaches affect the model's accuracy and generalizability.\n"
   ]
  },
  {
   "cell_type": "markdown",
   "id": "2a098bf0",
   "metadata": {},
   "source": [
    "##### 8. What are the various central inclination measures? Why does mean vary too much from median in certain data sets ?"
   ]
  },
  {
   "cell_type": "markdown",
   "id": "fb4c2905",
   "metadata": {},
   "source": [
    "**Ans:** `Mean`, `Median` and `Mode` are Central Inclination Measures. Mean varies more than Median due to presence of outliers, as mean is averaging all points while median in like finding a middle number. "
   ]
  },
  {
   "cell_type": "markdown",
   "id": "a8082d30",
   "metadata": {},
   "source": [
    "##### 9. Describe how a scatter plot can be used to investigate bivariate relationships. Is it possible to find outliers using a scatter plot ?"
   ]
  },
  {
   "cell_type": "markdown",
   "id": "86e13150",
   "metadata": {},
   "source": [
    "**Ans:** A `Scatter Plot` (aka scatter chart, scatter graph) uses dots to represent values for two different numeric variables. The position of each dot on the horizontal and vertical axis indicates values for an individual data point. So this visualization gives us the idea of bivariate relationship.\n",
    "\n",
    "Scatter plot can also help finding outliers as outliers can be visualized at farther distance than regular data. "
   ]
  },
  {
   "cell_type": "markdown",
   "id": "bbbf6ea5",
   "metadata": {},
   "source": [
    "##### 10. Describe how cross-tabs can be used to figure out how two variables are related ?"
   ]
  },
  {
   "cell_type": "markdown",
   "id": "6ec5c3cd",
   "metadata": {},
   "source": [
    "**Ans:** Cross-tabulation, or crosstab, is a valuable method for analyzing the relationship between two categorical variables. The process involves organizing data into a contingency table, examining the frequency distribution of each variable, creating a cross-tabulation table, and analyzing patterns. The conversion of counts into percentages or proportions allows for easier comparison, and the optional use of a chi-square test helps assess the significance of the relationship. Visualization and interpretation of the cross-tabulation results provide insights into the associations between the variables. "
   ]
  }
 ],
 "metadata": {
  "kernelspec": {
   "display_name": "Python 3 (ipykernel)",
   "language": "python",
   "name": "python3"
  },
  "language_info": {
   "codemirror_mode": {
    "name": "ipython",
    "version": 3
   },
   "file_extension": ".py",
   "mimetype": "text/x-python",
   "name": "python",
   "nbconvert_exporter": "python",
   "pygments_lexer": "ipython3",
   "version": "3.10.9"
  }
 },
 "nbformat": 4,
 "nbformat_minor": 5
}
