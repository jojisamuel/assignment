{
 "cells": [
  {
   "cell_type": "markdown",
   "id": "70c15c4b",
   "metadata": {},
   "source": [
    "# Assignment 7 Solutions"
   ]
  },
  {
   "cell_type": "markdown",
   "id": "b5b3b33c",
   "metadata": {},
   "source": [
    "### 1. Write a Python Program to find sum of Array ?"
   ]
  },
  {
   "cell_type": "code",
   "execution_count": 5,
   "id": "b7072377",
   "metadata": {},
   "outputs": [
    {
     "name": "stdout",
     "output_type": "stream",
     "text": [
      "Enter the Array: 1,2,3,4,5,6,7,8,9,0\n",
      "The sum of (1, 2, 3, 4, 5, 6, 7, 8, 9, 0) is 45\n"
     ]
    }
   ],
   "source": [
    "def sumOfArray():\n",
    "    arr = eval(input(\"Enter the Array: \"))\n",
    "    print(f'The sum of {arr} is {sum(arr)}')\n",
    "\n",
    "sumOfArray()"
   ]
  },
  {
   "cell_type": "markdown",
   "id": "f98a2d39",
   "metadata": {},
   "source": [
    "### 2. Write a Python Program to find Largest element in an Array ?"
   ]
  },
  {
   "cell_type": "code",
   "execution_count": 6,
   "id": "731a55dd",
   "metadata": {},
   "outputs": [
    {
     "name": "stdout",
     "output_type": "stream",
     "text": [
      "Enter the Array: 1,4,6,8,22,5,77,0,78\n",
      "The Largest Element in (1, 4, 6, 8, 22, 5, 77, 0, 78) is 78\n"
     ]
    }
   ],
   "source": [
    "def largestElement():\n",
    "    arr = eval(input(\"Enter the Array: \"))\n",
    "    print(f\"The Largest Element in {arr} is {sorted(arr, reverse=True)[0]}\")\n",
    "    \n",
    "largestElement()"
   ]
  },
  {
   "cell_type": "markdown",
   "id": "9199197d",
   "metadata": {},
   "source": [
    "### 3. Write a Python Program for array rotation ?"
   ]
  },
  {
   "cell_type": "code",
   "execution_count": 8,
   "id": "805faaa4",
   "metadata": {},
   "outputs": [
    {
     "name": "stdout",
     "output_type": "stream",
     "text": [
      "Enter the Array: 1,4,2,5,7,89,6,5\n",
      "The Reverse of Array (1, 4, 2, 5, 7, 89, 6, 5) is (5, 6, 89, 7, 5, 2, 4, 1)\n"
     ]
    }
   ],
   "source": [
    "def reverseOfArray():\n",
    "    arr = eval(input(\"Enter the Array: \"))\n",
    "    print(f\"The Reverse of Array {arr} is {arr[::-1]}\")\n",
    "    \n",
    "reverseOfArray()"
   ]
  },
  {
   "cell_type": "markdown",
   "id": "370efdc0",
   "metadata": {},
   "source": [
    "### 4. Write a Python Program to Split the array and add the first part to the end ?"
   ]
  },
  {
   "cell_type": "code",
   "execution_count": 9,
   "id": "710ff5d0",
   "metadata": {},
   "outputs": [
    {
     "name": "stdout",
     "output_type": "stream",
     "text": [
      "Enter the Array: 11,22,44,65,67,9\n",
      "The Sum of First and Last Elements of Array (11, 22, 44, 65, 67, 9) is 20\n"
     ]
    }
   ],
   "source": [
    "def sumOfSplits():\n",
    "    arr = eval(input(\"Enter the Array: \"))\n",
    "    print(f\"The Sum of First and Last Elements of Array {arr} is {arr[0]+arr[-1]}\")\n",
    "    \n",
    "sumOfSplits()"
   ]
  },
  {
   "cell_type": "markdown",
   "id": "981f6407",
   "metadata": {},
   "source": [
    "### 5. Write a Python Program to check if given array is Monotonic ?"
   ]
  },
  {
   "cell_type": "code",
   "execution_count": 16,
   "id": "7a27a08c",
   "metadata": {},
   "outputs": [
    {
     "name": "stdout",
     "output_type": "stream",
     "text": [
      "Enter the Array: 1,2\n",
      "Array (1, 2) is Monotonic\n"
     ]
    }
   ],
   "source": [
    "def Monotonic():\n",
    "    arr = eval(input(\"Enter the Array: \"))\n",
    "    if(all(arr[i]<=arr[i+1] for i in range(len(arr)-1)) or all(arr[i]>=arr[i+1] for i in range(len(arr)-1))):\n",
    "        print(f'Array {arr} is Monotonic')\n",
    "    else:\n",
    "        print(f'Array {arr} is Not Monotonic')\n",
    "\n",
    "Monotonic()\n"
   ]
  },
  {
   "cell_type": "code",
   "execution_count": 17,
   "id": "fc173f23",
   "metadata": {},
   "outputs": [
    {
     "name": "stdout",
     "output_type": "stream",
     "text": [
      "Enter the Array: 2,3,4,1,5\n",
      "Array (2, 3, 4, 1, 5) is Not Monotonic\n"
     ]
    }
   ],
   "source": [
    "Monotonic()"
   ]
  },
  {
   "cell_type": "code",
   "execution_count": null,
   "id": "d82674a1",
   "metadata": {},
   "outputs": [],
   "source": []
  }
 ],
 "metadata": {
  "kernelspec": {
   "display_name": "Python 3 (ipykernel)",
   "language": "python",
   "name": "python3"
  },
  "language_info": {
   "codemirror_mode": {
    "name": "ipython",
    "version": 3
   },
   "file_extension": ".py",
   "mimetype": "text/x-python",
   "name": "python",
   "nbconvert_exporter": "python",
   "pygments_lexer": "ipython3",
   "version": "3.9.12"
  }
 },
 "nbformat": 4,
 "nbformat_minor": 5
}
