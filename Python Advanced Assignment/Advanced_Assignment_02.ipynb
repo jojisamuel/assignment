{
 "cells": [
  {
   "cell_type": "markdown",
   "id": "c352a0b6",
   "metadata": {},
   "source": [
    "# Assignment 02 Solutions"
   ]
  },
  {
   "cell_type": "markdown",
   "id": "7b95cf74",
   "metadata": {},
   "source": [
    "#### Q1. What is the relationship between classes and modules?\n",
    "**Ans:** Classes in python act as a blueprint based on which objects are created. Objects are the very basis for object-oriented programming. The objects are the real-world entities, and class acts as a template that defines those objects. \n",
    "\n",
    "Modules in Python are files with a .py extension using which we can reuse elements inside that file. When we create a python program, the program may contain inside it functions, variables, and even classes. \n",
    "\n",
    "In summary, classes and modules are related in that classes can be defined within a module, and modules can be used to group related classes and provide a namespace for them."
   ]
  },
  {
   "cell_type": "markdown",
   "id": "11f0e6f8",
   "metadata": {},
   "source": [
    "#### Q2. How do you make instances and classes?\n",
    "**Ans:**  We can create instances of a class by calling the class name as if it were a function. When you create an instance of a class, you are creating a new object that is an instance of that class."
   ]
  },
  {
   "cell_type": "code",
   "execution_count": 1,
   "id": "967fd903",
   "metadata": {},
   "outputs": [],
   "source": [
    "class Car:\n",
    "    def __init__(self, make, model, year):\n",
    "        self.make = make\n",
    "        self.model = model\n",
    "        self.year = year\n",
    "\n",
    "my_car = Car(\"Maruti\", \"Swift\", 2023)\n"
   ]
  },
  {
   "cell_type": "markdown",
   "id": "f44933e7",
   "metadata": {},
   "source": [
    "#### Q3. Where and how should be class attributes created?\n",
    "**Ans:**  class attributes should be created inside the class definition, but outside of any methods. They can be accessed and modified using the class name, and are shared by all instances of the class"
   ]
  },
  {
   "cell_type": "code",
   "execution_count": 1,
   "id": "62ea5a78",
   "metadata": {},
   "outputs": [],
   "source": [
    "class Car:\n",
    "    num_wheels = 4\n",
    "    \n",
    "    def __init__(self, make, model, year):\n",
    "        self.make = make\n",
    "        self.model = model\n",
    "        self.year = year \n"
   ]
  },
  {
   "cell_type": "code",
   "execution_count": 5,
   "id": "4e1538a9",
   "metadata": {},
   "outputs": [
    {
     "name": "stdout",
     "output_type": "stream",
     "text": [
      "4\n"
     ]
    }
   ],
   "source": [
    "#class attribute num_wheels set to 4.\n",
    "#This attribute is shared by all instances of the class, and can be accessed using the class name\n",
    "\n",
    "print(Car.num_wheels) "
   ]
  },
  {
   "cell_type": "code",
   "execution_count": 6,
   "id": "7e6c8975",
   "metadata": {},
   "outputs": [
    {
     "name": "stdout",
     "output_type": "stream",
     "text": [
      "4\n"
     ]
    }
   ],
   "source": [
    "# Class attributes can also be accessed through an instance of the class:\n",
    "my_car = Car(\"Maruti\", \"Swift\", 2023)\n",
    "print(my_car.num_wheels)  # Output: 4"
   ]
  },
  {
   "cell_type": "code",
   "execution_count": 7,
   "id": "e8aa8727",
   "metadata": {},
   "outputs": [
    {
     "name": "stdout",
     "output_type": "stream",
     "text": [
      "6\n"
     ]
    }
   ],
   "source": [
    "# We can also modify the value of a class attribute using the class name:\n",
    "Car.num_wheels = 6\n",
    "print(Car.num_wheels)  # Output: 6"
   ]
  },
  {
   "cell_type": "markdown",
   "id": "33762624",
   "metadata": {},
   "source": [
    "#### Q4. Where and how are instance attributes created?\n",
    "**Ans:** Instance attributes are created inside the __init__ method of a class. The __init__ method is a special method in Python that is called when a new instance of the class is created. It takes self as the first parameter, which refers to the instance being created, and then you can define additional parameters to initialize the instance's attributes."
   ]
  },
  {
   "cell_type": "code",
   "execution_count": 11,
   "id": "24b8142b",
   "metadata": {},
   "outputs": [],
   "source": [
    "class Car:\n",
    "    def __init__(self, make, model, year):\n",
    "        self.make = make\n",
    "        self.model = model\n",
    "        self.year = year"
   ]
  },
  {
   "cell_type": "code",
   "execution_count": 12,
   "id": "9ffe9296",
   "metadata": {},
   "outputs": [],
   "source": [
    "# To create an instance of the Car class and initialize its attributes,\n",
    "my_car = Car(\"Tata\", \"Nexon\", 2021)"
   ]
  },
  {
   "cell_type": "code",
   "execution_count": 13,
   "id": "b18d99f2",
   "metadata": {},
   "outputs": [
    {
     "name": "stdout",
     "output_type": "stream",
     "text": [
      "Tata\n",
      "Nexon\n",
      "2021\n"
     ]
    }
   ],
   "source": [
    "# Access the instance attributes using dot notation:\n",
    "print(my_car.make)\n",
    "print(my_car.model)\n",
    "print(my_car.year)"
   ]
  },
  {
   "cell_type": "markdown",
   "id": "9d8bf19c",
   "metadata": {},
   "source": [
    "#### Q5. What does the term \"self\" in a Python class mean?\n",
    "**Ans:** In Python, the term \"self\" is a convention used within a class to refer to the instance of the class itself. It is the first parameter of class methods and instance methods.The \"self\" parameter allows you to access and manipulate the instance attributes and methods of the class. It is automatically passed when you call a method on an instance of the class. Using \"self\" helps differentiate between instance attributes and local variables within a method."
   ]
  },
  {
   "cell_type": "markdown",
   "id": "7e4be347",
   "metadata": {},
   "source": [
    "#### Q6. How does a Python class handle operator overloading?\n",
    "**Ans:** In Python, operator overloading allows you to define the behavior of built-in operators such as +, -, *, /, and many others for objects of a custom class. By overloading operators, you can specify how instances of your class should behave when operated with these operators.\n",
    "To overload an operator in a Python class, you need to define special methods with predefined names. These methods are called \"magic\" or \"dunder\" (double underscore) methods. They are special because they start and end with double underscores.\n",
    "\n",
    "Some commonly used dunder methods for operator overloading:\n",
    "\n",
    "    __add__(self, other): Overloads the + operator.\n",
    "    __sub__(self, other): Overloads the - operator.\n",
    "    __mul__(self, other): Overloads the * operator.\n",
    "    __div__(self, other): Overloads the / operator.\n",
    "    __eq__(self, other): Overloads the == operator for equality comparison.\n",
    "    __lt__(self, other): Overloads the < operator for less than comparison."
   ]
  },
  {
   "cell_type": "code",
   "execution_count": 15,
   "id": "61064820",
   "metadata": {},
   "outputs": [
    {
     "name": "stdout",
     "output_type": "stream",
     "text": [
      "35\n"
     ]
    }
   ],
   "source": [
    "class MyNum:\n",
    "    def __init__(self, value):\n",
    "        self.value = value\n",
    "    \n",
    "    def __add__(self, other):\n",
    "        return self.value + other.value\n",
    "\n",
    "num1 = MyNum(15)\n",
    "num2 = MyNum(20)\n",
    "\n",
    "result = num1 + num2  # Calls the __add__ method\n",
    "print(result)  \n"
   ]
  },
  {
   "cell_type": "markdown",
   "id": "1b3ce3c5",
   "metadata": {},
   "source": [
    "#### Q7. When do you consider allowing operator overloading of your classes?\n",
    "**Ans:** Operator overloading in classes should be considered when it enhances the readability, expressiveness, and intuitiveness of your code. It is beneficial when there is a clear conceptual mapping between the operators and the behavior you want to define for your class. It simplifies code, improves readability, and aligns with familiar syntax and conventions."
   ]
  },
  {
   "cell_type": "markdown",
   "id": "d962a063",
   "metadata": {},
   "source": [
    "#### Q8. What is the most popular form of operator overloading?\n",
    "**Ans:** The most popular form of operator overloading in Python is the overloading of arithmetic operators such as +, -, *, and /. This allows objects of a custom class to participate in arithmetic operations as if they were built-in numeric types. Overloading these operators is commonly used when working with classes representing mathematical concepts or objects that can be manipulated using arithmetic operations."
   ]
  },
  {
   "cell_type": "code",
   "execution_count": 19,
   "id": "04ef2397",
   "metadata": {},
   "outputs": [
    {
     "name": "stdout",
     "output_type": "stream",
     "text": [
      "(6, 8)\n",
      "(2, 2)\n"
     ]
    }
   ],
   "source": [
    "class Vector:\n",
    "    def __init__(self, x, y):\n",
    "        self.x = x\n",
    "        self.y = y\n",
    "    \n",
    "    def __add__(self, other):\n",
    "        return Vector(self.x + other.x, self.y + other.y)\n",
    "    \n",
    "    def __sub__(self, other):\n",
    "        return Vector(self.x - other.x, self.y - other.y)\n",
    "    \n",
    "    def __str__(self):\n",
    "        return f\"({self.x}, {self.y})\"\n",
    "\n",
    "# Create vector instances\n",
    "v1 = Vector(2, 3)\n",
    "v2 = Vector(4, 5)\n",
    "\n",
    "# Addition\n",
    "v3 = v1 + v2\n",
    "print(v3)  # Output: (6, 8)\n",
    "\n",
    "# Subtraction\n",
    "v4 = v2 - v1\n",
    "print(v4)  # Output: (2, 2)"
   ]
  },
  {
   "cell_type": "markdown",
   "id": "50cd8d56",
   "metadata": {},
   "source": [
    "#### Q9. What are the two most important concepts to grasp in order to comprehend Python OOP code?\n",
    "**Ans:** The two most important concepts to grasp in order to comprehend Python Object-Oriented Programming (OOP) code are:\n",
    "\n",
    "    Classes: A class is a blueprint that defines the attributes (variables) and methods (functions) that objects of the class will possess. Classes serve as templates for creating objects, allowing you to encapsulate data and behavior into reusable structures. \n",
    "\n",
    "    Objects and Instances: Objects are instances of a class. When we create an object using a class, we are creating a unique instance with its own set of attributes and methods. Objects hold data and have the ability to perform actions defined by the class's methods. "
   ]
  },
  {
   "cell_type": "code",
   "execution_count": null,
   "id": "08058084",
   "metadata": {},
   "outputs": [],
   "source": []
  }
 ],
 "metadata": {
  "kernelspec": {
   "display_name": "Python 3 (ipykernel)",
   "language": "python",
   "name": "python3"
  },
  "language_info": {
   "codemirror_mode": {
    "name": "ipython",
    "version": 3
   },
   "file_extension": ".py",
   "mimetype": "text/x-python",
   "name": "python",
   "nbconvert_exporter": "python",
   "pygments_lexer": "ipython3",
   "version": "3.10.9"
  }
 },
 "nbformat": 4,
 "nbformat_minor": 5
}
