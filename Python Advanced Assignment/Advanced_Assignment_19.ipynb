{
 "cells": [
  {
   "cell_type": "markdown",
   "id": "cc53963e",
   "metadata": {},
   "source": [
    "# Assignment 19 Solutions"
   ]
  },
  {
   "cell_type": "markdown",
   "id": "20fe32ca",
   "metadata": {},
   "source": [
    "#### Q1. Define the relationship between a class and its instances. Is it a one-to-one or a one-to-many partnership, for example?\n",
    "**Ans:** The relationship between a class and its instances can be described as a one-to-many relationship, where one class can have multiple instances associated with it. Each instance maintains its own state and behavior, allowing for modularity, encapsulation, and the ability to create and manage multiple objects based on a single class definition."
   ]
  },
  {
   "cell_type": "markdown",
   "id": "a3998f76",
   "metadata": {},
   "source": [
    "#### Q2. What kind of data is held only in an instance?\n",
    "**Ans:** Data held only in an instance of a class is typically referred to as instance data or instance variables. These are specific to each individual instance and hold unique values for each instance. Instance data represents the state or attributes associated with an object."
   ]
  },
  {
   "cell_type": "markdown",
   "id": "3bc4acfe",
   "metadata": {},
   "source": [
    "#### Q3. What kind of knowledge is stored in a class?\n",
    "**Ans:** The knowledge that is stored in a class represents the blueprint or template for creating objects, defining their attributes, behavior, relationships, and the operations they can perform. It provides a way to encapsulate and organize related data and functionality, promoting code reuse, modularity, and maintainability."
   ]
  },
  {
   "cell_type": "markdown",
   "id": "d6c2ef9c",
   "metadata": {},
   "source": [
    "#### Q4. What exactly is a method, and how is it different from a regular function?\n",
    "**Ans:** A method is a function associated with a class or object in object-oriented programming. It represents the behavior or actions that an object can perform. Methods are defined within a class and can access and manipulate the object's state. They are invoked using dot notation and have access to the object's internal data through the self parameter. Methods support inheritance, allowing subclasses to inherit and override or extend their behavior. They enable encapsulation, code reuse, and polymorphism. In contrast, regular functions are not tied to a specific class or object and do not have access to object state unless explicitly passed as arguments."
   ]
  },
  {
   "cell_type": "markdown",
   "id": "471e1689",
   "metadata": {},
   "source": [
    "#### Q5. Is inheritance supported in Python, and if so, what is the syntax?\n",
    "**Ans:** Yes,Python supports inheritance. The Types of Inheritence Supported by Python are:\n",
    "1. Simple Inheritence\n",
    "2. Multiple Inheritence\n",
    "3. Multilevel lInheritence\n",
    "4. Hybrid Inheritence\n",
    "5. Hierracial Inheritence"
   ]
  },
  {
   "cell_type": "code",
   "execution_count": 1,
   "id": "63b31180",
   "metadata": {},
   "outputs": [],
   "source": [
    "class Person:\n",
    "    def __init__(self, fname, lname):\n",
    "        self.first_name = fname\n",
    "        self.last_name = lname\n",
    "class Student(Person):\n",
    "    pass"
   ]
  },
  {
   "cell_type": "markdown",
   "id": "1f2a9517",
   "metadata": {},
   "source": [
    "#### Q6. How much encapsulation (making instance or class variables private) does Python support?\n",
    "**Ans:** Python supports a limited level of encapsulation through the use of naming conventions and name mangling, but it does not enforce strict access control like some other programming languages. By convention, a single leading underscore (_) is used to indicate that a variable or method is intended to be private and should not be accessed directly from outside the class. However, this is merely a convention, and the variable or method can still be accessed and modified from outside the class."
   ]
  },
  {
   "cell_type": "markdown",
   "id": "c0de33d4",
   "metadata": {},
   "source": [
    "#### Q7. How do you distinguish between a class variable and an instance variable?\n",
    "**Ans:** A class variable is shared among all instances of a class and is defined at the class level. It can be accessed using the class name or any instance of the class. Changes made to a class variable affect all instances.\n",
    "\n",
    "On the other hand, an instance variable is specific to each instance of a class and is defined within methods or constructors using the self parameter. Each instance has its own copy of the instance variable, and changes to it only affect that specific instance."
   ]
  },
  {
   "cell_type": "markdown",
   "id": "65768276",
   "metadata": {},
   "source": [
    "#### Q8. When, if ever, can self be included in a class's method definitions?\n",
    "**Ans:** The self parameter is typically included in a class's method definitions to reference the instance of the class, but it is not necessary for static methods and class methods."
   ]
  },
  {
   "cell_type": "markdown",
   "id": "ae7c6bbf",
   "metadata": {},
   "source": [
    "#### Q9. What is the difference between the **`__add__`** and the **`__radd__`** methods ?\n",
    "**Ans:** The `__add__` method is called when the addition operation is performed with the object on the left-hand side (LHS) of the operator. It defines how the object should behave when added with another object. For example, if you have two objects obj1 and obj2, the addition obj1 + obj2 will call the `__add__` method of obj1.\n",
    "\n",
    "The `__radd__` method, on the other hand, is called when the object is on the right-hand side (RHS) of the addition operation. It handles the case when the object is added to an object of a different type or class. For example, if you have an object obj1 and a built-in integer x, the addition x + obj1 will call the `__radd__` method of obj1."
   ]
  },
  {
   "cell_type": "markdown",
   "id": "5eae7542",
   "metadata": {},
   "source": [
    "#### Q10. When is it necessary to use a reflection method? When do you not need it, even though you support the operation in question?\n",
    "**Ans:** Reflection methods are necessary when you want to customize attribute access and modification in an object, but they are not needed if you do not require any special behavior or customization in these operations."
   ]
  },
  {
   "cell_type": "markdown",
   "id": "98aac547",
   "metadata": {},
   "source": [
    "#### Q11. What is the `__iadd__` method called?\n",
    "**Ans:** The `__iadd__` method is called when the `+=` operator is used to perform in-place addition on an object. It is a special method in Python that allows objects to define their own behavior for the `+=` operator. The `__iadd__` method modifies the object in-place, updating its internal state to reflect the addition operation."
   ]
  },
  {
   "cell_type": "markdown",
   "id": "f6c3908c",
   "metadata": {},
   "source": [
    "#### Q12. Is the `_ _init_ _` method inherited by subclasses? What do you do if you need to customize its behavior within a subclass ?\n",
    "**Ans:** Yes, the `__init__` method is inherited by subclasses in Python. When a subclass is created, it automatically inherits all the methods from its parent class, including `__init__`.\n",
    "\n",
    "To customize the behavior of `__init__` in the subclass, you can define the new method with the same name `(__init__)` and provide the desired implementation specific to the subclass. Inside the subclass's `__init__` method, you can call the parent class's `__init__` method if needed, using the `super()` function. This allows you to include the initialization logic from the parent class while adding additional customization specific to the subclass."
   ]
  },
  {
   "cell_type": "code",
   "execution_count": 1,
   "id": "b87683b8",
   "metadata": {},
   "outputs": [
    {
     "name": "stdout",
     "output_type": "stream",
     "text": [
      "10\n",
      "extra\n"
     ]
    }
   ],
   "source": [
    "class ParentClass:\n",
    "    def __init__(self, value):\n",
    "        self.value = value\n",
    "\n",
    "class Subclass(ParentClass):\n",
    "    def __init__(self, value, extra):\n",
    "        super().__init__(value)  # Call parent class's __init__ method\n",
    "        self.extra = extra\n",
    "\n",
    "# Create an instance of the subclass\n",
    "obj = Subclass(10, 'extra')\n",
    "print(obj.value)  # Output: 10\n",
    "print(obj.extra)  # Output: extra\n"
   ]
  }
 ],
 "metadata": {
  "kernelspec": {
   "display_name": "Python 3 (ipykernel)",
   "language": "python",
   "name": "python3"
  },
  "language_info": {
   "codemirror_mode": {
    "name": "ipython",
    "version": 3
   },
   "file_extension": ".py",
   "mimetype": "text/x-python",
   "name": "python",
   "nbconvert_exporter": "python",
   "pygments_lexer": "ipython3",
   "version": "3.10.9"
  }
 },
 "nbformat": 4,
 "nbformat_minor": 5
}
