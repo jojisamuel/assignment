{
 "cells": [
  {
   "cell_type": "markdown",
   "id": "57a871f3",
   "metadata": {},
   "source": [
    "# Assignment 20 Solutions"
   ]
  },
  {
   "cell_type": "markdown",
   "id": "05ee62b2",
   "metadata": {},
   "source": [
    "#### 1. Compare and contrast the float and Decimal classes' benefits and drawbacks ?\n",
    "**Ans:** The float class in Python is fast and memory-efficient but has limited precision and can result in rounding errors. It is suitable for general-purpose numerical computations.\n",
    "\n",
    "The Decimal class provides higher precision and accuracy but is slower and consumes more memory. It is ideal for applications requiring exact decimal representation, such as financial calculations."
   ]
  },
  {
   "cell_type": "markdown",
   "id": "fd433d14",
   "metadata": {},
   "source": [
    "#### 2. Decimal('1.200') and Decimal('1.2') are two objects to consider. In what sense are these the same object? Are these just two ways of representing the exact same value, or do they correspond to different internal states ?\n",
    "**Ans:** Both values are same but internal representation at storage Is different. Precsion  differs, `Decimal('1.200')` gives internally  `1.200` and  `Decimal('1.2')` gives `1.2`. Performing operations or comparisons between them will take their internal states into account, and the results may differ."
   ]
  },
  {
   "cell_type": "markdown",
   "id": "efc3efad",
   "metadata": {},
   "source": [
    "#### 3. What happens if the equality of Decimal('1.200') and Decimal('1.2') is checked ?\n",
    "**Ans:** When comparing the Decimal objects Decimal('1.200') and Decimal('1.2'), the equality check using the equality operator (==) will return True."
   ]
  },
  {
   "cell_type": "code",
   "execution_count": 4,
   "id": "c32f13af",
   "metadata": {},
   "outputs": [
    {
     "name": "stdout",
     "output_type": "stream",
     "text": [
      "Decimals are equal\n"
     ]
    }
   ],
   "source": [
    "from decimal import Decimal\n",
    "\n",
    "decimal1 = Decimal('1.200')\n",
    "decimal2 = Decimal('1.2')\n",
    "\n",
    "# Using equality operator\n",
    "if decimal1 == decimal2:\n",
    "    print(\"Decimals are equal\")\n",
    "else:\n",
    "    print(\"Decimals are not equal\")"
   ]
  },
  {
   "cell_type": "markdown",
   "id": "8f6cda09",
   "metadata": {},
   "source": [
    "#### 4. Why is it preferable to start a Decimal object with a string rather than a floating-point value ?\n",
    "**Ans:** It is preferable to initialize a Decimal object with a string rather than a floating-point value because using a string allows you to provide the exact decimal representation without potential precision and rounding issues associated with floating-point representations. Initializing with a string preserves the desired precision and accuracy, making it suitable for applications that require precise decimal arithmetic, such as financial calculations."
   ]
  },
  {
   "cell_type": "markdown",
   "id": "2e42c0a6",
   "metadata": {},
   "source": [
    "#### 5. In an arithmetic phrase, how simple is it to combine Decimal objects with integers ?\n",
    "**Ans:**  The Decimal class in Python allows for seamless integration with integers, treating them as compatible numeric types. This means you can perform arithmetic operations such as addition, subtraction, multiplication, and division between Decimal objects and integers without any explicit conversions."
   ]
  },
  {
   "cell_type": "code",
   "execution_count": 6,
   "id": "e0333f98",
   "metadata": {},
   "outputs": [
    {
     "name": "stdout",
     "output_type": "stream",
     "text": [
      "6.23\n"
     ]
    }
   ],
   "source": [
    "from decimal import Decimal\n",
    "\n",
    "decimal_num = Decimal('2.23')\n",
    "integer_num = 4\n",
    "\n",
    "result = decimal_num + integer_num\n",
    "print(result)"
   ]
  },
  {
   "cell_type": "markdown",
   "id": "6a9cf124",
   "metadata": {},
   "source": [
    "#### 6. Can Decimal objects and floating-point values be combined easily ?\n",
    "**Ans:** Arithmetic operfations like Adding,subtracting or multiplying a Decimal object by a floating-point value is generates an error.\n",
    "\n",
    "To do these operations, the floating point has to be converted to a Decimal."
   ]
  },
  {
   "cell_type": "code",
   "execution_count": 11,
   "id": "8de18457",
   "metadata": {},
   "outputs": [
    {
     "ename": "TypeError",
     "evalue": "unsupported operand type(s) for +: 'decimal.Decimal' and 'float'",
     "output_type": "error",
     "traceback": [
      "\u001b[1;31m---------------------------------------------------------------------------\u001b[0m",
      "\u001b[1;31mTypeError\u001b[0m                                 Traceback (most recent call last)",
      "Cell \u001b[1;32mIn[11], line 6\u001b[0m\n\u001b[0;32m      3\u001b[0m decimal_num \u001b[38;5;241m=\u001b[39m Decimal(\u001b[38;5;124m'\u001b[39m\u001b[38;5;124m1.23\u001b[39m\u001b[38;5;124m'\u001b[39m)\n\u001b[0;32m      4\u001b[0m float_num \u001b[38;5;241m=\u001b[39m \u001b[38;5;241m2.5\u001b[39m\n\u001b[1;32m----> 6\u001b[0m result \u001b[38;5;241m=\u001b[39m \u001b[43mdecimal_num\u001b[49m\u001b[43m \u001b[49m\u001b[38;5;241;43m+\u001b[39;49m\u001b[43m \u001b[49m\u001b[43mfloat_num\u001b[49m\n\u001b[0;32m      7\u001b[0m \u001b[38;5;28mprint\u001b[39m(result)\n",
      "\u001b[1;31mTypeError\u001b[0m: unsupported operand type(s) for +: 'decimal.Decimal' and 'float'"
     ]
    }
   ],
   "source": [
    "from decimal import Decimal\n",
    "\n",
    "decimal_num = Decimal('1.23')\n",
    "float_num = 2.5\n",
    "\n",
    "result = decimal_num + float_num\n",
    "print(result)  "
   ]
  },
  {
   "cell_type": "markdown",
   "id": "860d14ca",
   "metadata": {},
   "source": [
    "#### 7. Using the Fraction class but not the Decimal class, give an example of a quantity that can be expressed with absolute precision ?\n",
    "**Ans:** The Fraction class in Python allows for exact representation of rational numbers without any loss of precision."
   ]
  },
  {
   "cell_type": "code",
   "execution_count": 9,
   "id": "a3a61210",
   "metadata": {},
   "outputs": [
    {
     "name": "stdout",
     "output_type": "stream",
     "text": [
      "3/4\n"
     ]
    }
   ],
   "source": [
    "from fractions import Fraction\n",
    "\n",
    "fraction_num = Fraction(3, 4)\n",
    "print(fraction_num)  "
   ]
  },
  {
   "cell_type": "markdown",
   "id": "6702505a",
   "metadata": {},
   "source": [
    "#### 8. Consider the following two fraction objects: Fraction(1, 2) and Fraction(1, 2). (5, 10). Is the internal state of these two objects the same? Why do you think that is ?\n",
    "**Ans:** Both will be reduced to `1/2`"
   ]
  },
  {
   "cell_type": "code",
   "execution_count": 10,
   "id": "63c8d3a4",
   "metadata": {},
   "outputs": [
    {
     "name": "stdout",
     "output_type": "stream",
     "text": [
      "1/2\n",
      "1/2\n"
     ]
    }
   ],
   "source": [
    "from fractions import Fraction\n",
    "\n",
    "fraction1 = Fraction(1, 2)\n",
    "fraction2 = Fraction(5, 10)\n",
    "\n",
    "print(fraction1)  # Output: 1/2\n",
    "print(fraction2)  # Output: 1/2"
   ]
  },
  {
   "cell_type": "markdown",
   "id": "1039ed6b",
   "metadata": {},
   "source": [
    "#### 9. How do the Fraction class and the integer type (int) relate to each other? Containment or inheritance ?\n",
    "**Ans:** The Fraction class and the integer type (int) are separate entities in Python, each with its own purpose and functionality, rather than being related through containment or inheritance."
   ]
  }
 ],
 "metadata": {
  "kernelspec": {
   "display_name": "Python 3 (ipykernel)",
   "language": "python",
   "name": "python3"
  },
  "language_info": {
   "codemirror_mode": {
    "name": "ipython",
    "version": 3
   },
   "file_extension": ".py",
   "mimetype": "text/x-python",
   "name": "python",
   "nbconvert_exporter": "python",
   "pygments_lexer": "ipython3",
   "version": "3.10.9"
  }
 },
 "nbformat": 4,
 "nbformat_minor": 5
}
