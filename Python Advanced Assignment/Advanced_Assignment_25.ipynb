{
 "cells": [
  {
   "cell_type": "markdown",
   "id": "ae0f9c40",
   "metadata": {},
   "source": [
    "# Assignment 25 Solutions"
   ]
  },
  {
   "cell_type": "markdown",
   "id": "bb43a46e",
   "metadata": {},
   "source": [
    "#### Q1. What is the distinction between a numpy array and a pandas data frame? Is there a way to convert between the two if there is ?\n",
    "**Ans:** NumPy arrays are geared towards numerical computations and array manipulation, while Pandas DataFrames provide enhanced data manipulation capabilities and support for heterogeneous data. "
   ]
  },
  {
   "cell_type": "code",
   "execution_count": 1,
   "id": "94250de7",
   "metadata": {},
   "outputs": [
    {
     "name": "stdout",
     "output_type": "stream",
     "text": [
      "DataFrame:\n",
      "   A  B  C\n",
      "0  1  2  3\n",
      "1  4  5  6\n",
      "2  7  8  9\n",
      "NumPy array:\n",
      "[[1 2 3]\n",
      " [4 5 6]\n",
      " [7 8 9]]\n"
     ]
    }
   ],
   "source": [
    "# the conversion between a NumPy array and a Pandas DataFrame:\n",
    "import numpy as np\n",
    "import pandas as pd\n",
    "\n",
    "# Create a NumPy array\n",
    "numpy_array = np.array([[1, 2, 3], [4, 5, 6], [7, 8, 9]])\n",
    "\n",
    "# Convert NumPy array to DataFrame\n",
    "dataframe = pd.DataFrame(numpy_array, columns=['A', 'B', 'C'])\n",
    "\n",
    "# Display the DataFrame\n",
    "print(\"DataFrame:\")\n",
    "print(dataframe)\n",
    "\n",
    "# Convert DataFrame to NumPy array\n",
    "numpy_array = dataframe.values\n",
    "\n",
    "# Display the NumPy array\n",
    "print(\"NumPy array:\")\n",
    "print(numpy_array)\n"
   ]
  },
  {
   "cell_type": "markdown",
   "id": "24146fcb",
   "metadata": {},
   "source": [
    "#### Q2. Identify some of the plotting techniques that are used to produce a stock-market chart ?\n",
    "**Ans:** To visualize stock market data in Python, various chart types can be used. Commonly used charts include line charts, candlestick charts, volume charts, moving average charts, Bollinger Bands charts, RSI charts, and MACD charts. These charts help represent price movements, trends, volatility, trading volume, and technical indicators. Different chart types provide different insights into the data, allowing for analysis and decision-making in the stock market."
   ]
  },
  {
   "cell_type": "markdown",
   "id": "f0fdf95b",
   "metadata": {},
   "source": [
    "#### Q3. Why is it essential to print a legend on a stock market chart ?\n",
    "**Ans:** Including a legend on a stock market chart is essential as it provides clarity, context, and interpretation of the information presented. A legend helps identify different elements or lines on the chart, allowing viewers to understand what each represents. It aids in interpreting trends, comparing data series, and analyzing performance. A legend enhances clarity, eliminates confusion, and improves communication when sharing or presenting the chart."
   ]
  },
  {
   "cell_type": "markdown",
   "id": "186d0d51",
   "metadata": {},
   "source": [
    "#### Q4. What is the best way to limit the length of a pandas data frame to less than a year ?\n",
    "**Ans:** : To limit the length of a Pandas DataFrame to less than a year, you can filter the DataFrame based on the desired time range."
   ]
  },
  {
   "cell_type": "code",
   "execution_count": null,
   "id": "14522aa5",
   "metadata": {},
   "outputs": [],
   "source": [
    "import pandas as pd\n",
    "\n",
    "# Assuming 'df' is your original DataFrame with a 'date' column\n",
    "\n",
    "# Convert the 'date' column to a datetime data type\n",
    "df['date'] = pd.to_datetime(df['date'])\n",
    "\n",
    "# Set the start and end dates for the desired time range\n",
    "start_date = pd.Timestamp('2022-01-01')\n",
    "end_date = pd.Timestamp('2022-12-31')\n",
    "\n",
    "# Filter the DataFrame based on the time range\n",
    "filtered_df = df[(df['date'] >= start_date) & (df['date'] <= end_date)]\n",
    "\n",
    "# Print the resulting filtered DataFrame\n",
    "print(filtered_df)"
   ]
  },
  {
   "cell_type": "markdown",
   "id": "5805fa40",
   "metadata": {},
   "source": [
    "#### Q5. What is the definition of a 180-day moving average ?\n",
    "**Ans:** : A 180-day moving average is a type of technical analysis indicator used in finance and investing. It is calculated by taking the average value of a specific financial metric, such as a stock's closing price, over the past 180 trading days."
   ]
  }
 ],
 "metadata": {
  "kernelspec": {
   "display_name": "Python 3 (ipykernel)",
   "language": "python",
   "name": "python3"
  },
  "language_info": {
   "codemirror_mode": {
    "name": "ipython",
    "version": 3
   },
   "file_extension": ".py",
   "mimetype": "text/x-python",
   "name": "python",
   "nbconvert_exporter": "python",
   "pygments_lexer": "ipython3",
   "version": "3.10.9"
  }
 },
 "nbformat": 4,
 "nbformat_minor": 5
}
