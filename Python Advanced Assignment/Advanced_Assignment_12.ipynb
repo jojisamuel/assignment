{
 "cells": [
  {
   "cell_type": "markdown",
   "id": "b7b2ee9a",
   "metadata": {},
   "source": [
    "# Assignment 12 Solutions"
   ]
  },
  {
   "cell_type": "markdown",
   "id": "096440ca",
   "metadata": {},
   "source": [
    "#### Q1. Does assigning a value to a string's indexed character violate Python's string immutability ?\n",
    "**Ans:**  Yes, assigning a value to a string's indexed character violates Python's string immutability. In Python, strings are immutable, which means that once a string is created, its contents cannot be changed. Any attempt to modify a string results in the creation of a new string object.Python will raise a TypeError indicating that 'str' object does not support item assignment."
   ]
  },
  {
   "cell_type": "code",
   "execution_count": 3,
   "id": "d19c5da1",
   "metadata": {},
   "outputs": [
    {
     "ename": "TypeError",
     "evalue": "'str' object does not support item assignment",
     "output_type": "error",
     "traceback": [
      "\u001b[1;31m---------------------------------------------------------------------------\u001b[0m",
      "\u001b[1;31mTypeError\u001b[0m                                 Traceback (most recent call last)",
      "Cell \u001b[1;32mIn[3], line 2\u001b[0m\n\u001b[0;32m      1\u001b[0m string \u001b[38;5;241m=\u001b[39m \u001b[38;5;124m\"\u001b[39m\u001b[38;5;124mHello, World!\u001b[39m\u001b[38;5;124m\"\u001b[39m\n\u001b[1;32m----> 2\u001b[0m string[\u001b[38;5;241m0\u001b[39m] \u001b[38;5;241m=\u001b[39m \u001b[38;5;124m'\u001b[39m\u001b[38;5;124mh\u001b[39m\u001b[38;5;124m'\u001b[39m\n",
      "\u001b[1;31mTypeError\u001b[0m: 'str' object does not support item assignment"
     ]
    }
   ],
   "source": [
    "string = \"Hello, World!\"\n",
    "string[0] = 'h' "
   ]
  },
  {
   "cell_type": "markdown",
   "id": "b16a1f3f",
   "metadata": {},
   "source": [
    "#### Q2. Does using the += operator to concatenate strings violate Python's string immutability? Why or why not ?\n",
    "**Ans:**  No, using the += operator to concatenate strings does not violate Python's string immutability.\n",
    "\n",
    "The += operator is a shorthand for concatenating and assigning the result back to the original string variable. When you use += to concatenate strings, Python creates a new string object that contains the concatenated result and then assigns that new object back to the original variable. This behavior preserves the immutability of the string."
   ]
  },
  {
   "cell_type": "code",
   "execution_count": 2,
   "id": "85e75136",
   "metadata": {},
   "outputs": [
    {
     "name": "stdout",
     "output_type": "stream",
     "text": [
      "Hello, World!\n"
     ]
    }
   ],
   "source": [
    "string = \"Hello\"\n",
    "string += \", World!\"\n",
    "print(string) "
   ]
  },
  {
   "cell_type": "markdown",
   "id": "76ec588b",
   "metadata": {},
   "source": [
    "#### Q3. In Python, how many different ways are there to index a character?\n",
    "**Ans:** The different ways to index a character in a string are:\n",
    "\n",
    "`Positive Indexing`: The most common way to index a character is by using positive integers. Each character in the string is assigned a unique index starting from 0 for the first character, 1 for the second character, and so on.\n",
    "\n",
    "`Negative Indexing`: Python also allows negative indexing, where the index is counted from the end of the string. The last character has an index of -1, the second-to-last character has an index of -2, and so on. Negative indexing provides a convenient way to access characters from the end of the string.\n",
    "\n",
    "`Slicing`: Slicing allows you to access a range of characters in a string. It uses a colon (:) to specify the start and end indices of the desired substring. The start index is inclusive, while the end index is exclusive.\n",
    "\n",
    "`Extended Slice Syntax`: Python also supports extended slice syntax, which provides additional flexibility in specifying the start, end, and step size for slicing. This allows for operations such as reversing a string or selecting every second character"
   ]
  },
  {
   "cell_type": "code",
   "execution_count": 4,
   "id": "8b363c3b",
   "metadata": {},
   "outputs": [
    {
     "name": "stdout",
     "output_type": "stream",
     "text": [
      "H\n",
      "!\n",
      "World\n",
      "Hello\n",
      "\n",
      "!dlroW ,olleH\n",
      "Hlo ol!\n"
     ]
    }
   ],
   "source": [
    "string = \"Hello, World!\"\n",
    "\n",
    "# Positive indexing\n",
    "print(string[0])     # Output: \"H\"\n",
    "\n",
    "# Negative indexing\n",
    "print(string[-1])    # Output: \"!\"\n",
    "\n",
    "# Slicing\n",
    "print(string[7:12])  # Output: \"World\"\n",
    "print(string[:5])    # Output: \"Hello\"\n",
    "print(string[13:])   # Output: \"!\"\n",
    "\n",
    "# Extended Slice Syntax\n",
    "print(string[::-1])  # Output: \"!dlroW ,olleH\"\n",
    "print(string[::2])   # Output: \"Hlo ol!\""
   ]
  },
  {
   "cell_type": "markdown",
   "id": "c3b59e35",
   "metadata": {},
   "source": [
    "#### Q4. What is the relationship between indexing and slicing?\n",
    "**Ans:** `Indexing` is used to access a single element from a sequence by specifying its position using an index. It retrieves a single value.\n",
    "    `Slicing` is used to extract a subsequence or a range of elements from a sequence by specifying the start and end indices. It retrieves multiple values and creates a new sequence."
   ]
  },
  {
   "cell_type": "code",
   "execution_count": 8,
   "id": "1da25970",
   "metadata": {},
   "outputs": [
    {
     "name": "stdout",
     "output_type": "stream",
     "text": [
      "H\n",
      "el\n"
     ]
    }
   ],
   "source": [
    "string = \"Hello, World!\"\n",
    "\n",
    "# Indexing\n",
    "print(string[0])     # Output: \"H\"\n",
    "\n",
    "# Slicing\n",
    "print(string[1:3])   # Output: \"el\""
   ]
  },
  {
   "cell_type": "markdown",
   "id": "a942747b",
   "metadata": {},
   "source": [
    "#### Q5. What is an indexed character's exact data type? What is the data form of a slicing-generated substring?\n",
    "**Ans:** In Python, an indexed character of a string has the exact data type of a single character, which is represented by a string of length 1. This data type is a string."
   ]
  },
  {
   "cell_type": "code",
   "execution_count": 9,
   "id": "20fe9f03",
   "metadata": {},
   "outputs": [
    {
     "name": "stdout",
     "output_type": "stream",
     "text": [
      "H\n",
      "<class 'str'>\n"
     ]
    }
   ],
   "source": [
    "#indexed character\n",
    "string = \"Hello\"\n",
    "character = string[0]\n",
    "print(character)           # Output: \"H\"\n",
    "print(type(character))     # Output: <class 'str'>"
   ]
  },
  {
   "cell_type": "markdown",
   "id": "d0985c94",
   "metadata": {},
   "source": [
    "On the other hand, a slicing-generated substring retains the data form of the original sequence. If you slice a string, the resulting substring is still a string. Similarly, if you slice a list, the resulting subsequence is still a list."
   ]
  },
  {
   "cell_type": "code",
   "execution_count": 10,
   "id": "2a59239c",
   "metadata": {},
   "outputs": [
    {
     "name": "stdout",
     "output_type": "stream",
     "text": [
      "World\n",
      "<class 'str'>\n"
     ]
    }
   ],
   "source": [
    "#Slicing-Generated Substring\n",
    "string = \"Hello, World!\"\n",
    "substring = string[7:12]\n",
    "print(substring)           # Output: \"World\"\n",
    "print(type(substring))     # Output: <class 'str'>"
   ]
  },
  {
   "cell_type": "markdown",
   "id": "2b61703e",
   "metadata": {},
   "source": [
    "#### Q6. What is the relationship between string and character \"types\" in Python?\n",
    "**Ans:** A string is a sequence of characters, represented by a collection of characters enclosed in quotes. Characters, on the other hand, are single elements within a string, represented as strings of length 1."
   ]
  },
  {
   "cell_type": "markdown",
   "id": "7c5362fc",
   "metadata": {},
   "source": [
    "#### Q7. Identify at least two operators & one method that allow you to combine one or more smaller strings to create a larger string ?\n",
    "**Ans:** The two operators and one method commonly used to combine smaller strings into a larger string:\n",
    "\n",
    "   `Concatenation Operator (+)`: The concatenation operator allows you to join two or more strings together. By using the + operator, you can concatenate the contents of multiple strings, creating a larger string.\n",
    "    \n",
    "   `In-Place Concatenation Operator (+=)`: The in-place concatenation operator (+=) is used to concatenate a string with another string and assign the result back to the original string variable.\n",
    "\n",
    "   `Join()` Method: The join() method is used to concatenate strings from an iterable, such as a list, into a single string. It takes the iterable as an argument and joins the elements using a specified delimiter."
   ]
  },
  {
   "cell_type": "code",
   "execution_count": 17,
   "id": "064b196f",
   "metadata": {},
   "outputs": [
    {
     "name": "stdout",
     "output_type": "stream",
     "text": [
      "Hello World\n"
     ]
    }
   ],
   "source": [
    "# Concatenation Operator (+)\n",
    "string1 = \"Hello\"\n",
    "string2 = \"World\"\n",
    "result = string1 + \" \" + string2\n",
    "print(result)  # Output: \"Hello World\""
   ]
  },
  {
   "cell_type": "code",
   "execution_count": 16,
   "id": "3cddbe34",
   "metadata": {},
   "outputs": [
    {
     "name": "stdout",
     "output_type": "stream",
     "text": [
      "Hello World\n"
     ]
    }
   ],
   "source": [
    "# In-Place Concatenation Operator (+=)\n",
    "string = \"Hello\"\n",
    "string += \" World\"\n",
    "print(string)  # Output: \"Hello World\""
   ]
  },
  {
   "cell_type": "code",
   "execution_count": 15,
   "id": "6905e5d5",
   "metadata": {},
   "outputs": [
    {
     "name": "stdout",
     "output_type": "stream",
     "text": [
      "Hello World\n"
     ]
    }
   ],
   "source": [
    "# Join() Method\n",
    "words = [\"Hello\", \"World\"]\n",
    "result = \" \".join(words)\n",
    "print(result)  # Output: \"Hello World\""
   ]
  },
  {
   "cell_type": "markdown",
   "id": "f0e842af",
   "metadata": {},
   "source": [
    "#### Q8. What is the benefit of first checking the target string with in or not in before using the index method to find a substring ?\n",
    "**Ans:** Checking the target string with **`in`** or **`not`** Operators before using the index method to find a  substring just helps confirming availability of substring and thus avoid raising of **`ValueError.`**   "
   ]
  },
  {
   "cell_type": "code",
   "execution_count": 24,
   "id": "1fc6c6fb",
   "metadata": {},
   "outputs": [
    {
     "name": "stdout",
     "output_type": "stream",
     "text": [
      "Substring found at index: 7\n"
     ]
    }
   ],
   "source": [
    "string = \"Hello, World!\"\n",
    "\n",
    "# Check if substring exists before using index()\n",
    "if \"World\" in string:\n",
    "    index = string.index(\"World\")\n",
    "    print(\"Substring found at index:\", index)\n",
    "else:\n",
    "    print(\"Substring not found\")"
   ]
  },
  {
   "cell_type": "markdown",
   "id": "86b6bc76",
   "metadata": {},
   "source": [
    "#### Q9. Which operators and built-in string methods produce simple Boolean (true/false) results?\n",
    "**Ans:** Here are the names of built-in string methods that produce simple Boolean (true/false) results:\n",
    "\n",
    "   `startswith(substring)`: Checks if a string starts with a specified substring and returns True or False accordingly.\n",
    "   \n",
    "   `endswith(substring)`: Checks if a string ends with a specified substring and returns True or False accordingly.\n",
    "   \n",
    "   `isalpha()`: Checks if all characters in a string are alphabetic and returns True or False accordingly.\n",
    "   \n",
    "   `isdigit()`: Checks if all characters in a string are digits and returns True or False accordingly.\n",
    "   \n",
    "   `isalnum()`: Checks if all characters in a string are alphanumeric (either alphabetic or numeric) and returns True or False accordingly.\n",
    "   \n",
    "   `islower()`: Checks if all characters in a string are lowercase and returns True or False accordingly.\n",
    "   \n",
    "   `isupper()`: Checks if all characters in a string are uppercase and returns True or False accordingly.\n",
    "   \n",
    "   `isspace()`: Checks if all characters in a string are whitespace characters (spaces, tabs, newlines) and returns True or False accordingly.\n",
    "   \n",
    "   `isnumeric()`: Checks if all characters in a string are numeric and returns True or False accordingly.\n",
    "   \n",
    "   `isdecimal()`: Checks if all characters in a string are decimal characters and returns True or False accordingly.\n",
    "   \n",
    "   `isidentifier()`: Checks if a string is a valid identifier (e.g., variable name) and returns True or False accordingly."
   ]
  }
 ],
 "metadata": {
  "kernelspec": {
   "display_name": "Python 3 (ipykernel)",
   "language": "python",
   "name": "python3"
  },
  "language_info": {
   "codemirror_mode": {
    "name": "ipython",
    "version": 3
   },
   "file_extension": ".py",
   "mimetype": "text/x-python",
   "name": "python",
   "nbconvert_exporter": "python",
   "pygments_lexer": "ipython3",
   "version": "3.10.9"
  }
 },
 "nbformat": 4,
 "nbformat_minor": 5
}
