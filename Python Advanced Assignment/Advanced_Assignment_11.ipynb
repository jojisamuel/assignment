{
 "cells": [
  {
   "cell_type": "markdown",
   "id": "344e8e27",
   "metadata": {},
   "source": [
    "# Assignment 11 Solutions"
   ]
  },
  {
   "cell_type": "markdown",
   "id": "11489fdc",
   "metadata": {},
   "source": [
    "#### Q1. What is the concept of a metaclass?\n",
    "**Ans:** A metaclass is a class that defines the behavior of other classes in Python. It acts as a template for creating and customizing classes. By defining a metaclass, we can control class creation, modify class attributes and methods, customize class initialization, and establish rules for class behavior. They are often used in frameworks and libraries to implement specialized class behavior or create domain-specific languages."
   ]
  },
  {
   "cell_type": "markdown",
   "id": "a7c66d6f",
   "metadata": {},
   "source": [
    "#### Q2. What is the best way to declare a class's metaclass?\n",
    "**Ans:** The best way to declare a class's metaclass in Python is by using the metaclass parameter when defining the class."
   ]
  },
  {
   "cell_type": "code",
   "execution_count": 3,
   "id": "e1a13053",
   "metadata": {},
   "outputs": [
    {
     "name": "stdout",
     "output_type": "stream",
     "text": [
      "Hello, World!\n"
     ]
    }
   ],
   "source": [
    "class MyMetaClass(type):\n",
    "    def __init__(cls, name, bases, attrs):\n",
    "        # Custom metaclass behavior\n",
    "        super().__init__(name, bases, attrs)\n",
    "\n",
    "class MyClass(metaclass=MyMetaClass):\n",
    "\n",
    "    def method(self):\n",
    "        return \"Hello, World!\"\n",
    "\n",
    "obj = MyClass()\n",
    "print(obj.method())  # Output: Hello, World!"
   ]
  },
  {
   "cell_type": "markdown",
   "id": "938e3147",
   "metadata": {},
   "source": [
    "#### Q3. How do class decorators overlap with metaclasses for handling classes ?\n",
    "**Ans:** Class decorators and metaclasses overlap in the sense that they both provide mechanisms to modify or customize class behavior. However, class decorators typically operate at a higher level, focusing on modifying existing classes, while metaclasses provide a lower-level control over the class creation process and affect the entire class hierarchy. "
   ]
  },
  {
   "cell_type": "markdown",
   "id": "3f57ffac",
   "metadata": {},
   "source": [
    "#### Q4. How do class decorators overlap with metaclasses for handling instances?\n",
    "**Ans:**  While class decorators and metaclasses have different primary focuses, they can overlap in functionality when it comes to handling instances. Class decorators indirectly affect instance behavior by modifying the class's behavior, while metaclasses have more direct control over instance creation and initialization. Both mechanisms can be used together to achieve a comprehensive customization of both class and instance behavior."
   ]
  }
 ],
 "metadata": {
  "kernelspec": {
   "display_name": "Python 3 (ipykernel)",
   "language": "python",
   "name": "python3"
  },
  "language_info": {
   "codemirror_mode": {
    "name": "ipython",
    "version": 3
   },
   "file_extension": ".py",
   "mimetype": "text/x-python",
   "name": "python",
   "nbconvert_exporter": "python",
   "pygments_lexer": "ipython3",
   "version": "3.10.9"
  }
 },
 "nbformat": 4,
 "nbformat_minor": 5
}
