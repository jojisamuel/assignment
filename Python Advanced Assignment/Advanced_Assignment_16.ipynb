{
 "cells": [
  {
   "cell_type": "markdown",
   "id": "1b34bd2a",
   "metadata": {},
   "source": [
    "# Assignment 16 Solutions"
   ]
  },
  {
   "cell_type": "markdown",
   "id": "f8313cc0",
   "metadata": {},
   "source": [
    "#### Q1. What is the benefit of regular expressions?\n",
    "**Ans:** Regular expressions provide a powerful tool for pattern matching, text manipulation, and data extraction in programming and text processing tasks. They offer flexibility, efficiency, and versatility, allowing you to define complex patterns and perform advanced text operations. Regular expressions are widely supported across programming languages and are suitable for various applications."
   ]
  },
  {
   "cell_type": "markdown",
   "id": "3ec69ca0",
   "metadata": {},
   "source": [
    "#### Q2. Describe the difference between the effects of \"(ab)c+\" and \"a(bc)+\" Which of these, if any, is the unqualified pattern \"abc+\"?\n",
    "**Ans:**  `\"(ab)c+\"`: This regular expression matches a sequence that starts with \"ab\" followed by one or more occurrences of the character \"c\". It captures the \"ab\" portion as a group. This pattern would match strings like \"abc\", \"abcc\", \"abccc\", and so on.\n",
    "\n",
    "   `\"a(bc)+\"`: This regular expression matches a sequence that starts with \"a\" followed by one or more occurrences of the group \"bc\". It captures the \"bc\" portion as a group. This pattern would match strings like \"abc\", \"abcbc\", \"abcbcbc\", and so on."
   ]
  },
  {
   "cell_type": "markdown",
   "id": "2b4c8728",
   "metadata": {},
   "source": [
    "#### Q3. How much do you need to use the following sentence while using regular expressions?\n",
    "**`import re`**  \n",
    "\n",
    "**Ans:** **`import re`** statement always has to be imported before using regular expressions."
   ]
  },
  {
   "cell_type": "markdown",
   "id": "2338be46",
   "metadata": {},
   "source": [
    "#### Q4. Which characters have special significance in square brackets when expressing a range, and under what circumstances?\n",
    "**Ans:** In regular expressions, square brackets [ ] are used to define a character class or character set. When expressing a range within square brackets, certain characters have special significance:\n",
    "\n",
    "   `Hyphen (-)`: Used to specify a range of characters. For example, [a-z] represents all lowercase letters from a to z.\n",
    "\n",
    "   `Caret (^)`: When used as the first character within square brackets, it negates the character class. It matches any character not listed within the square brackets. For example, [^a-z] matches any character that is not a lowercase letter.\n",
    "\n",
    "   `Backslash (\\)`: Used to escape special characters within square brackets. It allows including special characters as literal characters in the character class. For example, [\\[\\]] matches either a left square bracket or a right square bracket"
   ]
  },
  {
   "cell_type": "markdown",
   "id": "bc0c3bef",
   "metadata": {},
   "source": [
    "#### Q5. How does compiling a regular-expression object benefit you?\n",
    "**Ans:** Compiling a regular expression object in Python using re.compile() provides several benefits. It improves performance by optimizing the pattern matching operation, resulting in faster execution. The compiled object can be reused multiple times, promoting code reusability and reducing redundancy. It enhances code readability by assigning a meaningful name to the compiled pattern."
   ]
  },
  {
   "cell_type": "markdown",
   "id": "c2885976",
   "metadata": {},
   "source": [
    "#### Q6. What are some examples of how to use the match object returned by re.match and re.search?\n",
    "**Ans:**\n",
    "Both return the first match of a substring found in the string, but **`re.match()`** searches only from the beginning of the string and return match object if found. But if a match of substring is found somewhere in the middle of the string, it returns none.While **`re.search()`** searches for the whole string even if the string contains multi-lines and tries to find a match of the substring in all the lines of string"
   ]
  },
  {
   "cell_type": "code",
   "execution_count": 1,
   "id": "6db4f5f2",
   "metadata": {},
   "outputs": [
    {
     "name": "stdout",
     "output_type": "stream",
     "text": [
      "No match found.\n"
     ]
    }
   ],
   "source": [
    "# re.match()\n",
    "import re\n",
    "\n",
    "pattern = r'apple'\n",
    "text = 'I have an apple'\n",
    "\n",
    "match = re.match(pattern, text)\n",
    "if match:\n",
    "    print(\"Match found!\")\n",
    "else:\n",
    "    print(\"No match found.\")\n"
   ]
  },
  {
   "cell_type": "code",
   "execution_count": 2,
   "id": "358eb508",
   "metadata": {},
   "outputs": [
    {
     "name": "stdout",
     "output_type": "stream",
     "text": [
      "Match found!\n"
     ]
    }
   ],
   "source": [
    "# re.search()\n",
    "import re\n",
    "\n",
    "pattern = r'apple'\n",
    "text = 'I have an apple and a banana'\n",
    "\n",
    "match = re.search(pattern, text)\n",
    "if match:\n",
    "    print(\"Match found!\")\n",
    "else:\n",
    "    print(\"No match found.\")\n"
   ]
  },
  {
   "cell_type": "markdown",
   "id": "babed21c",
   "metadata": {},
   "source": [
    "#### Q7. What is the difference between using a vertical bar (|) as an alteration and using square brackets as a character set?\n",
    "**Ans:**  The vertical bar (|) is used for alternation, allowing multiple alternative patterns to be matched, while square brackets ([]) define a character set, matching any single character from the specified set. The vertical bar operates at the pattern level, while square brackets operate at the character level."
   ]
  },
  {
   "cell_type": "markdown",
   "id": "aad2feb4",
   "metadata": {},
   "source": [
    "#### Q8. In regular-expression search patterns, why is it necessary to use the raw-string indicator (r)? In   replacement strings?\n",
    "**Ans:** Using the raw-string indicator (r) in regular expression search patterns and replacement strings ensures that backslashes are interpreted correctly, avoiding the need for excessive escaping and making the code more readable and maintainable."
   ]
  }
 ],
 "metadata": {
  "kernelspec": {
   "display_name": "Python 3 (ipykernel)",
   "language": "python",
   "name": "python3"
  },
  "language_info": {
   "codemirror_mode": {
    "name": "ipython",
    "version": 3
   },
   "file_extension": ".py",
   "mimetype": "text/x-python",
   "name": "python",
   "nbconvert_exporter": "python",
   "pygments_lexer": "ipython3",
   "version": "3.10.9"
  }
 },
 "nbformat": 4,
 "nbformat_minor": 5
}
