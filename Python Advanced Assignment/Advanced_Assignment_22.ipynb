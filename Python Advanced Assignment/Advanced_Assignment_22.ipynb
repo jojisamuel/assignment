{
 "cells": [
  {
   "cell_type": "markdown",
   "id": "478225ca",
   "metadata": {},
   "source": [
    "# Assignment 22 Solutions"
   ]
  },
  {
   "cell_type": "markdown",
   "id": "81a1c047",
   "metadata": {},
   "source": [
    "#### Q1. What are the benefits of the built-in array package, if any?\n",
    "**Ans:** The built-in array package in Python offers several benefits for working with arrays of homogeneous data types. Its advantages include compact memory storage, fast access and manipulation of array elements, efficient numerical operations, interoperability with low-level languages, and support for serialized data storage. It provides a lightweight and efficient solution for basic array storage and manipulation tasks. However, for more advanced numerical computations and multidimensional arrays, specialized libraries like NumPy may be more suitable."
   ]
  },
  {
   "cell_type": "markdown",
   "id": "72b97146",
   "metadata": {},
   "source": [
    "#### Q2. What are some of the array package's limitations ?\n",
    "**Ans:**  The built-in array package in Python has several limitations compared to specialized libraries like NumPy. These limitations include its limited functionality, as it lacks advanced mathematical functions, multidimensional array support, and complex operations commonly used in scientific computing and data analysis. The array package requires arrays to have a homogeneous data type and has limited support for advanced indexing and slicing operations. While it provides efficient memory storage, it may not offer the same level of performance optimizations as NumPy. Additionally, the array package lacks the extensive ecosystem and community support that libraries like NumPy have. Overall, the array package is more suitable for basic array storage and manipulation tasks, while specialized libraries like NumPy offer more advanced features and optimizations."
   ]
  },
  {
   "cell_type": "markdown",
   "id": "fd6c2a9b",
   "metadata": {},
   "source": [
    "#### Q3. Describe the main differences between the array and numpy packages ?\n",
    "**Ans:**  The main differences between the array package and the numpy package can be summarized as follows:\n",
    "\n",
    "   `Functionality`: The array package provides basic array storage and manipulation operations, while NumPy offers a wide range of functionality for multidimensional arrays, advanced mathematical operations, linear algebra, and more.\n",
    "\n",
    "   `Data types`: The array package supports homogeneous data types, whereas NumPy supports both homogeneous and heterogeneous data types, offering greater flexibility in representing and manipulating data.\n",
    "\n",
    "   `Performance`: NumPy is known for its high-performance capabilities due to its efficient C-based implementation and optimized algorithms. It offers vectorized operations for faster execution, while the array package may not have the same level of performance optimizations.\n",
    "\n",
    "   `Array manipulation`: NumPy provides extensive functionality for array manipulation, including advanced indexing, slicing, reshaping, and concatenation. The array package has more limited support for these operations."
   ]
  },
  {
   "cell_type": "markdown",
   "id": "17049af0",
   "metadata": {},
   "source": [
    "#### Q4. Explain the distinctions between the empty, ones, and zeros functions ?\n",
    "**Ans:** The distinctions between the `empty`, `ones`, and `zero` functions are as follows :  \n",
    "- `Empty function:` An empty function is a function that does not contain any statement within its body. If you try to write a function definition without any statement in python ,it will return an error. To avoid this, we use pass statement. pass is a special statement in Python that does nothing. It only works as a dummy statement.  \n",
    "- `Ones:` This function returns a new array of given shape and data type, where the element’s value is 1.  \n",
    "- `Zeros:` This function returns a new array of given shape and data type, where the element’s value is 0.  "
   ]
  },
  {
   "cell_type": "markdown",
   "id": "59182103",
   "metadata": {},
   "source": [
    "#### Q5. In the fromfunction function, which is used to construct new arrays, what is the role of the callable argument ?\n",
    "**Ans:**  In the fromfunction function of NumPy, the callable argument refers to a function or callable object that is used to compute the values of the elements in the new array being constructed. It is a function that takes the indices of the array as input and returns the corresponding value.\n",
    "\n",
    "The fromfunction function constructs a new array by applying the provided callable to each index tuple of the array. The callable is called with N parameters, where N is the number of dimensions of the array. These parameters correspond to the indices of the array along each dimension."
   ]
  },
  {
   "cell_type": "markdown",
   "id": "82a330ed",
   "metadata": {},
   "source": [
    "#### Q6. What happens when a numpy array is combined with a single-value operand (a scalar, such as an int or a floating-point value) through addition, as in the expression `A + n` ?\n",
    "**Ans:** When a NumPy array is combined with a single-value operand (scalar) through addition or other arithmetic operations, NumPy performs element-wise operations. The scalar value is broadcasted to match the shape of the array, and the operation is applied element-wise between the corresponding elements. The result is a new array with the same shape as the original array, where each element is the result of the operation between the corresponding element of the array and the scalar value. This allows for efficient element-wise computations on arrays with different shapes."
   ]
  },
  {
   "cell_type": "markdown",
   "id": "12e37586",
   "metadata": {},
   "source": [
    "#### Q7. Can array-to-scalar operations use combined operation-assign operators (such as += or *=)? What is the outcome ?\n",
    "**Ans:** The combined operation-assign operators (+=, -=, *=, /=, etc.) can be used with scalar values and NumPy arrays.When a combined operation-assign operator is used with an array and a scalar, the operation is applied element-wise between the array and the scalar, and the result is assigned back to the array."
   ]
  },
  {
   "cell_type": "code",
   "execution_count": 6,
   "id": "86a29567",
   "metadata": {},
   "outputs": [
    {
     "name": "stdout",
     "output_type": "stream",
     "text": [
      "[6 7 8]\n"
     ]
    }
   ],
   "source": [
    "import numpy as np\n",
    "\n",
    "A = np.array([1, 2, 3])\n",
    "n = 5\n",
    "\n",
    "A += n\n",
    "print(A)"
   ]
  },
  {
   "cell_type": "markdown",
   "id": "f9687fd2",
   "metadata": {},
   "source": [
    "#### Q8. Does a numpy array contain fixed-length strings? What happens if you allocate a longer string to one of these arrays ?\n",
    "**Ans:** : Yes, it is possible that we can include a string of fixed length in numpy array. The dtype of any numpy array containing string values is the maximum length of any string present in the array.Once set, it will only be able to store new string having length not more than the maximum length at the time of the creation. If we try to reassign some another string value having length greater than the maximum length of the existing elements, it simply discards all the values beyond the maximum length accept upto those values which are under the limit."
   ]
  },
  {
   "cell_type": "markdown",
   "id": "d5da8bbe",
   "metadata": {},
   "source": [
    "#### Q9. What happens when you combine two numpy arrays using an operation like addition (+) or multiplication (*)? What are the conditions for combining two numpy arrays ?\n",
    "**Ans:** When combining two NumPy arrays using operations like addition or multiplication, NumPy performs element-wise operations between the corresponding elements of the arrays. The arrays must have the same number of dimensions and compatible shapes for the operation to be successful. Compatible shapes are those that either match along each dimension or have a size of 1 along that dimension, allowing broadcasting. If the arrays have different shapes that are not compatible, a ValueError is raised. Once the arrays satisfy these conditions, the element-wise operation is applied, resulting in a new array with the same shape as the input arrays. "
   ]
  },
  {
   "cell_type": "markdown",
   "id": "d350b416",
   "metadata": {},
   "source": [
    "#### Q10. What is the best way to use a Boolean array to mask another array ?\n",
    "**Ans:** Using the Boolean array as an index, we can efficiently mask the elements of the original array based on the Boolean values. This approach provides a concise and flexible way to filter and extract specific elements from an array."
   ]
  },
  {
   "cell_type": "code",
   "execution_count": 7,
   "id": "dfc62587",
   "metadata": {},
   "outputs": [
    {
     "name": "stdout",
     "output_type": "stream",
     "text": [
      "[1 3]\n"
     ]
    }
   ],
   "source": [
    "import numpy as np\n",
    "\n",
    "# Original array\n",
    "original_array = np.array([1, 2, 3, 4, 5])\n",
    "\n",
    "# Boolean mask\n",
    "mask = np.array([True, False, True, False, False])\n",
    "\n",
    "# Masking the original array\n",
    "masked_array = original_array[mask]\n",
    "\n",
    "print(masked_array)"
   ]
  },
  {
   "cell_type": "markdown",
   "id": "b5401443",
   "metadata": {},
   "source": [
    "#### Q11. What are three different ways to get the standard deviation of a wide collection of data using both standard Python and its packages? Sort the three of them by how quickly they execute ?\n",
    "**Ans:** `NumPy` Package (Fastest): Using the numpy package's numpy.std() function provides the fastest and most efficient way to calculate the standard deviation. It operates on arrays and offers optimized computations for numerical data.\n",
    "\n",
    "   `Statistics` Package: The statistics package, available in the Python standard library, provides the statistics.stdev() function. It offers a straightforward method to calculate the standard deviation and is suitable for general-purpose statistical computations.\n",
    "\n",
    "   `Standard` Python (without packages): In situations where external packages are not accessible or preferred, the standard deviation can be calculated manually in Python. This involves computing the mean and variance of the dataset and then taking the square root of the variance to obtain the standard deviation."
   ]
  },
  {
   "cell_type": "code",
   "execution_count": 15,
   "id": "0bc49f3e",
   "metadata": {},
   "outputs": [
    {
     "name": "stdout",
     "output_type": "stream",
     "text": [
      "1.5811388300841898\n"
     ]
    }
   ],
   "source": [
    "# NumPy Package\n",
    "import numpy as np\n",
    "\n",
    "data = [1, 2, 3, 4, 5]\n",
    "std_dev = np.std(data, ddof=1)\n",
    "\n",
    "print(std_dev)"
   ]
  },
  {
   "cell_type": "code",
   "execution_count": 16,
   "id": "9913bba4",
   "metadata": {},
   "outputs": [
    {
     "name": "stdout",
     "output_type": "stream",
     "text": [
      "1.5811388300841898\n"
     ]
    }
   ],
   "source": [
    "# Statistics Package\n",
    "import statistics\n",
    "\n",
    "data = [1, 2, 3, 4, 5]\n",
    "std_dev = statistics.stdev(data)\n",
    "\n",
    "print(std_dev)"
   ]
  },
  {
   "cell_type": "code",
   "execution_count": 17,
   "id": "d8e5ba56",
   "metadata": {},
   "outputs": [
    {
     "name": "stdout",
     "output_type": "stream",
     "text": [
      "1.5811388300841898\n"
     ]
    }
   ],
   "source": [
    "# Standard Python (without packages)\n",
    "import statistics\n",
    "\n",
    "data = [1, 2, 3, 4, 5]\n",
    "std_dev = statistics.stdev(data)\n",
    "\n",
    "print(std_dev)"
   ]
  },
  {
   "cell_type": "markdown",
   "id": "2c49864a",
   "metadata": {},
   "source": [
    "#### 12. What is the dimensionality of a Boolean mask-generated array ?\n",
    "**Ans:**  The dimensionality of a Boolean mask-generated array will be the same as the original array, but with some elements masked, resulting in a reduction of size along the masked dimensions."
   ]
  }
 ],
 "metadata": {
  "kernelspec": {
   "display_name": "Python 3 (ipykernel)",
   "language": "python",
   "name": "python3"
  },
  "language_info": {
   "codemirror_mode": {
    "name": "ipython",
    "version": 3
   },
   "file_extension": ".py",
   "mimetype": "text/x-python",
   "name": "python",
   "nbconvert_exporter": "python",
   "pygments_lexer": "ipython3",
   "version": "3.10.9"
  }
 },
 "nbformat": 4,
 "nbformat_minor": 5
}
