{
 "cells": [
  {
   "cell_type": "markdown",
   "id": "3ab5fdac",
   "metadata": {},
   "source": [
    "# Assignment 04 Solutions"
   ]
  },
  {
   "cell_type": "markdown",
   "id": "0126a4c0",
   "metadata": {},
   "source": [
    "#### Q1. Which two operator overloading methods can you use in your classes to support iteration?\n",
    "**Ans:** To support iteration in Python classes, you can use two operator overloading methods:\n",
    "\n",
    "    __iter__(self) : Implementing this method allows class to be an iterable. It should return an iterator object, typically self in most cases. This method is called when the iter() function is invoked on an instance of your class or when a loop is executed over your class object.\n",
    "\n",
    "    __next__(self) : Implementing this method defines the iteration behavior. It should return the next item in the iteration sequence. If there are no more items to iterate, it should raise the StopIteration exception. This method is called repeatedly by the loop or the next() function to retrieve successive items during iteration."
   ]
  },
  {
   "cell_type": "code",
   "execution_count": 1,
   "id": "cbd25fd0",
   "metadata": {},
   "outputs": [
    {
     "name": "stdout",
     "output_type": "stream",
     "text": [
      "0\n",
      "1\n",
      "2\n",
      "3\n",
      "4\n"
     ]
    }
   ],
   "source": [
    "class MyIterator:\n",
    "    def __init__(self, limit):\n",
    "        self.limit = limit\n",
    "        self.current = 0\n",
    "\n",
    "    def __iter__(self):\n",
    "        return self\n",
    "\n",
    "    def __next__(self):\n",
    "        if self.current < self.limit:\n",
    "            value = self.current\n",
    "            self.current += 1\n",
    "            return value\n",
    "        else:\n",
    "            raise StopIteration\n",
    "\n",
    "# Creating an instance of MyIterator and iterating over it\n",
    "my_iter = MyIterator(5)\n",
    "for item in my_iter:\n",
    "    print(item)\n"
   ]
  },
  {
   "cell_type": "markdown",
   "id": "8776c86d",
   "metadata": {},
   "source": [
    "#### Q2. In what contexts do the two operator overloading methods manage printing?\n",
    "**Ans:** The two operator overloading methods that manage printing in Python classes are:\n",
    "\n",
    " `__str__()` is used when you want a human-readable string representation of an object.It is typically used for general display purposes. For example, when you print an object using the print() function or concatenate it with a string, the __str__() method is called to retrieve the string representation.\n",
    "\n",
    "  `__repr__()` is used when you want an unambiguous representation of an object for debugging or recreation purposes. It is typically used to provide detailed information about an object's state. When you use the repr() function or directly type the object's name in the Python shell, the __repr__() method is called to retrieve the representation."
   ]
  },
  {
   "cell_type": "code",
   "execution_count": 2,
   "id": "030f4750",
   "metadata": {},
   "outputs": [
    {
     "name": "stdout",
     "output_type": "stream",
     "text": [
      "Point(2, 3)\n",
      "Point(x=2, y=3)\n"
     ]
    },
    {
     "data": {
      "text/plain": [
       "Point(x=2, y=3)"
      ]
     },
     "execution_count": 2,
     "metadata": {},
     "output_type": "execute_result"
    }
   ],
   "source": [
    "class Point:\n",
    "    def __init__(self, x, y):\n",
    "        self.x = x\n",
    "        self.y = y\n",
    "\n",
    "    def __str__(self):\n",
    "        return f\"Point({self.x}, {self.y})\"\n",
    "\n",
    "    def __repr__(self):\n",
    "        return f\"Point(x={self.x}, y={self.y})\"\n",
    "\n",
    "# Creating an instance of the Point class\n",
    "point = Point(2, 3)\n",
    "\n",
    "# Printing the object using print()\n",
    "print(point)\n",
    "\n",
    "# Printing the object using repr()\n",
    "print(repr(point))\n",
    "\n",
    "# Printing the object directly in the Python shell\n",
    "point\n"
   ]
  },
  {
   "cell_type": "markdown",
   "id": "19ade77e",
   "metadata": {},
   "source": [
    "#### Q3. In a class, how do you intercept slice operations?\n",
    "**Ans:** To intercept slice operations in a class, you can implement the `__getitem__()` method. This method allows you to customize the behavior when accessing elements of an object using square brackets ([]) with slice notation.\n",
    "\n",
    "The `__getitem__()` method takes the index or slice object as an argument and should return the corresponding element(s) based on the provided index or slice."
   ]
  },
  {
   "cell_type": "code",
   "execution_count": 3,
   "id": "d5de9c12",
   "metadata": {},
   "outputs": [
    {
     "name": "stdout",
     "output_type": "stream",
     "text": [
      "World\n",
      "H\n"
     ]
    }
   ],
   "source": [
    "class MyString:\n",
    "    def __init__(self, text):\n",
    "        self.text = text\n",
    "\n",
    "    def __getitem__(self, index):\n",
    "        return self.text[index]\n",
    "\n",
    "# Creating an instance of MyString\n",
    "my_string = MyString(\"Hello, World!\")\n",
    "\n",
    "# Accessing elements using slice notation\n",
    "sliced_string = my_string[7:12]\n",
    "print(sliced_string)  # Output: World\n",
    "\n",
    "# Accessing a single character\n",
    "character = my_string[0]\n",
    "print(character)  # Output: H"
   ]
  },
  {
   "cell_type": "markdown",
   "id": "18a97475",
   "metadata": {},
   "source": [
    "#### Q4. In a class, how do you capture in-place addition?\n",
    "**Ans:** To capture in-place addition in a class, you can implement the `__iadd__()` method. This method is called when the += operator is used on an instance of your class. It allows you to define the behavior for in-place addition operations and modify the object in-place.\n",
    "\n",
    "The `__iadd__()` method takes one argument, which is the value to be added to the object. It should modify the object itself and return the modified object."
   ]
  },
  {
   "cell_type": "code",
   "execution_count": 4,
   "id": "979dc21a",
   "metadata": {},
   "outputs": [
    {
     "name": "stdout",
     "output_type": "stream",
     "text": [
      "15\n",
      "7\n"
     ]
    }
   ],
   "source": [
    "class Number:\n",
    "    def __init__(self, value):\n",
    "        self.value = value\n",
    "\n",
    "    def __iadd__(self, other):\n",
    "        self.value += other\n",
    "        return self\n",
    "\n",
    "# Creating an instance of Number\n",
    "num = Number(10)\n",
    "\n",
    "# Performing in-place addition\n",
    "num += 5\n",
    "print(num.value)  \n",
    "\n",
    "# Performing in-place addition with a negative value\n",
    "num += -8\n",
    "print(num.value) \n"
   ]
  },
  {
   "cell_type": "markdown",
   "id": "931b2cb9",
   "metadata": {},
   "source": [
    "#### Q5. When is it appropriate to use operator overloading?\n",
    "**Ans:**  It is appropriate to use operator overloading in situations where we want to make your objects behave like built-in types, simplify syntax, provide domain-specific behavior, or enhance usability. By overloading operators, we can create more intuitive and expressive code, making it easier to work with your custom objects."
   ]
  },
  {
   "cell_type": "code",
   "execution_count": 5,
   "id": "e025ec61",
   "metadata": {},
   "outputs": [
    {
     "name": "stdout",
     "output_type": "stream",
     "text": [
      "15\n",
      "8\n"
     ]
    }
   ],
   "source": [
    "class MyNumber:\n",
    "    def __init__(self, value):\n",
    "        self.value = value\n",
    "\n",
    "    def __add__(self, other):\n",
    "        if isinstance(other, MyNumber):\n",
    "            return MyNumber(self.value + other.value)\n",
    "        elif isinstance(other, int):\n",
    "            return MyNumber(self.value + other)\n",
    "        else:\n",
    "            raise TypeError(\"Unsupported operand type for +\")\n",
    "\n",
    "    def __str__(self):\n",
    "        return str(self.value)\n",
    "\n",
    "# Creating two instances of MyNumber\n",
    "num1 = MyNumber(5)\n",
    "num2 = MyNumber(10)\n",
    "\n",
    "# Adding two MyNumber instances using the + operator\n",
    "result1 = num1 + num2\n",
    "print(result1)  # Output: 15\n",
    "\n",
    "# Adding a MyNumber instance and an integer using the + operator\n",
    "result2 = num1 + 3\n",
    "print(result2)  # Output: 8"
   ]
  }
 ],
 "metadata": {
  "kernelspec": {
   "display_name": "Python 3 (ipykernel)",
   "language": "python",
   "name": "python3"
  },
  "language_info": {
   "codemirror_mode": {
    "name": "ipython",
    "version": 3
   },
   "file_extension": ".py",
   "mimetype": "text/x-python",
   "name": "python",
   "nbconvert_exporter": "python",
   "pygments_lexer": "ipython3",
   "version": "3.10.9"
  }
 },
 "nbformat": 4,
 "nbformat_minor": 5
}
