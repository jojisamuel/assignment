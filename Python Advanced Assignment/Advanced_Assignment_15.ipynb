{
 "cells": [
  {
   "cell_type": "markdown",
   "id": "73b3a980",
   "metadata": {},
   "source": [
    "# Assignment 15 Solutions"
   ]
  },
  {
   "cell_type": "markdown",
   "id": "02d9ed9f",
   "metadata": {},
   "source": [
    "#### 1.\tWhat are the new features added in Python 3.8 version?\n",
    "**Ans:** Python 3.8 introduced several new features and enhancements. The notable additions include:\n",
    "\n",
    "   `Assignment Expressions (Walrus Operator)`: The := operator allows assignment expressions within other expressions, improving readability and conciseness.\n",
    "\n",
    "   `Positional-only Parameters`: Support for specifying positional-only parameters in function signatures, giving better control over parameter passing.\n",
    "\n",
    "   `The math.prod()` Function: A function that calculates the product of a sequence of numbers, simplifying multiplication without explicit looping.\n",
    "\n",
    "   `f-strings Improvements`: Enhanced f-string functionality, including support for the = specifier and more complex expressions inside curly braces.\n",
    "\n",
    "   `Syntax Warning for Unparenthesized yield Expressions`: A warning for unparenthesized yield expressions that are not part of tuple or generator expressions, improving code clarity.\n",
    "\n",
    "   `The statistics Module Enhancements`: Additional functions in the statistics module, expanding statistical calculation capabilities.\n",
    "\n",
    "   `Improved datetime Module`: Enhancements to the datetime module, including new methods for parsing ISO 8601 formatted strings and working with time zones."
   ]
  },
  {
   "cell_type": "markdown",
   "id": "9b49a548",
   "metadata": {},
   "source": [
    "#### 2.\tWhat is monkey patching in Python?\n",
    "**Ans:** Monkey patching in Python refers to the practice of modifying or extending the behavior of existing classes or modules at runtime. It allows adding, replacing, or modifying methods, attributes, or functionalities without altering the original source code. This dynamic modification is possible due to Python's dynamic nature. Monkey patching can be used to add new features, fix bugs, or modify behavior in existing code"
   ]
  },
  {
   "cell_type": "code",
   "execution_count": 1,
   "id": "ee6fa7d3",
   "metadata": {},
   "outputs": [
    {
     "name": "stdout",
     "output_type": "stream",
     "text": [
      "monkey_f() is being called\n"
     ]
    }
   ],
   "source": [
    "class A:\n",
    "    def func(self):\n",
    "        print(\"func() is being called\")\n",
    "\n",
    "def monkey_f(self):\n",
    "    print(\"monkey_f() is being called\")\n",
    "\n",
    "A.func = monkey_f\n",
    "some_object = A()\n",
    "some_object.func()"
   ]
  },
  {
   "cell_type": "markdown",
   "id": "430104b8",
   "metadata": {},
   "source": [
    "#### 3.\tWhat is the difference between a shallow copy and deep copy?\n",
    "**Ans:** The Differences between a Shallow Copy and deep copy are as follows: \n",
    "\n",
    "When an object is copied using **`copy()`**, it is called **shallow copy** as changes made in copied object will also make corresponding changes in original object, because both the objects\n",
    "will be referencing same address location. \n",
    "\n",
    "When an object is copied using **`deepcopy()`**, it is called **deep copy** as changes made in copied object will not make corresponding changes in original object, because both the objects will not be referencing same address location. "
   ]
  },
  {
   "cell_type": "code",
   "execution_count": 5,
   "id": "f53af45e",
   "metadata": {},
   "outputs": [
    {
     "name": "stdout",
     "output_type": "stream",
     "text": [
      "[1, 2, [5, 4]]\n",
      "[1, 2, [5, 4]]\n"
     ]
    }
   ],
   "source": [
    "# shallow_copy\n",
    "import copy\n",
    "\n",
    "original_list = [1, 2, [3, 4]]\n",
    "\n",
    "shallow_copy = copy.copy(original_list)\n",
    "\n",
    "# Modifying the nested list in the shallow copy\n",
    "shallow_copy[2][0] = 5\n",
    "\n",
    "print(original_list)   # Output: [1, 2, [5, 4]]\n",
    "print(shallow_copy)    # Output: [1, 2, [5, 4]]"
   ]
  },
  {
   "cell_type": "code",
   "execution_count": 4,
   "id": "c0f56936",
   "metadata": {},
   "outputs": [
    {
     "name": "stdout",
     "output_type": "stream",
     "text": [
      "[1, 2, [3, 4]]\n",
      "[1, 2, [5, 4]]\n"
     ]
    }
   ],
   "source": [
    "# deep_copy\n",
    "import copy\n",
    "\n",
    "original_list = [1, 2, [3, 4]]\n",
    "\n",
    "deep_copy = copy.deepcopy(original_list)\n",
    "\n",
    "# Modifying the nested list in the deep copy\n",
    "deep_copy[2][0] = 5\n",
    "\n",
    "print(original_list)   # Output: [1, 2, [3, 4]]\n",
    "print(deep_copy)       # Output: [1, 2, [5, 4]]"
   ]
  },
  {
   "cell_type": "markdown",
   "id": "b6b51b48",
   "metadata": {},
   "source": [
    "#### 4.\tWhat is the maximum possible length of an identifier?\n",
    "**Ans:**  In Python, the maximum length of an identifier is 79 characters. This limit is set by the official Python style guide known as PEP 8, which recommends keeping lines of code at most 79 characters long for better readability.\n",
    "\n",
    "While the Python interpreter does not impose a strict limit on identifier length, it is generally considered good practice to adhere to the 79-character guideline for consistency and readability in code."
   ]
  },
  {
   "cell_type": "markdown",
   "id": "726679fd",
   "metadata": {},
   "source": [
    "#### 5.\tWhat is generator comprehension?\n",
    "**Ans:** Generator comprehensions are useful when you need to iterate over a large sequence of elements without storing them all in memory. They are memory-efficient because they generate elements on-the-fly, only when they are requested"
   ]
  },
  {
   "cell_type": "code",
   "execution_count": 6,
   "id": "4abb0aa5",
   "metadata": {},
   "outputs": [
    {
     "name": "stdout",
     "output_type": "stream",
     "text": [
      "0\n",
      "1\n",
      "2\n",
      "3\n",
      "4\n"
     ]
    }
   ],
   "source": [
    "# Creating a generator using generator comprehension\n",
    "my_generator = (x for x in range(5))\n",
    "\n",
    "# Iterating over the generator\n",
    "for num in my_generator:\n",
    "    print(num)"
   ]
  },
  {
   "cell_type": "code",
   "execution_count": null,
   "id": "50a6da50",
   "metadata": {},
   "outputs": [],
   "source": []
  }
 ],
 "metadata": {
  "kernelspec": {
   "display_name": "Python 3 (ipykernel)",
   "language": "python",
   "name": "python3"
  },
  "language_info": {
   "codemirror_mode": {
    "name": "ipython",
    "version": 3
   },
   "file_extension": ".py",
   "mimetype": "text/x-python",
   "name": "python",
   "nbconvert_exporter": "python",
   "pygments_lexer": "ipython3",
   "version": "3.10.9"
  }
 },
 "nbformat": 4,
 "nbformat_minor": 5
}
