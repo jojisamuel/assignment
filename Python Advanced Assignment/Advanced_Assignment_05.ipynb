{
 "cells": [
  {
   "cell_type": "markdown",
   "id": "a8e2fc40",
   "metadata": {},
   "source": [
    "# Assignment 05 Solutions"
   ]
  },
  {
   "cell_type": "markdown",
   "id": "3ae2f846",
   "metadata": {},
   "source": [
    "#### Q1. What is the meaning of multiple inheritance?\n",
    "**Ans:** Multiple inheritance allows a class to inherit attributes and behaviors from multiple parent classes. In other words, a class can inherit from more than one superclass, acquiring the characteristics of all those superclasses."
   ]
  },
  {
   "cell_type": "code",
   "execution_count": 1,
   "id": "e8567eae",
   "metadata": {},
   "outputs": [
    {
     "name": "stdout",
     "output_type": "stream",
     "text": [
      "Method 1 from Parent1\n",
      "Method 2 from Parent2\n",
      "Method 3 from Child\n"
     ]
    }
   ],
   "source": [
    "class Parent1:\n",
    "    def method1(self):\n",
    "        print(\"Method 1 from Parent1\")\n",
    "\n",
    "class Parent2:\n",
    "    def method2(self):\n",
    "        print(\"Method 2 from Parent2\")\n",
    "\n",
    "class Child(Parent1, Parent2):\n",
    "    def method3(self):\n",
    "        print(\"Method 3 from Child\")\n",
    "\n",
    "# Creating an instance of Child\n",
    "child = Child()\n",
    "\n",
    "# Accessing methods from Parent1 and Parent2\n",
    "child.method1()  # Output: Method 1 from Parent1\n",
    "child.method2()  # Output: Method 2 from Parent2\n",
    "child.method3()  # Output: Method 3 from Child\n"
   ]
  },
  {
   "cell_type": "markdown",
   "id": "38440f4c",
   "metadata": {},
   "source": [
    "#### Q2. What is the concept of delegation?\n",
    "**Ans:** Delegation in object-oriented programming is the practice of one object (delegate) assigning a specific task to another object (delegatee). Instead of directly implementing the task, the delegating object forwards the responsibility to the delegatee object, which is responsible for carrying out the task. Delegation promotes code reuse, modularity, and flexible class designs by allowing objects to collaborate and divide responsibilities. It is a way to achieve composition over inheritance and enables objects to rely on the behavior of other objects without being tightly coupled to their implementation."
   ]
  },
  {
   "cell_type": "code",
   "execution_count": 2,
   "id": "d57e9c12",
   "metadata": {},
   "outputs": [
    {
     "name": "stdout",
     "output_type": "stream",
     "text": [
      "Waiter serves the dish.\n",
      "Chef prepares the dish.\n"
     ]
    }
   ],
   "source": [
    "class Chef:\n",
    "    def prepare_dish(self):\n",
    "        print(\"Chef prepares the dish.\")\n",
    "\n",
    "class Waiter:\n",
    "    def __init__(self, chef):\n",
    "        self.chef = chef\n",
    "\n",
    "    def serve_dish(self):\n",
    "        print(\"Waiter serves the dish.\")\n",
    "        self.chef.prepare_dish()\n",
    "\n",
    "# Creating instances of Chef and Waiter\n",
    "chef = Chef()\n",
    "waiter = Waiter(chef)\n",
    "\n",
    "# Waiter delegates the task to the Chef\n",
    "waiter.serve_dish()\n"
   ]
  },
  {
   "cell_type": "markdown",
   "id": "4600a4d4",
   "metadata": {},
   "source": [
    "#### Q3. What is the concept of composition?\n",
    "**Ans:** Composition, in object-oriented programming, refers to the practice of constructing complex objects by assembling or composing simpler objects. It involves creating instances of other classes as components or attributes within a class, establishing a \"has-a\" relationship between the containing object and the contained objects.\n",
    "\n",
    "Composition enables code reuse, modularity, and flexibility in software design by breaking down complex functionalities into smaller, reusable components. Rather than relying on inheritance, composition allows objects to collaborate by combining their capabilities through composition relationships."
   ]
  },
  {
   "cell_type": "code",
   "execution_count": 3,
   "id": "7e779e32",
   "metadata": {},
   "outputs": [
    {
     "name": "stdout",
     "output_type": "stream",
     "text": [
      "Car started.\n",
      "Engine started.\n",
      "Car stopped.\n",
      "Engine stopped.\n"
     ]
    }
   ],
   "source": [
    "class Engine:\n",
    "    def start(self):\n",
    "        print(\"Engine started.\")\n",
    "\n",
    "    def stop(self):\n",
    "        print(\"Engine stopped.\")\n",
    "\n",
    "class Car:\n",
    "    def __init__(self):\n",
    "        self.engine = Engine()\n",
    "\n",
    "    def start(self):\n",
    "        print(\"Car started.\")\n",
    "        self.engine.start()\n",
    "\n",
    "    def stop(self):\n",
    "        print(\"Car stopped.\")\n",
    "        self.engine.stop()\n",
    "\n",
    "# Creating a Car instance\n",
    "car = Car()\n",
    "\n",
    "# Starting and stopping the Car\n",
    "car.start()\n",
    "car.stop()"
   ]
  },
  {
   "cell_type": "markdown",
   "id": "ce7913c2",
   "metadata": {},
   "source": [
    "#### Q4. What are bound methods and how do we use them?\n",
    "**Ans:** Bound methods in Python are methods that are associated with an instance of a class. They are used to access and manipulate the specific data of an instance. When a bound method is called on an instance, the instance is automatically passed as the first argument, commonly referred to as self.\n",
    "\n",
    "To utilize a bound method, you simply invoke it on an instance of the class. The method can access and modify the instance's attributes and perform operations based on its specific data."
   ]
  },
  {
   "cell_type": "code",
   "execution_count": 6,
   "id": "dc8b18a8",
   "metadata": {},
   "outputs": [
    {
     "name": "stdout",
     "output_type": "stream",
     "text": [
      "314.0\n",
      "452.16\n"
     ]
    }
   ],
   "source": [
    "class Circle:\n",
    "    def __init__(self, radius):\n",
    "        self.radius = radius\n",
    "\n",
    "    def get_area(self):\n",
    "        return 3.14 * self.radius ** 2\n",
    "\n",
    "    def increase_radius(self, increment):\n",
    "        self.radius += increment\n",
    "\n",
    "# Creating an instance of Circle\n",
    "circle = Circle(10)\n",
    "\n",
    "# Invoking the bound methods on the instance\n",
    "print(circle.get_area()) \n",
    "circle.increase_radius(2)\n",
    "print(circle.get_area()) "
   ]
  },
  {
   "cell_type": "markdown",
   "id": "04f059af",
   "metadata": {},
   "source": [
    "#### Q5. What is the purpose of pseudoprivate attributes?\n",
    "**Ans:** Pseudoprivate attributes in Python serve the purpose of providing a degree of encapsulation by making class attributes less accessible from outside the class. These attributes are identified by using a double underscore prefix `(__)` before their names.\n",
    "The primary objective of pseudoprivate attributes is to discourage accidental access or modification from external code. By utilizing the double underscore prefix, it signals to other developers that the attribute is intended for internal use within the class and should not be directly accessed."
   ]
  },
  {
   "cell_type": "code",
   "execution_count": 8,
   "id": "6710d4ea",
   "metadata": {},
   "outputs": [
    {
     "name": "stdout",
     "output_type": "stream",
     "text": [
      "I'm a secret!\n",
      "Modified secret\n",
      "This is a hidden method.\n"
     ]
    }
   ],
   "source": [
    "class MyClass:\n",
    "    def __init__(self):\n",
    "        self.__secret = \"I'm a secret!\"\n",
    "\n",
    "    def get_secret(self):\n",
    "        return self.__secret\n",
    "\n",
    "    def __hidden_method(self):\n",
    "        print(\"This is a hidden method.\")\n",
    "\n",
    "# Creating an instance of MyClass\n",
    "obj = MyClass()\n",
    "\n",
    "# Accessing the pseudoprivate attribute\n",
    "print(obj.get_secret())  # Output: I'm a secret!\n",
    "\n",
    "# Modifying the pseudoprivate attribute\n",
    "obj._MyClass__secret = \"Modified secret\"\n",
    "print(obj.get_secret())  # Output: Modified secret\n",
    "\n",
    "# Calling the pseudoprivate method\n",
    "obj._MyClass__hidden_method()  # Output: This is a hidden method."
   ]
  }
 ],
 "metadata": {
  "kernelspec": {
   "display_name": "Python 3 (ipykernel)",
   "language": "python",
   "name": "python3"
  },
  "language_info": {
   "codemirror_mode": {
    "name": "ipython",
    "version": 3
   },
   "file_extension": ".py",
   "mimetype": "text/x-python",
   "name": "python",
   "nbconvert_exporter": "python",
   "pygments_lexer": "ipython3",
   "version": "3.10.9"
  }
 },
 "nbformat": 4,
 "nbformat_minor": 5
}
