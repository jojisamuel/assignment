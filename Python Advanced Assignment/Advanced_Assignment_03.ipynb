{
 "cells": [
  {
   "cell_type": "markdown",
   "id": "61227f62",
   "metadata": {},
   "source": [
    "# Assignment 03 Solutions"
   ]
  },
  {
   "cell_type": "markdown",
   "id": "e15c0a30",
   "metadata": {},
   "source": [
    "#### 1. What is the concept of an abstract superclass?\n",
    "**Ans:**  An abstract superclass refers to a class that is designed to be inherited by other classes but cannot be instantiated directly. It serves as a blueprint or template for its subclasses, providing common attributes, methods, and behavior that can be shared among multiple related classes.\n",
    "\n",
    "The abstract superclass is defined using the abc module in Python, which stands for \"Abstract Base Classes.\" This module provides the ABC class as a base class for defining abstract superclasses."
   ]
  },
  {
   "cell_type": "code",
   "execution_count": 1,
   "id": "2007ad4c",
   "metadata": {},
   "outputs": [
    {
     "name": "stdout",
     "output_type": "stream",
     "text": [
      "18\n",
      "78.5\n"
     ]
    }
   ],
   "source": [
    "from abc import ABC, abstractmethod\n",
    "\n",
    "class Shape(ABC):\n",
    "    @abstractmethod\n",
    "    def area(self):\n",
    "        pass\n",
    "\n",
    "class Rectangle(Shape):\n",
    "    def __init__(self, length, width):\n",
    "        self.length = length\n",
    "        self.width = width\n",
    "    \n",
    "    def area(self):\n",
    "        return self.length * self.width\n",
    "\n",
    "class Circle(Shape):\n",
    "    def __init__(self, radius):\n",
    "        self.radius = radius\n",
    "    \n",
    "    def area(self):\n",
    "        return 3.14 * self.radius * self.radius\n",
    "\n",
    "rectangle = Rectangle(6, 3)\n",
    "print(rectangle.area())  \n",
    "\n",
    "circle = Circle(5)\n",
    "print(circle.area())  \n"
   ]
  },
  {
   "cell_type": "markdown",
   "id": "f8f0f8a4",
   "metadata": {},
   "source": [
    "#### 2. What happens when a class statement's top level contains a basic assignment statement?\n",
    "**Ans:** When a class statement's top level contains a basic assignment statement, the assignment statement is executed immediately and creates a class-level attribute. This attribute will be shared by all instances of the class and can be accessed using either the class name or the instance name"
   ]
  },
  {
   "cell_type": "code",
   "execution_count": 2,
   "id": "7d537032",
   "metadata": {},
   "outputs": [
    {
     "name": "stdout",
     "output_type": "stream",
     "text": [
      "Homo sapiens\n",
      "Homo sapiens\n",
      "Homo sapiens\n",
      "Ravi\n",
      "30\n"
     ]
    }
   ],
   "source": [
    "class Person:\n",
    "    species = \"Homo sapiens\"\n",
    "\n",
    "    def __init__(self, name, age):\n",
    "        self.name = name\n",
    "        self.age = age\n",
    "\n",
    "# Accessing class attribute using class name\n",
    "print(Person.species)  # Output: Homo sapiens\n",
    "\n",
    "# Creating person instances\n",
    "person1 = Person(\"Ravi\", 25)\n",
    "person2 = Person(\"Vinod\", 30)\n",
    "\n",
    "# Accessing class attribute using instances\n",
    "print(person1.species)  # Output: Homo sapiens\n",
    "print(person2.species)  # Output: Homo sapiens\n",
    "\n",
    "# Accessing instance attributes\n",
    "print(person1.name)  # Output: Ravi\n",
    "print(person2.age)  # Output: 30\n"
   ]
  },
  {
   "cell_type": "markdown",
   "id": "5b406990",
   "metadata": {},
   "source": [
    "#### 3. Why does a class need to manually call a superclass's __init__ method?\n",
    "**Ans:** A class needs to manually call a superclass's __init__ method when it overrides the __init__ method of the superclass and wants to retain the initialization behavior of the superclass in addition to adding its own custom initialization logic.\n",
    "\n",
    "When a subclass overrides the __init__ method, the superclass's __init__ method is not automatically called. If the superclass's initialization logic is necessary for the proper initialization of the subclass, it needs to be explicitly invoked using the super() function within the subclass's __init__ method."
   ]
  },
  {
   "cell_type": "code",
   "execution_count": 3,
   "id": "96069767",
   "metadata": {},
   "outputs": [
    {
     "name": "stdout",
     "output_type": "stream",
     "text": [
      "Buddy\n",
      "Labrador\n",
      "Buddy is eating.\n",
      "Woof!\n"
     ]
    }
   ],
   "source": [
    "class Animal:\n",
    "    def __init__(self, name):\n",
    "        self.name = name\n",
    "\n",
    "    def eat(self):\n",
    "        print(f\"{self.name} is eating.\")\n",
    "\n",
    "class Dog(Animal):\n",
    "    def __init__(self, name, breed):\n",
    "        self.breed = breed\n",
    "        # Calling superclass's __init__ method to initialize name attribute\n",
    "        super().__init__(name)\n",
    "\n",
    "    def bark(self):\n",
    "        print(\"Woof!\")\n",
    "\n",
    "dog = Dog(\"Buddy\", \"Labrador\")\n",
    "print(dog.name)  # Output: Buddy\n",
    "print(dog.breed)  # Output: Labrador\n",
    "dog.eat()  # Output: Buddy is eating.\n",
    "dog.bark()  # Output: Woof!"
   ]
  },
  {
   "cell_type": "markdown",
   "id": "8f394305",
   "metadata": {},
   "source": [
    "#### 4. How can you augment, instead of completely replacing, an inherited method?\n",
    "**Ans:** To augment, or extend, an inherited method instead of completely replacing it, you can override the method in the subclass and call the superclass's version of the method using the super() function. This allows you to add additional functionality before or after invoking the superclass's method."
   ]
  },
  {
   "cell_type": "code",
   "execution_count": 4,
   "id": "26eae67e",
   "metadata": {},
   "outputs": [
    {
     "name": "stdout",
     "output_type": "stream",
     "text": [
      "Dog barks.\n",
      "Animal makes a sound.\n"
     ]
    }
   ],
   "source": [
    "class Animal:\n",
    "    def make_sound(self):\n",
    "        print(\"Animal makes a sound.\")\n",
    "\n",
    "class Dog(Animal):\n",
    "    def make_sound(self):\n",
    "        print(\"Dog barks.\")\n",
    "        super().make_sound()  # Call superclass's make_sound method\n",
    "\n",
    "dog = Dog()\n",
    "dog.make_sound()"
   ]
  },
  {
   "cell_type": "markdown",
   "id": "2d648560",
   "metadata": {},
   "source": [
    "#### 5. How is the local scope of a class different from that of a function?\n",
    "**Ans:**  The local scope of a class and a function differ in terms of accessibility, lifetime, visibility, namespace, and statefulness. Classes provide a broader scope and longer lifespan for attributes and methods, allowing for shared state and accessibility across methods, while function local variables are limited to the specific function call and have a shorter lifespan."
   ]
  },
  {
   "cell_type": "code",
   "execution_count": 12,
   "id": "e97b7795",
   "metadata": {},
   "outputs": [
    {
     "name": "stdout",
     "output_type": "stream",
     "text": [
      "Hi, my name is Josh S and I work at ABC Corp.\n",
      "Goodbye from EVL Corp!\n"
     ]
    }
   ],
   "source": [
    "class Employee:\n",
    "    company_name = \"ABC Corp\"\n",
    "\n",
    "    def __init__(self, name):\n",
    "        self.name = name\n",
    "\n",
    "    def introduce(self):\n",
    "        intro_message = f\"Hi, my name is {self.name} and I work at {self.company_name}.\"\n",
    "        print(intro_message)\n",
    "\n",
    "employee = Employee(\"Josh S\")\n",
    "employee.introduce()\n",
    "\n",
    "def farewell():\n",
    "    company_name = \"EVL Corp\"\n",
    "    farewell_message = f\"Goodbye from {company_name}!\"\n",
    "    print(farewell_message)\n",
    "\n",
    "farewell()"
   ]
  }
 ],
 "metadata": {
  "kernelspec": {
   "display_name": "Python 3 (ipykernel)",
   "language": "python",
   "name": "python3"
  },
  "language_info": {
   "codemirror_mode": {
    "name": "ipython",
    "version": 3
   },
   "file_extension": ".py",
   "mimetype": "text/x-python",
   "name": "python",
   "nbconvert_exporter": "python",
   "pygments_lexer": "ipython3",
   "version": "3.10.9"
  }
 },
 "nbformat": 4,
 "nbformat_minor": 5
}
