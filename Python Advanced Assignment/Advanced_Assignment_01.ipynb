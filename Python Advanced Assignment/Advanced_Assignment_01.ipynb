{
 "cells": [
  {
   "cell_type": "markdown",
   "id": "f539b01e",
   "metadata": {},
   "source": [
    "# Assignment 01 Solutions"
   ]
  },
  {
   "cell_type": "markdown",
   "id": "942401c5",
   "metadata": {},
   "source": [
    "#### Q1. What is the purpose of Python's OOP?\n",
    "**Ans:** The purpose of Python's Object-Oriented Programming (OOP) is to allow developers to create reusable and modular code that models real-world entities, using the concepts of objects and classes.\n",
    "Key benefits of using OOP in Python are\n",
    "\n",
    "    Abstraction : OOP allows developers to create abstract data types that hide implementation details, making it easier to work with complex systems.\n",
    "    \n",
    "    Inheritance : Python's OOP model supports inheritance, which allows developers to create new classes that inherit the attributes and methods of existing classes. This can save time and effort, as code can be reused across multiple classes.\n",
    "    \n",
    "    Polymorphism : OOP in Python supports polymorphism, which allows developers to create functions and methods that can operate on objects of different types. This enables greater flexibility in program design.\n",
    "    \n",
    "    Encapsulation : OOP allows data and functions to be encapsulated within classes, making it easier to manage and maintain code."
   ]
  },
  {
   "cell_type": "markdown",
   "id": "7cfcf3e9",
   "metadata": {},
   "source": [
    "#### Q2. Where does an inheritance search look for an attribute?\n",
    "**Ans:** In Python, when an attribute is accessed on an instance of a class, the interpreter first looks for the attribute within the instance itself. If the attribute is not found in the instance, it then looks for it in the class of the instance. If the attribute is still not found in the class, then it searches the base classes in the order specified by the method resolution order (MRO)."
   ]
  },
  {
   "cell_type": "markdown",
   "id": "096d7b0b",
   "metadata": {},
   "source": [
    "#### Q3. How do you distinguish between a class object and an instance object?\n",
    "**Ans:** In Python, a class object represents a particular class, while an instance object represents a particular instance of that class. The key characteristics that can help distinguish between the two are:\n",
    "\n",
    "    Type: A class object is of type type, while an instance object is of the type of its class.\n",
    "    Attributes: A class object can have both class attributes and instance attributes, while an instance object can only have instance attributes.\n",
    "    Methods: A class object can have class methods, static methods, and instance methods, while an instance object can only have instance methods.\n",
    "    Instantiation: A class object is used to create new instances of the class by calling it as a function, while an instance object is created by calling the constructor of the class."
   ]
  },
  {
   "cell_type": "markdown",
   "id": "fd8cc6bc",
   "metadata": {},
   "source": [
    "#### Q4. What makes the first argument in a class’s method function special?\n",
    "**Ans:** In Python, the first argument in a class's method function is conventionally named self. This argument is special because it refers to the instance object that the method is called on.\n",
    "\n",
    "When a method is called on an instance object, Python automatically passes the instance object as the first argument to the method, and this argument is assigned to self. This allows the method to access and manipulate the instance's attributes and methods."
   ]
  },
  {
   "cell_type": "markdown",
   "id": "94de0426",
   "metadata": {},
   "source": [
    "#### Q5. What is the purpose of the __init__ method?\n",
    "**Ans:** The __init__ method is a special method in Python classes that is called when an instance of the class is created. It is used to initialize the instance's attributes with default values or with the values passed as arguments during object creation.\n",
    "\n",
    "The __init__ method takes the self parameter, which refers to the instance object being created, as well as any other parameters that need to be set during object initialization. These parameters can be used to set instance variables that will hold data specific to each instance of the class."
   ]
  },
  {
   "cell_type": "code",
   "execution_count": 1,
   "id": "a6c46c0f",
   "metadata": {},
   "outputs": [],
   "source": [
    "class Person:\n",
    "    def __init__(self, name, age):\n",
    "        self.name = name\n",
    "        self.age = age\n",
    "        \n",
    "person = Person(\"Adam\", 20)\n"
   ]
  },
  {
   "cell_type": "markdown",
   "id": "3e47943f",
   "metadata": {},
   "source": [
    "#### Q6. What is the process for creating a class instance?\n",
    "**Ans:** To create a class instance, you need to define the class with its attributes and methods, instantiate the class by calling its constructor method with any required arguments, and then assign the resulting instance to a variable."
   ]
  },
  {
   "cell_type": "code",
   "execution_count": 2,
   "id": "8d2c4f1d",
   "metadata": {},
   "outputs": [
    {
     "name": "stdout",
     "output_type": "stream",
     "text": [
      "Beagle\n",
      "Labrador\n"
     ]
    }
   ],
   "source": [
    "# Define a class called Dog\n",
    "class Dog:\n",
    "    def __init__(self, name, breed):\n",
    "        self.name = name\n",
    "        self.breed = breed\n",
    "\n",
    "# Instantiate the Dog class to create a new Dog object\n",
    "my_dog = Dog(\"Beagle\", \"Labrador\")\n",
    "\n",
    "# Access the object's attributes\n",
    "print(my_dog.name) \n",
    "print(my_dog.breed)\n"
   ]
  },
  {
   "cell_type": "markdown",
   "id": "8ddf33a9",
   "metadata": {},
   "source": [
    "#### Q7. What is the process for creating a class?\n",
    "**Ans:** To create a class, you need to choose a name for the class, define the attributes and methods that the class will have, add a constructor method to initialize the object's attributes, and define any other methods that the class will need."
   ]
  },
  {
   "cell_type": "code",
   "execution_count": 5,
   "id": "c61da1ee",
   "metadata": {},
   "outputs": [
    {
     "name": "stdout",
     "output_type": "stream",
     "text": [
      "Engine started.\n"
     ]
    }
   ],
   "source": [
    "# Define a class called Car\n",
    "class Car:\n",
    "    def __init__(self, make, model, year):\n",
    "        self.make = make\n",
    "        self.model = model\n",
    "        self.year = year\n",
    "\n",
    "    def start_engine(self):\n",
    "        print(\"Engine started.\")\n",
    "\n",
    "# Instantiate the Car class to create a new Car object\n",
    "my_car = Car(\"Maruti\", \"Swift\", 2023)\n",
    "\n",
    "# Call the object's method\n",
    "my_car.start_engine() \n"
   ]
  },
  {
   "cell_type": "markdown",
   "id": "b58c55d6",
   "metadata": {},
   "source": [
    "#### Q8. How would you define the superclasses of a class?\n",
    "**Ans** A superclass is a class that another class (called a subclass) inherits from. A subclass can inherit attributes and methods from one or more superclasses, which can save time and reduce redundancy in code.\n",
    "\n",
    "To define the superclasses of a class, you need to include the names of the superclasses in parentheses after the class name when defining the subclass. This is known as subclassing or inheritance."
   ]
  },
  {
   "cell_type": "code",
   "execution_count": 4,
   "id": "8b397a5d",
   "metadata": {},
   "outputs": [
    {
     "name": "stdout",
     "output_type": "stream",
     "text": [
      "Red\n",
      "4\n",
      "Maruti\n",
      "swift\n",
      "2023\n",
      "Vroom!\n"
     ]
    }
   ],
   "source": [
    "# Define a superclass called Vehicle\n",
    "class Vehicle:\n",
    "    def __init__(self, color, num_wheels):\n",
    "        self.color = color\n",
    "        self.num_wheels = num_wheels\n",
    "\n",
    "    def start_engine(self):\n",
    "        print(\"Engine started.\")\n",
    "\n",
    "# Define a subclass called Car that inherits from Vehicle\n",
    "class Car(Vehicle):\n",
    "    def __init__(self, color, num_wheels, make, model, year):\n",
    "        super().__init__(color, num_wheels)\n",
    "        self.make = make\n",
    "        self.model = model\n",
    "        self.year = year\n",
    "\n",
    "    def start_engine(self):\n",
    "        print(\"Vroom!\")\n",
    "\n",
    "# Instantiate the Car class to create a new Car object\n",
    "my_car = Car(\"Red\", 4, \"Maruti\", \"swift\", 2023)\n",
    "\n",
    "# Access the object's attributes\n",
    "print(my_car.color)  \n",
    "print(my_car.num_wheels) \n",
    "print(my_car.make)\n",
    "print(my_car.model)\n",
    "print(my_car.year)\n",
    "\n",
    "# Call the object's method\n",
    "my_car.start_engine() \n"
   ]
  }
 ],
 "metadata": {
  "kernelspec": {
   "display_name": "Python 3 (ipykernel)",
   "language": "python",
   "name": "python3"
  },
  "language_info": {
   "codemirror_mode": {
    "name": "ipython",
    "version": 3
   },
   "file_extension": ".py",
   "mimetype": "text/x-python",
   "name": "python",
   "nbconvert_exporter": "python",
   "pygments_lexer": "ipython3",
   "version": "3.9.12"
  }
 },
 "nbformat": 4,
 "nbformat_minor": 5
}
