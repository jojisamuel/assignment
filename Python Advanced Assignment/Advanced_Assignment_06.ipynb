{
 "cells": [
  {
   "cell_type": "markdown",
   "id": "cdb59e56",
   "metadata": {},
   "source": [
    "# Assignment 06 Solutions"
   ]
  },
  {
   "cell_type": "markdown",
   "id": "9dce2ceb",
   "metadata": {},
   "source": [
    "#### Q1. Describe three applications for exception processing.\n",
    "**Ans:** Exception processing in Python has three key applications:\n",
    "\n",
    "   `Error Handling` : It allows you to catch and handle specific exceptions that may occur during code execution. This helps in displaying user-friendly error messages and implementing alternative strategies to handle errors gracefully.\n",
    "\n",
    "   `Input Validation`: It enables you to validate user input and handle any invalid or unexpected input by catching input errors. This allows you to prompt users to re-enter correct input or take appropriate action.\n",
    "\n",
    "   `Resource Management`: Exception processing helps manage resources such as files or network connections by ensuring their proper cleanup, even in the presence of exceptions. This prevents resource leaks and contributes to program stability."
   ]
  },
  {
   "cell_type": "markdown",
   "id": "c82ae389",
   "metadata": {},
   "source": [
    "#### Q2. What happens if you don't do something extra to treat an exception?\n",
    "**Ans:** If we don't handle an exception in Python, it will result in an unhandled exception, causing your program to terminate abruptly. The Python interpreter will display an error message describing the exception and a stack trace showing the sequence of function calls that led to the exception."
   ]
  },
  {
   "cell_type": "markdown",
   "id": "5adab9bd",
   "metadata": {},
   "source": [
    "#### Q3. What are your options for recovering from an exception in your script?\n",
    "**Ans:** When recovering from an exception in Python, we have several options:\n",
    "\n",
    "   `Try-except blocks` : Enclose the code that may raise an exception within a try block and catch the exception using except blocks. Handle the exception and perform recovery actions within the except block.\n",
    "\n",
    "   `Multiple except blocks`: Use multiple except blocks to handle different types of exceptions individually. Specify different recovery actions based on the specific exception type that occurred.\n",
    "\n",
    "   `Catching multiple exceptions`: Catch multiple exceptions using a single except block by specifying multiple exception types as a tuple or using a common base exception type. Handle different exceptions in a similar way.\n",
    "\n",
    "   `Finally block`: Use a finally block to specify code that should execute regardless of whether an exception occurred or not. Commonly used for cleanup actions or restoring program state.\n",
    "\n",
    "   `Raising exceptions`: Recover from an exception by raising a different exception or re-raising the original exception after performing recovery actions. This allows for propagating the exception or providing additional context."
   ]
  },
  {
   "cell_type": "markdown",
   "id": "d7379d80",
   "metadata": {},
   "source": [
    "#### Q4. Describe two methods for triggering exceptions in your script ?\n",
    "**Ans:**  The two methods for triggering exceptions in our script are:\n",
    "\n",
    "   `Raise Statement`: The raise statement allows you to raise an exception explicitly at any point in your code. You can either raise built-in exceptions or create custom exceptions by deriving from the base Exception class. The raise statement is followed by the exception type and an optional error message."
   ]
  },
  {
   "cell_type": "code",
   "execution_count": 2,
   "id": "55ca2b5b",
   "metadata": {},
   "outputs": [
    {
     "name": "stdout",
     "output_type": "stream",
     "text": [
      "Division by zero is not allowed.\n"
     ]
    }
   ],
   "source": [
    "# Triggering a built-in exception (ValueError)\n",
    "def divide(x, y):\n",
    "    if y == 0:\n",
    "        raise ValueError(\"Division by zero is not allowed.\")\n",
    "    return x / y\n",
    "\n",
    "try:\n",
    "    result = divide(10, 0)\n",
    "except ValueError as e:\n",
    "    print(e)  # Output: Division by zero is not allowed."
   ]
  },
  {
   "cell_type": "markdown",
   "id": "475b196e",
   "metadata": {},
   "source": [
    "`Assertion`: The assert statement is primarily used for testing conditions during development. It triggers an AssertionError exception if the given condition is false. You can provide an optional error message as well."
   ]
  },
  {
   "cell_type": "code",
   "execution_count": 3,
   "id": "03f8923a",
   "metadata": {},
   "outputs": [
    {
     "name": "stdout",
     "output_type": "stream",
     "text": [
      "Age must be 18 or older.\n"
     ]
    }
   ],
   "source": [
    "# Triggering an AssertionError without a custom error message\n",
    "def validate_age(age):\n",
    "    assert age >= 18\n",
    "\n",
    "try:\n",
    "    validate_age(15)\n",
    "except AssertionError:\n",
    "    print(\"Age must be 18 or older.\")  # Output: Age must be 18 or older.\n"
   ]
  },
  {
   "cell_type": "markdown",
   "id": "6335bd5c",
   "metadata": {},
   "source": [
    "#### Q5. Identify two methods for specifying actions to be executed at termination time, regardless of whether or not an exception exists.\n",
    "**Ans:** The two methods for specifying actions to be executed at termination time, regardless of whether or not an exception exists:\n",
    "\n",
    "   `finally` block: The finally block is used in conjunction with the try-except block and is executed regardless of whether an exception occurs or not. It allows you to define cleanup code or actions that must be executed before the control exits the try-except block. The code within the finally block will be executed even if an exception is raised or if the try block finishes normally."
   ]
  },
  {
   "cell_type": "code",
   "execution_count": 4,
   "id": "d47a0c19",
   "metadata": {},
   "outputs": [
    {
     "name": "stdout",
     "output_type": "stream",
     "text": [
      "The result of division is: 5.0\n",
      "Cleanup: Closing resources.\n",
      "Error: Cannot divide by zero.\n",
      "Cleanup: Closing resources.\n"
     ]
    }
   ],
   "source": [
    "def divide(x, y):\n",
    "    try:\n",
    "        result = x / y\n",
    "        print(f\"The result of division is: {result}\")\n",
    "    except ZeroDivisionError:\n",
    "        print(\"Error: Cannot divide by zero.\")\n",
    "    finally:\n",
    "        print(\"Cleanup: Closing resources.\")\n",
    "        # Code to release resources or perform cleanup actions\n",
    "\n",
    "divide(10, 2)\n",
    "# Output:\n",
    "# The result of division is: 5.0\n",
    "# Cleanup: Closing resources.\n",
    "\n",
    "divide(10, 0)\n",
    "# Output:\n",
    "# Error: Cannot divide by zero.\n",
    "# Cleanup: Closing resources.\n"
   ]
  },
  {
   "cell_type": "markdown",
   "id": "53445d05",
   "metadata": {},
   "source": [
    "`else` block: The else block is executed only if no exceptions are raised within the try block. It provides a way to specify code that should run only when the try block completes successfully. This can be helpful when you want to differentiate between the successful execution of the try block and the handling of exceptions in the except block."
   ]
  },
  {
   "cell_type": "code",
   "execution_count": 5,
   "id": "d7b674a4",
   "metadata": {},
   "outputs": [
    {
     "name": "stdout",
     "output_type": "stream",
     "text": [
      "The result of division is: 5.0\n",
      "Cleanup: Closing resources.\n",
      "Error: Cannot divide by zero.\n",
      "Cleanup: Closing resources.\n"
     ]
    }
   ],
   "source": [
    "def divide(x, y):\n",
    "    try:\n",
    "        result = x / y\n",
    "    except ZeroDivisionError:\n",
    "        print(\"Error: Cannot divide by zero.\")\n",
    "    else:\n",
    "        print(f\"The result of division is: {result}\")\n",
    "    finally:\n",
    "        print(\"Cleanup: Closing resources.\")\n",
    "        # Code to release resources or perform cleanup actions\n",
    "\n",
    "divide(10, 2)\n",
    "# Output:\n",
    "# The result of division is: 5.0\n",
    "# Cleanup: Closing resources.\n",
    "\n",
    "divide(10, 0)\n",
    "# Output:\n",
    "# Error: Cannot divide by zero.\n",
    "# Cleanup: Closing resources."
   ]
  }
 ],
 "metadata": {
  "kernelspec": {
   "display_name": "Python 3 (ipykernel)",
   "language": "python",
   "name": "python3"
  },
  "language_info": {
   "codemirror_mode": {
    "name": "ipython",
    "version": 3
   },
   "file_extension": ".py",
   "mimetype": "text/x-python",
   "name": "python",
   "nbconvert_exporter": "python",
   "pygments_lexer": "ipython3",
   "version": "3.10.9"
  }
 },
 "nbformat": 4,
 "nbformat_minor": 5
}
