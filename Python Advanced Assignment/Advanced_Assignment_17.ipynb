{
 "cells": [
  {
   "cell_type": "markdown",
   "id": "48f25c62",
   "metadata": {},
   "source": [
    "# Assignment 17 Solutions"
   ]
  },
  {
   "cell_type": "markdown",
   "id": "fdba87a8",
   "metadata": {},
   "source": [
    "#### Q1. Explain the difference between greedy and non-greedy syntax with visual terms in as few words as possible. What is the bare minimum effort required to transform a greedy pattern into a non-greedy one? What characters or characters can you introduce or change?\n",
    "**Ans:**  `Greedy syntax` : Matches as much as possible.\n",
    "          `Non-greedy syntax`: Matches as little as possible.\n",
    "\n",
    "To transform a greedy pattern into a non-greedy one, the bare minimum effort required is to add a question mark ? after the quantifier * or +. This changes the pattern to its non-greedy version.\n",
    "    Greedy pattern: .* (matches zero or more of any character, as much as possible)\n",
    "    Non-greedy pattern: .*? (matches zero or more of any character, as little as possible)"
   ]
  },
  {
   "cell_type": "code",
   "execution_count": 1,
   "id": "04d4bbc1",
   "metadata": {},
   "outputs": [
    {
     "name": "stdout",
     "output_type": "stream",
     "text": [
      "Greedy matches: ['123', '456']\n",
      "Non-greedy matches: ['1', '2', '3', '4', '5', '6']\n"
     ]
    }
   ],
   "source": [
    "import re\n",
    "\n",
    "text = \"abc123def456\"\n",
    "pattern_greedy = r'\\d+'\n",
    "pattern_non_greedy = r'\\d+?'\n",
    "\n",
    "matches_greedy = re.findall(pattern_greedy, text)\n",
    "matches_non_greedy = re.findall(pattern_non_greedy, text)\n",
    "\n",
    "print(\"Greedy matches:\", matches_greedy)\n",
    "print(\"Non-greedy matches:\", matches_non_greedy)"
   ]
  },
  {
   "cell_type": "markdown",
   "id": "c91d4a1f",
   "metadata": {},
   "source": [
    "#### Q2. When exactly does greedy versus non-greedy make a difference?  What if you're looking for a non-greedy match but the only one available is greedy?\n",
    "**Ans:** Greedy versus non-greedy matching in regular expressions makes a difference when there are multiple possible matches in the input string. Greedy matching finds the longest possible match, while non-greedy matching finds the shortest possible match. However, if you specifically need a non-greedy match but only a greedy match is available, the non-greedy option may not provide the desired result. In such cases, you may need to adjust your regular expression or introduce additional constraints to achieve the desired matching behavior."
   ]
  },
  {
   "cell_type": "markdown",
   "id": "ab858979",
   "metadata": {},
   "source": [
    "#### Q3. In a simple match of a string, which looks only for one match and does not do any replacement, is the use of a nontagged group likely to make any practical difference?\n",
    "**Ans:** In a simple match of a string where you're only looking for one match and not doing any replacement, the use of a non-tagged group in the regular expression is unlikely to make a practical difference. Non-tagged groups, also known as non-capturing groups, are used to group subpatterns together without capturing the matched content. They are typically used when you need to apply modifiers or quantifiers to a group but don't need to capture the matched substring."
   ]
  },
  {
   "cell_type": "code",
   "execution_count": 2,
   "id": "66390111",
   "metadata": {},
   "outputs": [
    {
     "name": "stdout",
     "output_type": "stream",
     "text": [
      "Phone number found -> 978\n",
      "Phone number found -> 978\n"
     ]
    }
   ],
   "source": [
    "import re\n",
    "phoneNumRegex = re.compile(r'\\d\\d\\d')\n",
    "num = phoneNumRegex.search('My number is 978-667-5951.')\n",
    "print(f'Phone number found -> {num.group()}') # Non Tagged group\n",
    "print(f'Phone number found -> {num.group(0)}') # Tagged Group"
   ]
  },
  {
   "cell_type": "markdown",
   "id": "124d3ed0",
   "metadata": {},
   "source": [
    "#### Q4. Describe a scenario in which using a nontagged category would have a significant impact on the program's outcomes ?\n",
    "**Ans:** One scenario where using a non-tagged group (non-capturing group) in a regular expression can have a significant impact on the program's outcomes is when you're applying a quantifier or modifier to a group, but you don't want the matched content of that group to be captured or included in the final result."
   ]
  },
  {
   "cell_type": "code",
   "execution_count": 5,
   "id": "9f093ed2",
   "metadata": {},
   "outputs": [
    {
     "name": "stdout",
     "output_type": "stream",
     "text": [
      "['123-456-7890', '987-554-3210']\n"
     ]
    }
   ],
   "source": [
    "import re\n",
    "\n",
    "text = \"Contact No:\\nSunil Kumar\\nPhone: 123-456-7890\\nEmail: sunilkr@example.com\\n\\nJay Singh\\nPhone: 987-554-3210\\nEmail: jaysingh@example.com\"\n",
    "\n",
    "pattern = r\"(?:Phone: (\\d{3}-\\d{3}-\\d{4}))\"\n",
    "\n",
    "matches = re.findall(pattern, text)\n",
    "phone_numbers = [match for match in matches if match]\n",
    "\n",
    "print(phone_numbers)\n"
   ]
  },
  {
   "cell_type": "markdown",
   "id": "5a76e42a",
   "metadata": {},
   "source": [
    "#### Q5. Unlike a normal regex pattern, a look-ahead condition does not consume the characters it examines. Describe a situation in which this could make a difference in the results of your programme ?\n",
    "**Ans:**  One situation where the non-consumption behavior of look-ahead conditions in regular expressions can make a difference in the results of a program is when you need to match a specific pattern that is followed by another pattern but you don't want to include the following pattern in the final result."
   ]
  },
  {
   "cell_type": "code",
   "execution_count": 6,
   "id": "950316d1",
   "metadata": {},
   "outputs": [
    {
     "name": "stdout",
     "output_type": "stream",
     "text": [
      "['apple', 'banana']\n"
     ]
    }
   ],
   "source": [
    "import re\n",
    "\n",
    "text = \"apple, banana, orange\"\n",
    "\n",
    "pattern = r\"\\w+(?=,)\"\n",
    "matches = re.findall(pattern, text)\n",
    "\n",
    "print(matches)\n"
   ]
  },
  {
   "cell_type": "markdown",
   "id": "569ab4e1",
   "metadata": {},
   "source": [
    " The regular expression pattern r\"\\w+(?=,)\" uses a positive look-ahead (?=,) to match the word characters \\w+ that are followed by a comma ,."
   ]
  },
  {
   "cell_type": "markdown",
   "id": "5a6e0d8f",
   "metadata": {},
   "source": [
    "#### Q6. In standard expressions, what is the difference between positive look-ahead and negative look-ahead ?\n",
    "**Ans:**  Positive look-ahead matches a pattern only if it is followed by another pattern, while negative look-ahead matches a pattern only if it is not followed by another pattern. They do not consume the characters they examine and do not include the content of the look-ahead in the matched result. Positive look-ahead is used to find patterns that are followed by a specific pattern, while negative look-ahead is used to find patterns that are not followed by a specific pattern."
   ]
  },
  {
   "cell_type": "markdown",
   "id": "954d327f",
   "metadata": {},
   "source": [
    "#### Q7. What is the benefit of referring to groups by name rather than by number in a standard expression?\n",
    "**Ans:** Using named groups in regular expressions enhances readability, code maintainability, self-documentation, accessibility, and code portability. It helps in creating more expressive and robust regular expressions that are easier to understand and work with in the long run."
   ]
  },
  {
   "cell_type": "markdown",
   "id": "6f73ee77",
   "metadata": {},
   "source": [
    "#### Q8. Can you identify repeated items within a target string using named groups, as in \"The cow jumped over the moon\"?"
   ]
  },
  {
   "cell_type": "code",
   "execution_count": 4,
   "id": "c68dfa21",
   "metadata": {},
   "outputs": [
    {
     "data": {
      "text/plain": [
       "['The', 'the']"
      ]
     },
     "execution_count": 4,
     "metadata": {},
     "output_type": "execute_result"
    }
   ],
   "source": [
    "import re\n",
    "text = \"The cow jumped over the moon\"\n",
    "regobj=re.compile(r'(?P<w1>The)',re.I)\n",
    "regobj.findall(text)"
   ]
  },
  {
   "cell_type": "markdown",
   "id": "a2f7c46f",
   "metadata": {},
   "source": [
    "#### Q9. When parsing a string, what is at least one thing that the Scanner interface does for you that the re.findall feature does not ?\n",
    "**Ans:** **`re.findall()`** module is used to search for **`all`** occurrences that match a given pattern. In contrast, **`re.search()`** will only return the first occurrence that matches the specified pattern. **`re.findall()`** will iterate over all the lines of the file and will return all non-overlapping matches of pattern in a single step."
   ]
  },
  {
   "cell_type": "markdown",
   "id": "0b65593b",
   "metadata": {},
   "source": [
    "#### Q10. Does a scanner object have to be named scanner?\n",
    "**Ans:** No, a \"scanner\" object doesn't have to be named \"scanner\" in Python. We are free to choose any valid variable name that makes sense in the context of your code."
   ]
  }
 ],
 "metadata": {
  "kernelspec": {
   "display_name": "Python 3 (ipykernel)",
   "language": "python",
   "name": "python3"
  },
  "language_info": {
   "codemirror_mode": {
    "name": "ipython",
    "version": 3
   },
   "file_extension": ".py",
   "mimetype": "text/x-python",
   "name": "python",
   "nbconvert_exporter": "python",
   "pygments_lexer": "ipython3",
   "version": "3.10.9"
  }
 },
 "nbformat": 4,
 "nbformat_minor": 5
}
