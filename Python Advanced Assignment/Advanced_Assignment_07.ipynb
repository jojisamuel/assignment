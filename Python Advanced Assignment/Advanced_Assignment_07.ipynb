{
 "cells": [
  {
   "cell_type": "markdown",
   "id": "56306a9b",
   "metadata": {},
   "source": [
    "# Assignment 07 Solutions"
   ]
  },
  {
   "cell_type": "markdown",
   "id": "890ac6ef",
   "metadata": {},
   "source": [
    "#### Q1. What is the purpose of the try statement?\n",
    "**Ans:** The `try` statement serves the purpose of creating a controlled environment for handling exceptions. It allows you to write robust code that gracefully handles exceptional conditions, enhances the reliability of your programs, and provides a mechanism to recover from errors.."
   ]
  },
  {
   "cell_type": "code",
   "execution_count": 2,
   "id": "72d89888",
   "metadata": {},
   "outputs": [
    {
     "name": "stdout",
     "output_type": "stream",
     "text": [
      "The result of division is: 10.0\n",
      "Error: Cannot divide by zero.\n"
     ]
    }
   ],
   "source": [
    "def divide(x, y):\n",
    "    try:\n",
    "        result = x / y\n",
    "        print(f\"The result of division is: {result}\")\n",
    "    except ZeroDivisionError:\n",
    "        print(\"Error: Cannot divide by zero.\")\n",
    "\n",
    "# Division without error\n",
    "divide(20, 2)\n",
    "\n",
    "# Division with error\n",
    "divide(20, 0)"
   ]
  },
  {
   "cell_type": "markdown",
   "id": "4edfb2b6",
   "metadata": {},
   "source": [
    "#### Q2. What are the two most popular try statement variations?\n",
    "**Ans:** In Python, the two most popular variations of the try statement are:\n",
    "\n",
    "   `try-except` block: This variation is used to catch and handle specific exceptions that might occur within the try block. You can specify one or more except blocks immediately following the try block to handle different types of exceptions separately.\n",
    "   \n",
    "   `try-except-finally` block: This variation extends the try-except block by adding a finally block. The finally block is executed regardless of whether an exception is raised or not. It allows you to specify cleanup code or actions that must be performed before the control exits the try-except block."
   ]
  },
  {
   "cell_type": "markdown",
   "id": "c39b56b0",
   "metadata": {},
   "source": [
    "#### Q3. What is the purpose of the raise statement?\n",
    "**Ans:** The raise statement in Python is used to explicitly raise exceptions during program execution. Its main purposes are:\n",
    "\n",
    "   `Exception triggering`: The raise statement allows you to raise exceptions explicitly at any point in your code to indicate exceptional conditions.\n",
    "\n",
    "   `Custom exception creation`: It enables the creation and raising of custom exceptions by defining custom exception classes derived from built-in exception classes. This helps in designing and communicating specific exceptional conditions within your program.\n",
    "\n",
    "   `Exception propagation`: The raise statement facilitates the propagation of exceptions up the call stack, allowing them to be caught and handled at higher levels of the program."
   ]
  },
  {
   "cell_type": "markdown",
   "id": "2ea68550",
   "metadata": {},
   "source": [
    "#### Q4. What does the assert statement do, and what other statement is it like?\n",
    "**Ans:** The assert statement in Python is used as a debugging aid to check the truth of an expression. It is typically used to assert that certain conditions are true at specific points in the program. If the expression being asserted evaluates to False, an AssertionError exception is raised, indicating that an unexpected condition has occurred."
   ]
  },
  {
   "cell_type": "code",
   "execution_count": 5,
   "id": "6df3fe6c",
   "metadata": {},
   "outputs": [
    {
     "name": "stdout",
     "output_type": "stream",
     "text": [
      "The average is: 3.0\n"
     ]
    }
   ],
   "source": [
    "def calculate_average(numbers):\n",
    "    assert len(numbers) > 0, \"The list must not be empty.\"\n",
    "    total = sum(numbers)\n",
    "    average = total / len(numbers)\n",
    "    return average\n",
    "\n",
    "# Example 1: List with elements\n",
    "numbers = [1, 2, 3, 4, 5]\n",
    "avg = calculate_average(numbers)\n",
    "print(f\"The average is: {avg}\")"
   ]
  },
  {
   "cell_type": "code",
   "execution_count": 6,
   "id": "5e4341fe",
   "metadata": {},
   "outputs": [
    {
     "ename": "AssertionError",
     "evalue": "The list must not be empty.",
     "output_type": "error",
     "traceback": [
      "\u001b[1;31m---------------------------------------------------------------------------\u001b[0m",
      "\u001b[1;31mAssertionError\u001b[0m                            Traceback (most recent call last)",
      "Cell \u001b[1;32mIn[6], line 3\u001b[0m\n\u001b[0;32m      1\u001b[0m \u001b[38;5;66;03m# Example 2: Empty list (AssertionError)\u001b[39;00m\n\u001b[0;32m      2\u001b[0m empty_list \u001b[38;5;241m=\u001b[39m []\n\u001b[1;32m----> 3\u001b[0m avg \u001b[38;5;241m=\u001b[39m \u001b[43mcalculate_average\u001b[49m\u001b[43m(\u001b[49m\u001b[43mempty_list\u001b[49m\u001b[43m)\u001b[49m\n\u001b[0;32m      4\u001b[0m \u001b[38;5;28mprint\u001b[39m(\u001b[38;5;124mf\u001b[39m\u001b[38;5;124m\"\u001b[39m\u001b[38;5;124mThe average is: \u001b[39m\u001b[38;5;132;01m{\u001b[39;00mavg\u001b[38;5;132;01m}\u001b[39;00m\u001b[38;5;124m\"\u001b[39m)\n",
      "Cell \u001b[1;32mIn[5], line 2\u001b[0m, in \u001b[0;36mcalculate_average\u001b[1;34m(numbers)\u001b[0m\n\u001b[0;32m      1\u001b[0m \u001b[38;5;28;01mdef\u001b[39;00m \u001b[38;5;21mcalculate_average\u001b[39m(numbers):\n\u001b[1;32m----> 2\u001b[0m     \u001b[38;5;28;01massert\u001b[39;00m \u001b[38;5;28mlen\u001b[39m(numbers) \u001b[38;5;241m>\u001b[39m \u001b[38;5;241m0\u001b[39m, \u001b[38;5;124m\"\u001b[39m\u001b[38;5;124mThe list must not be empty.\u001b[39m\u001b[38;5;124m\"\u001b[39m\n\u001b[0;32m      3\u001b[0m     total \u001b[38;5;241m=\u001b[39m \u001b[38;5;28msum\u001b[39m(numbers)\n\u001b[0;32m      4\u001b[0m     average \u001b[38;5;241m=\u001b[39m total \u001b[38;5;241m/\u001b[39m \u001b[38;5;28mlen\u001b[39m(numbers)\n",
      "\u001b[1;31mAssertionError\u001b[0m: The list must not be empty."
     ]
    }
   ],
   "source": [
    "# Example 2: Empty list (AssertionError)\n",
    "empty_list = []\n",
    "avg = calculate_average(empty_list)\n",
    "print(f\"The average is: {avg}\")\n"
   ]
  },
  {
   "cell_type": "markdown",
   "id": "1cc50d65",
   "metadata": {},
   "source": [
    "#### Q5. What is the purpose of the with/as argument, and what other statement is it like?\n",
    "**Ans:** The `with/as` statement in Python is used for context management and resource handling. Its main purpose is to ensure proper initialization and cleanup of resources by automatically invoking the necessary setup and teardown methods. The with/as statement simplifies resource management, promotes clean code, and prevents resource leaks.\n",
    "The with/as statement is similar to the try/finally statement in terms of resource management. Both constructs help with automatic cleanup actions, but the with/as statement provides a more concise and readable syntax specifically tailored for managing resources."
   ]
  },
  {
   "cell_type": "code",
   "execution_count": null,
   "id": "2e94cf26",
   "metadata": {},
   "outputs": [],
   "source": [
    "# Opening a file using with/as\n",
    "with open('example.txt', 'r') as file:\n",
    "    contents = file.read()\n",
    "    print(contents)"
   ]
  }
 ],
 "metadata": {
  "kernelspec": {
   "display_name": "Python 3 (ipykernel)",
   "language": "python",
   "name": "python3"
  },
  "language_info": {
   "codemirror_mode": {
    "name": "ipython",
    "version": 3
   },
   "file_extension": ".py",
   "mimetype": "text/x-python",
   "name": "python",
   "nbconvert_exporter": "python",
   "pygments_lexer": "ipython3",
   "version": "3.10.9"
  }
 },
 "nbformat": 4,
 "nbformat_minor": 5
}
