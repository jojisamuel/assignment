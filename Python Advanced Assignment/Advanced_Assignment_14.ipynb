{
 "cells": [
  {
   "cell_type": "markdown",
   "id": "57326cf6",
   "metadata": {},
   "source": [
    "# Assignment 14 Solutions"
   ]
  },
  {
   "cell_type": "markdown",
   "id": "642bede4",
   "metadata": {},
   "source": [
    "#### Q1. Is an assignment operator like += only for show? Is it possible that it would lead to faster results at the runtime ?\n",
    "**Ans:** The assignment operator += in Python is not just for show; The += operator is used for in-place addition, which means it modifies the value of the variable in place rather than creating a new object. In the case of mutable objects like lists, it can offer performance benefits because it avoids the overhead of creating a new object and assigning it back to the variable."
   ]
  },
  {
   "cell_type": "markdown",
   "id": "edf5ed8a",
   "metadata": {},
   "source": [
    "#### Q2. What is the smallest no of statements you'd have to write in most programming languages to replace the Python expr **`a, b = a + b, a`** ?\n",
    "**Ans:** In most programming languages, you would need at least three statements to replace the Python expression a, b = a + b, a. This is because most programming languages do not support the multiple assignment feature present in Python, where multiple variables can be assigned values in a single line"
   ]
  },
  {
   "cell_type": "markdown",
   "id": "97a99e30",
   "metadata": {},
   "source": [
    "#### Q3. In Python, what is the most effective way to set a list of 100 integers to 0?\n",
    "**Ans:** The Most effective way to set a list of 100 integers to 0 in python is by using repition operator(`*`) or by using list comprehension."
   ]
  },
  {
   "cell_type": "code",
   "execution_count": 2,
   "id": "a7c86339",
   "metadata": {},
   "outputs": [
    {
     "name": "stdout",
     "output_type": "stream",
     "text": [
      "[0, 0, 0, 0, 0, 0, 0, 0, 0, 0, 0, 0, 0, 0, 0, 0, 0, 0, 0, 0, 0, 0, 0, 0, 0, 0, 0, 0, 0, 0, 0, 0, 0, 0, 0, 0, 0, 0, 0, 0, 0, 0, 0, 0, 0, 0, 0, 0, 0, 0, 0, 0, 0, 0, 0, 0, 0, 0, 0, 0, 0, 0, 0, 0, 0, 0, 0, 0, 0, 0, 0, 0, 0, 0, 0, 0, 0, 0, 0, 0, 0, 0, 0, 0, 0, 0, 0, 0, 0, 0, 0, 0, 0, 0, 0, 0, 0, 0, 0, 0]\n"
     ]
    }
   ],
   "source": [
    "zero_list = [0 for x in range(100)]\n",
    "print(zero_list)"
   ]
  },
  {
   "cell_type": "markdown",
   "id": "59d2dc95",
   "metadata": {},
   "source": [
    "#### Q4. What is the most effective way to initialise a list of 99 integers that repeats the sequence 1, 2, 3? S If necessary, show step-by-step instructions on how to accomplish this."
   ]
  },
  {
   "cell_type": "code",
   "execution_count": 3,
   "id": "a18c9175",
   "metadata": {},
   "outputs": [
    {
     "name": "stdout",
     "output_type": "stream",
     "text": [
      "[1, 2, 3, 1, 2, 3, 1, 2, 3, 1, 2, 3, 1, 2, 3, 1, 2, 3, 1, 2, 3, 1, 2, 3, 1, 2, 3, 1, 2, 3, 1, 2, 3, 1, 2, 3, 1, 2, 3, 1, 2, 3, 1, 2, 3, 1, 2, 3, 1, 2, 3, 1, 2, 3, 1, 2, 3, 1, 2, 3, 1, 2, 3, 1, 2, 3, 1, 2, 3, 1, 2, 3, 1, 2, 3, 1, 2, 3, 1, 2, 3, 1, 2, 3, 1, 2, 3, 1, 2, 3, 1, 2, 3, 1, 2, 3, 1, 2, 3]\n"
     ]
    }
   ],
   "source": [
    "my_list = [i % 3 + 1 for i in range(99)]\n",
    "print(my_list)"
   ]
  },
  {
   "cell_type": "markdown",
   "id": "70c890ab",
   "metadata": {},
   "source": [
    "#### Q5. If you're using IDLE to run a Python application, explain how to print a multidimensional list as efficiently?"
   ]
  },
  {
   "cell_type": "code",
   "execution_count": 4,
   "id": "7e38a603",
   "metadata": {},
   "outputs": [
    {
     "name": "stdout",
     "output_type": "stream",
     "text": [
      "1 2 3 \n",
      "4 5 6 \n",
      "7 8 9 \n"
     ]
    }
   ],
   "source": [
    "my_list = [[1, 2, 3], [4, 5, 6], [7, 8, 9]]\n",
    "\n",
    "for row in my_list:\n",
    "    for element in row:\n",
    "        print(element, end=' ')\n",
    "    print()  # Print a newline after each row\n"
   ]
  },
  {
   "cell_type": "markdown",
   "id": "1b0c598e",
   "metadata": {},
   "source": [
    "#### Q6. Is it possible to use list comprehension with a string? If so, how can you go about doing it?\n",
    "**Ans:** List comprehension with string is possible."
   ]
  },
  {
   "cell_type": "code",
   "execution_count": 6,
   "id": "157a00f7",
   "metadata": {},
   "outputs": [
    {
     "data": {
      "text/plain": [
       "['H', 'e', 'l', 'l', 'o', ',', ' ', 'W', 'o', 'r', 'l', 'd', '!']"
      ]
     },
     "execution_count": 6,
     "metadata": {},
     "output_type": "execute_result"
    }
   ],
   "source": [
    "my_string = \"Hello, World!\"\n",
    "char_list = [char for char in my_string]\n",
    "char_list"
   ]
  },
  {
   "cell_type": "markdown",
   "id": "80883d2f",
   "metadata": {},
   "source": [
    "#### Q7. From the command line, how do you get support with a user-written Python programme? Is this possible from inside IDLE?\n",
    "**Ans:**  **Get support with a user-written Python Programme:**\n",
    "Start a command prompt (Windows) or terminal window (Linux/Mac). If the current working directory is the same as the location in which you saved the file, you can simply specify the filename as a command-line argument to the Python interpreter. \n",
    "\n",
    "**Get support with a User-written Python Program from IDLE:**\n",
    "You can also create script files and run them in IDLE. From the Shell window menu, select **`File → New File`**. That should open an additional editing window. Type in the code to be executed. From the menu in that window, **`select File → Save or File → Save As…`** and save the file to disk. Then **`select Run → Run Module`**. The output should appear back in the interpreter"
   ]
  },
  {
   "cell_type": "markdown",
   "id": "524994b9",
   "metadata": {},
   "source": [
    "#### Q8. Functions are said to be “first-class objects” in Python but not in most other languages, such as C++ or Java. What can you do in Python with a function (callable object) that you can't do in C or C++?\n",
    "**Ans:** In Python, functions are considered \"first-class objects,\" which means they have the same capabilities as any other object in the language. This distinction allows functions in Python to be assigned to variables, passed as arguments to other functions, returned from functions, stored in data structures, and used as elements of other objects. These features provide flexibility, dynamic behavior, and expressive programming possibilities that are not typically available in languages like C or C++"
   ]
  },
  {
   "cell_type": "markdown",
   "id": "05b83463",
   "metadata": {},
   "source": [
    "#### Q9. How do you distinguish between a wrapper, a wrapped feature, and a decorator?\n",
    "**Ans:**  A wrapper is a function or object that adds functionality or modifications to a wrapped feature. It acts as an intermediary between the caller and the wrapped feature, providing additional processing or customization.\n",
    "\n",
    "The wrapped feature is the original function or object that is being wrapped or modified by a wrapper. It represents the core functionality or behavior that the wrapper enhances or extends.\n",
    "\n",
    "A decorator is a specific type of wrapper used in Python to modify the behavior of functions or classes. It is defined using the @decorator_name syntax and automatically applies the decorator to the decorated function or class. Decorators provide a concise and convenient way to apply wrappers in Python."
   ]
  },
  {
   "cell_type": "markdown",
   "id": "20f9a8cc",
   "metadata": {},
   "source": [
    "#### Q10. If a function is a generator function, what does it return?\n",
    "**Ans:** A generator function in Python returns a generator object. The generator object can be used to iterate over a sequence of values one at a time. The generator function's code is executed only when values are requested, and it uses the `yield` statement to produce each value. The generator object behaves as an iterator, allowing values to be retrieved using `for` loops or the `next()` function. Generators provide a convenient way to create sequences of values without storing them in memory all at once."
   ]
  },
  {
   "cell_type": "markdown",
   "id": "03ee7d27",
   "metadata": {},
   "source": [
    "#### Q11. What is the one improvement that must be made to a function in order for it to become a generator function in the Python language?\n",
    "**Ans:** To transform a regular function into a generator function in Python, the only necessary change is to replace the return statement with yield statements. The yield statement suspends the function's execution and returns a value each time it is encountered, preserving the function's state to resume from where it left off. "
   ]
  },
  {
   "cell_type": "code",
   "execution_count": 7,
   "id": "5bb1d6a1",
   "metadata": {},
   "outputs": [],
   "source": [
    "#Normal Function\n",
    "def my_function():\n",
    "    result = []\n",
    "    for i in range(1, 5):\n",
    "        result.append(i)\n",
    "    return result"
   ]
  },
  {
   "cell_type": "code",
   "execution_count": null,
   "id": "ab32cb5a",
   "metadata": {},
   "outputs": [],
   "source": [
    "# Generator function\n",
    "def my_generator():\n",
    "    for i in range(1, 4):\n",
    "        yield i"
   ]
  },
  {
   "cell_type": "markdown",
   "id": "ceae1939",
   "metadata": {},
   "source": [
    "#### Q12. Identify at least one benefit of generators.\n",
    "**Ans:** One benefit of generators in Python is their memory efficiency. Instead of allocating memory for the entire sequence upfront, generators only keep track of the current state and generate the next value as needed. This makes generators particularly useful when working with large or dynamically generated data, as they can generate values on-demand without requiring excessive memory resources."
   ]
  }
 ],
 "metadata": {
  "kernelspec": {
   "display_name": "Python 3 (ipykernel)",
   "language": "python",
   "name": "python3"
  },
  "language_info": {
   "codemirror_mode": {
    "name": "ipython",
    "version": 3
   },
   "file_extension": ".py",
   "mimetype": "text/x-python",
   "name": "python",
   "nbconvert_exporter": "python",
   "pygments_lexer": "ipython3",
   "version": "3.10.9"
  }
 },
 "nbformat": 4,
 "nbformat_minor": 5
}
