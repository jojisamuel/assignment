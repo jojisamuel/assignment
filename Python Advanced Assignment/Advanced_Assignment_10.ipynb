{
 "cells": [
  {
   "cell_type": "markdown",
   "id": "b8afdc36",
   "metadata": {},
   "source": [
    "# Assignment 10 Solutions"
   ]
  },
  {
   "cell_type": "markdown",
   "id": "54257650",
   "metadata": {},
   "source": [
    "#### Q1. What is the difference between `__getattr__` and `__getattribute__`?\n",
    "**Ans:** The Differences between  `__getattr__` and `__getattribute__` are:\n",
    "\n",
    "`__getattr__(self, name)`: This method is invoked when an attribute that doesn't exist is accessed. It is only called if the attribute couldn't be found through normal attribute lookup. It takes two parameters: self (the object instance) and name (the name of the attribute being accessed).If `__getattr__` is defined in a class, it is called when an attribute is not found in the instance dictionary or in the class hierarchy. It allows you to dynamically define or compute attributes on-the-fly."
   ]
  },
  {
   "cell_type": "code",
   "execution_count": 1,
   "id": "927276b7",
   "metadata": {},
   "outputs": [
    {
     "name": "stdout",
     "output_type": "stream",
     "text": [
      "Attribute 'foo' does not exist\n"
     ]
    }
   ],
   "source": [
    "class MyClass:\n",
    "    def __getattr__(self, name):\n",
    "        print(f\"Attribute '{name}' does not exist\")\n",
    "\n",
    "obj = MyClass()\n",
    "obj.foo  # Calls __getattr__('foo')"
   ]
  },
  {
   "cell_type": "markdown",
   "id": "cf22eb42",
   "metadata": {},
   "source": [
    "`__getattribute__(self, name)`: This method is called for every attribute access, regardless of whether the attribute exists or not. It is invoked before checking if the attribute is in the instance dictionary or in the class hierarchy. It takes two parameters: self (the object instance) and name (the name of the attribute being accessed).`__getattribute__` allows you to intercept and customize attribute access behavior for all attributes in a class. However, it requires caution since calling the same attribute within `__getattribute__` can lead to an infinite recursive loop if not handled properly."
   ]
  },
  {
   "cell_type": "code",
   "execution_count": 4,
   "id": "47779da7",
   "metadata": {},
   "outputs": [
    {
     "name": "stdout",
     "output_type": "stream",
     "text": [
      "Accessing attribute 'foo'\n"
     ]
    },
    {
     "ename": "AttributeError",
     "evalue": "'MyClass' object has no attribute 'foo'",
     "output_type": "error",
     "traceback": [
      "\u001b[1;31m---------------------------------------------------------------------------\u001b[0m",
      "\u001b[1;31mAttributeError\u001b[0m                            Traceback (most recent call last)",
      "Cell \u001b[1;32mIn[4], line 7\u001b[0m\n\u001b[0;32m      4\u001b[0m         \u001b[38;5;28;01mreturn\u001b[39;00m \u001b[38;5;28msuper\u001b[39m()\u001b[38;5;241m.\u001b[39m\u001b[38;5;21m__getattribute__\u001b[39m(name)  \u001b[38;5;66;03m# Call superclass implementation\u001b[39;00m\n\u001b[0;32m      6\u001b[0m obj \u001b[38;5;241m=\u001b[39m MyClass()\n\u001b[1;32m----> 7\u001b[0m \u001b[43mobj\u001b[49m\u001b[38;5;241;43m.\u001b[39;49m\u001b[43mfoo\u001b[49m\n",
      "Cell \u001b[1;32mIn[4], line 4\u001b[0m, in \u001b[0;36mMyClass.__getattribute__\u001b[1;34m(self, name)\u001b[0m\n\u001b[0;32m      2\u001b[0m \u001b[38;5;28;01mdef\u001b[39;00m \u001b[38;5;21m__getattribute__\u001b[39m(\u001b[38;5;28mself\u001b[39m, name):\n\u001b[0;32m      3\u001b[0m     \u001b[38;5;28mprint\u001b[39m(\u001b[38;5;124mf\u001b[39m\u001b[38;5;124m\"\u001b[39m\u001b[38;5;124mAccessing attribute \u001b[39m\u001b[38;5;124m'\u001b[39m\u001b[38;5;132;01m{\u001b[39;00mname\u001b[38;5;132;01m}\u001b[39;00m\u001b[38;5;124m'\u001b[39m\u001b[38;5;124m\"\u001b[39m)\n\u001b[1;32m----> 4\u001b[0m     \u001b[38;5;28;01mreturn\u001b[39;00m \u001b[38;5;28;43msuper\u001b[39;49m\u001b[43m(\u001b[49m\u001b[43m)\u001b[49m\u001b[38;5;241;43m.\u001b[39;49m\u001b[38;5;21;43m__getattribute__\u001b[39;49m\u001b[43m(\u001b[49m\u001b[43mname\u001b[49m\u001b[43m)\u001b[49m\n",
      "\u001b[1;31mAttributeError\u001b[0m: 'MyClass' object has no attribute 'foo'"
     ]
    }
   ],
   "source": [
    "class MyClass:\n",
    "    def __getattribute__(self, name):\n",
    "        print(f\"Accessing attribute '{name}'\")\n",
    "        return super().__getattribute__(name)  # Call superclass implementation\n",
    "\n",
    "obj = MyClass()\n",
    "obj.foo  # Calls __getattribute__('foo')"
   ]
  },
  {
   "cell_type": "markdown",
   "id": "51f7319c",
   "metadata": {},
   "source": [
    "#### Q2. What is the difference between properties and descriptors?\n",
    "**Ans:** Properties and descriptors are features in Python that provide ways to customize attribute access. Properties are used to encapsulate attribute access and define custom behavior for individual attributes of a class. They are defined at the class level using the @property decorator and can have getter and setter methods. Properties are commonly employed to add abstraction and validation to attribute access, allowing for the hiding of implementation details.\n",
    "\n",
    "On the other hand, descriptors are a lower-level mechanism for customizing attribute access that involves defining separate classes. Descriptors can be reused across multiple attributes and classes and offer greater flexibility. They implement the `__get__`, `__set__`, and/or `__delete__` methods to control attribute access, enabling the implementation of computed attributes, type validation, or custom access logic. Descriptors provide a way to override attribute access globally across instances or even multiple classes. Overall, properties and descriptors serve different purposes but both contribute to enhancing the customization of attribute access in Python."
   ]
  },
  {
   "cell_type": "markdown",
   "id": "3303787c",
   "metadata": {},
   "source": [
    "#### Q3. What are the key differences in functionality between __getattr__ and __getattribute__, as well as properties and descriptors?\n",
    "**Ans:** The key differences in functionality between getattr and getattribute, as well as properties and descriptors, can be summarized as follows:\n",
    "\n",
    "`__getattr__` vs. `__getattribute__`:\n",
    "\n",
    "   `__getattr__` is a built-in function in Python that is used to retrieve the value of an attribute from an object. It is called when the attribute is not found through normal attribute lookup.\n",
    "    `__getattribute__` is a special method in Python classes that is called for every attribute access, regardless of whether the attribute exists or not. It is called before the regular attribute lookup mechanism.\n",
    "    The main difference is that getattr is used when an attribute is not found, while getattribute is called for every attribute access.\n",
    "\n",
    "`Properties vs. Descriptors`:\n",
    "\n",
    "   `Properties` are a high-level way to customize attribute access in Python.\n",
    "   They are defined at the class level using the @property decorator.\n",
    "   Properties provide a convenient way to define custom behavior for getting, setting, and deleting individual attributes.\n",
    "   They allow attributes to be accessed and modified as if they were regular attributes, while executing custom code behind the scenes.\n",
    "   Properties are specific to individual attributes of a class and are commonly used for abstraction, validation, or computed attributes.\n",
    "   \n",
    "   `Descriptors` are a lower-level mechanism for customizing attribute access and can be more flexible.\n",
    "        Descriptors are separate classes that define the `__get__`, `__set__`, and/or `__delete__` methods.\n",
    "        They allow for fine-grained control over attribute access and can be reused across multiple attributes or classes.\n",
    "        Descriptors can be used to implement custom behavior for getting, setting, and deleting attributes, and can override attribute access globally.\n",
    "        They are suitable for implementing complex attribute access logic, type validation, or computed attributes."
   ]
  }
 ],
 "metadata": {
  "kernelspec": {
   "display_name": "Python 3 (ipykernel)",
   "language": "python",
   "name": "python3"
  },
  "language_info": {
   "codemirror_mode": {
    "name": "ipython",
    "version": 3
   },
   "file_extension": ".py",
   "mimetype": "text/x-python",
   "name": "python",
   "nbconvert_exporter": "python",
   "pygments_lexer": "ipython3",
   "version": "3.10.9"
  }
 },
 "nbformat": 4,
 "nbformat_minor": 5
}
